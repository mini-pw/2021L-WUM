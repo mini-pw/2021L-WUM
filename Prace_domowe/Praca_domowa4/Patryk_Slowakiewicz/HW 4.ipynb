{
 "cells": [
  {
   "cell_type": "code",
   "execution_count": 126,
   "id": "upper-special",
   "metadata": {},
   "outputs": [],
   "source": [
    "import dalex as dx\n",
    "import pandas as pd\n",
    "import numpy as np\n",
    "import matplotlib.pyplot as plt\n",
    "import seaborn as sns\n",
    "import category_encoders as ce\n",
    "import sklearn.pipeline\n",
    "from sklearn.preprocessing import OneHotEncoder, MinMaxScaler\n",
    "from sklearn.svm import SVR, SVC\n",
    "from sklearn.model_selection import GridSearchCV\n",
    "from sklearn.model_selection import train_test_split, cross_val_score\n",
    "import warnings\n",
    "warnings.filterwarnings('ignore')"
   ]
  },
  {
   "cell_type": "markdown",
   "id": "weird-spending",
   "metadata": {},
   "source": [
    "## Przygotowanie danych"
   ]
  },
  {
   "cell_type": "code",
   "execution_count": 2,
   "id": "packed-bennett",
   "metadata": {},
   "outputs": [
    {
     "data": {
      "text/html": [
       "<div>\n",
       "<style scoped>\n",
       "    .dataframe tbody tr th:only-of-type {\n",
       "        vertical-align: middle;\n",
       "    }\n",
       "\n",
       "    .dataframe tbody tr th {\n",
       "        vertical-align: top;\n",
       "    }\n",
       "\n",
       "    .dataframe thead th {\n",
       "        text-align: right;\n",
       "    }\n",
       "</style>\n",
       "<table border=\"1\" class=\"dataframe\">\n",
       "  <thead>\n",
       "    <tr style=\"text-align: right;\">\n",
       "      <th></th>\n",
       "      <th>construction_year</th>\n",
       "      <th>surface</th>\n",
       "      <th>floor</th>\n",
       "      <th>no_rooms</th>\n",
       "      <th>district</th>\n",
       "    </tr>\n",
       "  </thead>\n",
       "  <tbody>\n",
       "    <tr>\n",
       "      <th>1</th>\n",
       "      <td>1953</td>\n",
       "      <td>25</td>\n",
       "      <td>3</td>\n",
       "      <td>1</td>\n",
       "      <td>Srodmiescie</td>\n",
       "    </tr>\n",
       "    <tr>\n",
       "      <th>2</th>\n",
       "      <td>1992</td>\n",
       "      <td>143</td>\n",
       "      <td>9</td>\n",
       "      <td>5</td>\n",
       "      <td>Bielany</td>\n",
       "    </tr>\n",
       "    <tr>\n",
       "      <th>3</th>\n",
       "      <td>1937</td>\n",
       "      <td>56</td>\n",
       "      <td>1</td>\n",
       "      <td>2</td>\n",
       "      <td>Praga</td>\n",
       "    </tr>\n",
       "    <tr>\n",
       "      <th>4</th>\n",
       "      <td>1995</td>\n",
       "      <td>93</td>\n",
       "      <td>7</td>\n",
       "      <td>3</td>\n",
       "      <td>Ochota</td>\n",
       "    </tr>\n",
       "    <tr>\n",
       "      <th>5</th>\n",
       "      <td>1992</td>\n",
       "      <td>144</td>\n",
       "      <td>6</td>\n",
       "      <td>5</td>\n",
       "      <td>Mokotow</td>\n",
       "    </tr>\n",
       "  </tbody>\n",
       "</table>\n",
       "</div>"
      ],
      "text/plain": [
       "   construction_year  surface  floor  no_rooms     district\n",
       "1               1953       25      3         1  Srodmiescie\n",
       "2               1992      143      9         5      Bielany\n",
       "3               1937       56      1         2        Praga\n",
       "4               1995       93      7         3       Ochota\n",
       "5               1992      144      6         5      Mokotow"
      ]
     },
     "execution_count": 2,
     "metadata": {},
     "output_type": "execute_result"
    }
   ],
   "source": [
    "x_train = dx.datasets.load_apartments()\n",
    "y_train = x_train['m2_price']\n",
    "x_train.drop('m2_price', axis=1, inplace=True)\n",
    "\n",
    "x_test = dx.datasets.load_apartments_test()\n",
    "y_test = x_test['m2_price']\n",
    "x_test.drop('m2_price', axis= 1, inplace=True)\n",
    "\n",
    "x_train.head()"
   ]
  },
  {
   "cell_type": "code",
   "execution_count": 3,
   "id": "bottom-harassment",
   "metadata": {},
   "outputs": [],
   "source": [
    "dist = x_test['district'].unique()"
   ]
  },
  {
   "cell_type": "code",
   "execution_count": 4,
   "id": "diverse-holly",
   "metadata": {},
   "outputs": [],
   "source": [
    "enc = ce.OneHotEncoder(cols=['district'], )\n",
    "enc.fit(x_test)\n",
    "x_test = enc.fit_transform(x_test)\n",
    "x_train = enc.fit_transform(x_train)"
   ]
  },
  {
   "cell_type": "code",
   "execution_count": 5,
   "id": "distributed-picking",
   "metadata": {},
   "outputs": [],
   "source": [
    "x_test.columns.values[-10:] = dist\n",
    "x_train.columns.values[-10:] = dist"
   ]
  },
  {
   "cell_type": "code",
   "execution_count": 6,
   "id": "pressing-astrology",
   "metadata": {},
   "outputs": [],
   "source": [
    "def score_model(y, y_hat, func = (lambda x: x)):\n",
    "    l = len(y)\n",
    "    return round(sum((func(y)-func(y_hat))**2)/l, 2)"
   ]
  },
  {
   "cell_type": "markdown",
   "id": "surgical-missouri",
   "metadata": {},
   "source": [
    "## Base line\n",
    "\n",
    "Błąd średniokwadratowy ze średniej"
   ]
  },
  {
   "cell_type": "code",
   "execution_count": 7,
   "id": "crude-eligibility",
   "metadata": {},
   "outputs": [
    {
     "data": {
      "text/plain": [
       "810804.49"
      ]
     },
     "execution_count": 7,
     "metadata": {},
     "output_type": "execute_result"
    }
   ],
   "source": [
    "score_model(y_test, y_test.mean())"
   ]
  },
  {
   "cell_type": "markdown",
   "id": "extraordinary-following",
   "metadata": {},
   "source": [
    "## Pierwszy model\n",
    "\n",
    "Okazuje się gorszy od baseline"
   ]
  },
  {
   "cell_type": "code",
   "execution_count": 8,
   "id": "authentic-daughter",
   "metadata": {},
   "outputs": [],
   "source": [
    "svm = SVR()\n",
    "svm.fit(x_train, y_train)\n",
    "y_hat = svm.predict(x_test)"
   ]
  },
  {
   "cell_type": "code",
   "execution_count": 9,
   "id": "stable-storage",
   "metadata": {},
   "outputs": [
    {
     "data": {
      "text/plain": [
       "826320.67"
      ]
     },
     "execution_count": 9,
     "metadata": {},
     "output_type": "execute_result"
    }
   ],
   "source": [
    "score_model(y_test, y_hat)"
   ]
  },
  {
   "cell_type": "code",
   "execution_count": 10,
   "id": "cognitive-closure",
   "metadata": {},
   "outputs": [
    {
     "data": {
      "text/plain": [
       "<seaborn.axisgrid.FacetGrid at 0x2192a5f0a90>"
      ]
     },
     "execution_count": 10,
     "metadata": {},
     "output_type": "execute_result"
    },
    {
     "data": {
      "image/png": "[encoded data removed]",
      "text/plain": [
       "<Figure size 360x360 with 1 Axes>"
      ]
     },
     "metadata": {
      "needs_background": "light"
     },
     "output_type": "display_data"
    }
   ],
   "source": [
    "sns.displot(y_hat)"
   ]
  },
  {
   "cell_type": "code",
   "execution_count": 11,
   "id": "pressed-softball",
   "metadata": {},
   "outputs": [
    {
     "data": {
      "text/plain": [
       "<seaborn.axisgrid.FacetGrid at 0x2192c241e50>"
      ]
     },
     "execution_count": 11,
     "metadata": {},
     "output_type": "execute_result"
    },
    {
     "data": {
      "image/png": "[encoded data removed]",
      "text/plain": [
       "<Figure size 360x360 with 1 Axes>"
      ]
     },
     "metadata": {
      "needs_background": "light"
     },
     "output_type": "display_data"
    }
   ],
   "source": [
    "sns.displot(y_test)"
   ]
  },
  {
   "cell_type": "markdown",
   "id": "sensitive-doctor",
   "metadata": {},
   "source": [
    "## Skalowanie zmiennych\n",
    "\n",
    "Skaluję zmienne przy pomocy MinMaxScaler"
   ]
  },
  {
   "cell_type": "code",
   "execution_count": 12,
   "id": "unique-projector",
   "metadata": {},
   "outputs": [],
   "source": [
    "mm = MinMaxScaler()\n",
    "mm_x_train = mm.fit_transform(x_train)\n",
    "mm_x_test = mm.transform(x_test)"
   ]
  },
  {
   "cell_type": "code",
   "execution_count": 13,
   "id": "changed-mounting",
   "metadata": {},
   "outputs": [],
   "source": [
    "mm_x_train = pd.DataFrame(mm_x_train, columns=x_train.columns.values)\n",
    "mm_x_test = pd.DataFrame(mm_x_test, columns=x_train.columns.values)"
   ]
  },
  {
   "cell_type": "code",
   "execution_count": 14,
   "id": "technological-valve",
   "metadata": {},
   "outputs": [],
   "source": [
    "m = min(y_train)\n",
    "r = max(y_train)-min(y_train)\n",
    "mm_y_train = (y_train-m)/r\n",
    "mm_y_test = (y_test-m)/r"
   ]
  },
  {
   "cell_type": "markdown",
   "id": "described-success",
   "metadata": {},
   "source": [
    "## Model ze skalowaniem\n",
    "\n",
    "Okazuje się, że przeskalowanie danych znacznie poprawia predykcyjność modelu, z zaznaczeniem, że przy mierzeniu błędu średniokwadratowego przeskalowuję spowrotem uzyskane pradykcję, aby były porównywalne."
   ]
  },
  {
   "cell_type": "code",
   "execution_count": 17,
   "id": "august-niger",
   "metadata": {},
   "outputs": [],
   "source": [
    "svm2 = SVR()\n",
    "svm.fit(mm_x_train, mm_y_train)\n",
    "mm_y_hat = svm.predict(mm_x_test)"
   ]
  },
  {
   "cell_type": "code",
   "execution_count": 18,
   "id": "diagnostic-property",
   "metadata": {},
   "outputs": [
    {
     "data": {
      "text/plain": [
       "360463.38"
      ]
     },
     "execution_count": 18,
     "metadata": {},
     "output_type": "execute_result"
    }
   ],
   "source": [
    "score_model(mm_y_test, mm_y_hat, lambda x: x*r+m)"
   ]
  },
  {
   "cell_type": "markdown",
   "id": "academic-halloween",
   "metadata": {},
   "source": [
    "## Grid Search\n",
    "\n",
    "Użyłem GridSearch aby sprawdzić czy jest możliwość polepszenia predykcyjności modelu. Okazuję się, że taki model ma nieznacznie większy błąd. A jedyny parametr jaki zmieniliśmy jest C (*cost*)"
   ]
  },
  {
   "cell_type": "code",
   "execution_count": 60,
   "id": "ordinary-lloyd",
   "metadata": {},
   "outputs": [],
   "source": [
    "grid_search = {\n",
    "    'C' : np.logspace(-4, 4, 10),\n",
    "    'gamma' : ['scale', 'auto'],\n",
    "    'degree' : range(1,5),\n",
    "    'kernel' : ['linear', 'poly', 'rbf']\n",
    "}"
   ]
  },
  {
   "cell_type": "code",
   "execution_count": 61,
   "id": "national-beaver",
   "metadata": {},
   "outputs": [],
   "source": [
    "svr3 = SVR()"
   ]
  },
  {
   "cell_type": "code",
   "execution_count": 62,
   "id": "controlling-pearl",
   "metadata": {},
   "outputs": [],
   "source": [
    "gs = GridSearchCV(svr3, grid_search, cv=10)"
   ]
  },
  {
   "cell_type": "code",
   "execution_count": 63,
   "id": "dangerous-continent",
   "metadata": {},
   "outputs": [
    {
     "data": {
      "text/plain": [
       "GridSearchCV(cv=10, estimator=SVR(),\n",
       "             param_grid={'C': array([1.00000000e-04, 7.74263683e-04, 5.99484250e-03, 4.64158883e-02,\n",
       "       3.59381366e-01, 2.78255940e+00, 2.15443469e+01, 1.66810054e+02,\n",
       "       1.29154967e+03, 1.00000000e+04]),\n",
       "                         'degree': range(1, 5), 'gamma': ['scale', 'auto'],\n",
       "                         'kernel': ['linear', 'poly', 'rbf']})"
      ]
     },
     "execution_count": 63,
     "metadata": {},
     "output_type": "execute_result"
    }
   ],
   "source": [
    "gs.fit(mm_x_train, mm_y_train)"
   ]
  },
  {
   "cell_type": "code",
   "execution_count": 64,
   "id": "handy-consent",
   "metadata": {},
   "outputs": [
    {
     "data": {
      "text/plain": [
       "{'C': 0.3593813663804626, 'degree': 1, 'gamma': 'scale', 'kernel': 'rbf'}"
      ]
     },
     "execution_count": 64,
     "metadata": {},
     "output_type": "execute_result"
    }
   ],
   "source": [
    "gs.best_params_"
   ]
  },
  {
   "cell_type": "code",
   "execution_count": 65,
   "id": "angry-influence",
   "metadata": {},
   "outputs": [],
   "source": [
    "svr4 = SVR(C = 0.3593813663804626, degree= 1, gamma='scale', kernel='rbf')\n",
    "svr4.fit(mm_x_train, mm_y_train)\n",
    "gs_y_hat = svr4.predict(mm_x_test)"
   ]
  },
  {
   "cell_type": "code",
   "execution_count": 66,
   "id": "focal-right",
   "metadata": {},
   "outputs": [
    {
     "data": {
      "text/plain": [
       "360518.27"
      ]
     },
     "execution_count": 66,
     "metadata": {},
     "output_type": "execute_result"
    }
   ],
   "source": [
    "score_model(mm_y_test, gs_y_hat, lambda x: x*r+m)"
   ]
  },
  {
   "cell_type": "markdown",
   "id": "representative-canyon",
   "metadata": {},
   "source": [
    "# Zbiór nr. 2\n",
    "\n",
    "Zbiór pobrałem ze strony https://www.kaggle.com/iabhishekofficial/mobile-price-classification?select=train.csv.\n",
    "Zawiera informację o parametrach telefonach komórkowych i ich przedziale cenowym. Aby zredukować problem z multi-label classification zmapuję przedziały cenowe odpowiednio:\n",
    "- 0 -> 0\n",
    "- 1 -> 0\n",
    "- 2 -> 1\n",
    "- 3 -> 1"
   ]
  },
  {
   "cell_type": "code",
   "execution_count": 135,
   "id": "molecular-bulgaria",
   "metadata": {},
   "outputs": [],
   "source": [
    "x = pd.read_csv('train.csv')\n",
    "y = x['price_range']\n",
    "x.drop('price_range', axis = 1, inplace=True)\n",
    "y = y.map(lambda x: x//2)\n",
    "x_train, x_test, y_train, y_test = train_test_split(x, y, stratify = y, test_size=0.2, random_state=1)"
   ]
  },
  {
   "cell_type": "code",
   "execution_count": 136,
   "id": "miniature-dollar",
   "metadata": {},
   "outputs": [
    {
     "data": {
      "text/html": [
       "<div>\n",
       "<style scoped>\n",
       "    .dataframe tbody tr th:only-of-type {\n",
       "        vertical-align: middle;\n",
       "    }\n",
       "\n",
       "    .dataframe tbody tr th {\n",
       "        vertical-align: top;\n",
       "    }\n",
       "\n",
       "    .dataframe thead th {\n",
       "        text-align: right;\n",
       "    }\n",
       "</style>\n",
       "<table border=\"1\" class=\"dataframe\">\n",
       "  <thead>\n",
       "    <tr style=\"text-align: right;\">\n",
       "      <th></th>\n",
       "      <th>battery_power</th>\n",
       "      <th>blue</th>\n",
       "      <th>clock_speed</th>\n",
       "      <th>dual_sim</th>\n",
       "      <th>fc</th>\n",
       "      <th>four_g</th>\n",
       "      <th>int_memory</th>\n",
       "      <th>m_dep</th>\n",
       "      <th>mobile_wt</th>\n",
       "      <th>n_cores</th>\n",
       "      <th>pc</th>\n",
       "      <th>px_height</th>\n",
       "      <th>px_width</th>\n",
       "      <th>ram</th>\n",
       "      <th>sc_h</th>\n",
       "      <th>sc_w</th>\n",
       "      <th>talk_time</th>\n",
       "      <th>three_g</th>\n",
       "      <th>touch_screen</th>\n",
       "      <th>wifi</th>\n",
       "    </tr>\n",
       "  </thead>\n",
       "  <tbody>\n",
       "    <tr>\n",
       "      <th>1922</th>\n",
       "      <td>764</td>\n",
       "      <td>0</td>\n",
       "      <td>1.0</td>\n",
       "      <td>1</td>\n",
       "      <td>9</td>\n",
       "      <td>1</td>\n",
       "      <td>45</td>\n",
       "      <td>0.5</td>\n",
       "      <td>124</td>\n",
       "      <td>8</td>\n",
       "      <td>11</td>\n",
       "      <td>52</td>\n",
       "      <td>539</td>\n",
       "      <td>1341</td>\n",
       "      <td>19</td>\n",
       "      <td>1</td>\n",
       "      <td>12</td>\n",
       "      <td>1</td>\n",
       "      <td>0</td>\n",
       "      <td>0</td>\n",
       "    </tr>\n",
       "    <tr>\n",
       "      <th>1622</th>\n",
       "      <td>1057</td>\n",
       "      <td>1</td>\n",
       "      <td>2.7</td>\n",
       "      <td>0</td>\n",
       "      <td>3</td>\n",
       "      <td>1</td>\n",
       "      <td>41</td>\n",
       "      <td>0.1</td>\n",
       "      <td>97</td>\n",
       "      <td>4</td>\n",
       "      <td>10</td>\n",
       "      <td>397</td>\n",
       "      <td>891</td>\n",
       "      <td>2033</td>\n",
       "      <td>16</td>\n",
       "      <td>9</td>\n",
       "      <td>2</td>\n",
       "      <td>1</td>\n",
       "      <td>1</td>\n",
       "      <td>0</td>\n",
       "    </tr>\n",
       "    <tr>\n",
       "      <th>1921</th>\n",
       "      <td>569</td>\n",
       "      <td>1</td>\n",
       "      <td>2.5</td>\n",
       "      <td>1</td>\n",
       "      <td>0</td>\n",
       "      <td>0</td>\n",
       "      <td>41</td>\n",
       "      <td>0.3</td>\n",
       "      <td>124</td>\n",
       "      <td>1</td>\n",
       "      <td>1</td>\n",
       "      <td>388</td>\n",
       "      <td>605</td>\n",
       "      <td>2651</td>\n",
       "      <td>17</td>\n",
       "      <td>7</td>\n",
       "      <td>4</td>\n",
       "      <td>0</td>\n",
       "      <td>0</td>\n",
       "      <td>0</td>\n",
       "    </tr>\n",
       "    <tr>\n",
       "      <th>1499</th>\n",
       "      <td>1742</td>\n",
       "      <td>1</td>\n",
       "      <td>0.5</td>\n",
       "      <td>1</td>\n",
       "      <td>5</td>\n",
       "      <td>1</td>\n",
       "      <td>43</td>\n",
       "      <td>0.9</td>\n",
       "      <td>176</td>\n",
       "      <td>3</td>\n",
       "      <td>7</td>\n",
       "      <td>356</td>\n",
       "      <td>1407</td>\n",
       "      <td>1921</td>\n",
       "      <td>9</td>\n",
       "      <td>2</td>\n",
       "      <td>3</td>\n",
       "      <td>1</td>\n",
       "      <td>1</td>\n",
       "      <td>0</td>\n",
       "    </tr>\n",
       "    <tr>\n",
       "      <th>1082</th>\n",
       "      <td>1044</td>\n",
       "      <td>1</td>\n",
       "      <td>2.8</td>\n",
       "      <td>1</td>\n",
       "      <td>7</td>\n",
       "      <td>0</td>\n",
       "      <td>33</td>\n",
       "      <td>0.6</td>\n",
       "      <td>129</td>\n",
       "      <td>4</td>\n",
       "      <td>13</td>\n",
       "      <td>42</td>\n",
       "      <td>1262</td>\n",
       "      <td>1816</td>\n",
       "      <td>17</td>\n",
       "      <td>16</td>\n",
       "      <td>15</td>\n",
       "      <td>1</td>\n",
       "      <td>0</td>\n",
       "      <td>1</td>\n",
       "    </tr>\n",
       "  </tbody>\n",
       "</table>\n",
       "</div>"
      ],
      "text/plain": [
       "      battery_power  blue  clock_speed  dual_sim  fc  four_g  int_memory  \\\n",
       "1922            764     0          1.0         1   9       1          45   \n",
       "1622           1057     1          2.7         0   3       1          41   \n",
       "1921            569     1          2.5         1   0       0          41   \n",
       "1499           1742     1          0.5         1   5       1          43   \n",
       "1082           1044     1          2.8         1   7       0          33   \n",
       "\n",
       "      m_dep  mobile_wt  n_cores  pc  px_height  px_width   ram  sc_h  sc_w  \\\n",
       "1922    0.5        124        8  11         52       539  1341    19     1   \n",
       "1622    0.1         97        4  10        397       891  2033    16     9   \n",
       "1921    0.3        124        1   1        388       605  2651    17     7   \n",
       "1499    0.9        176        3   7        356      1407  1921     9     2   \n",
       "1082    0.6        129        4  13         42      1262  1816    17    16   \n",
       "\n",
       "      talk_time  three_g  touch_screen  wifi  \n",
       "1922         12        1             0     0  \n",
       "1622          2        1             1     0  \n",
       "1921          4        0             0     0  \n",
       "1499          3        1             1     0  \n",
       "1082         15        1             0     1  "
      ]
     },
     "execution_count": 136,
     "metadata": {},
     "output_type": "execute_result"
    }
   ],
   "source": [
    "x_train.head()"
   ]
  },
  {
   "cell_type": "markdown",
   "id": "developmental-boulder",
   "metadata": {},
   "source": [
    "## Baseline\n",
    "\n",
    "Ponieważ w naszych danych wszystkie przedziały cenowe mają taką samą ilość danych a przy podziale używamy parametru stratify to nasz baseline będzie wynosił 50%"
   ]
  },
  {
   "cell_type": "code",
   "execution_count": 137,
   "id": "equal-riding",
   "metadata": {},
   "outputs": [
    {
     "data": {
      "text/plain": [
       "<AxesSubplot:>"
      ]
     },
     "execution_count": 137,
     "metadata": {},
     "output_type": "execute_result"
    },
    {
     "data": {
      "image/png": "[encoded data removed]",
      "text/plain": [
       "<Figure size 432x288 with 1 Axes>"
      ]
     },
     "metadata": {
      "needs_background": "light"
     },
     "output_type": "display_data"
    }
   ],
   "source": [
    "y_train.hist()"
   ]
  },
  {
   "cell_type": "markdown",
   "id": "available-narrative",
   "metadata": {},
   "source": [
    "## Prosty model SVC\n",
    "\n",
    "Nawet podstawowy model bardzo dobrze przewiduję ceny telefonów z 96,5 accuracy."
   ]
  },
  {
   "cell_type": "code",
   "execution_count": 138,
   "id": "brutal-steering",
   "metadata": {},
   "outputs": [
    {
     "data": {
      "text/plain": [
       "0.965"
      ]
     },
     "execution_count": 138,
     "metadata": {},
     "output_type": "execute_result"
    }
   ],
   "source": [
    "svc = SVC()\n",
    "svc.fit(x_train, y_train)\n",
    "svc.score(x_test, y_test)"
   ]
  },
  {
   "cell_type": "code",
   "execution_count": 144,
   "id": "bearing-criminal",
   "metadata": {},
   "outputs": [
    {
     "data": {
      "text/plain": [
       "0.985625"
      ]
     },
     "execution_count": 144,
     "metadata": {},
     "output_type": "execute_result"
    }
   ],
   "source": [
    "cross_val_score(svc, x_train, y_train).mean()"
   ]
  },
  {
   "cell_type": "markdown",
   "id": "considerable-extreme",
   "metadata": {},
   "source": [
    "## SVC ze skalowaniem\n",
    "\n",
    "Skaluję dane za pomocą MinMaxScaler. A poniweaż nasz target jest już przeskalowany to wystarczy użyć to na x_train, x_test.\n",
    "\n",
    "Uzyskaliśmy bardzo ciekway wynik, ponieważ skalowanie danych pogorszyło wyniki przewidywań, aby to sprawdzić użyłem równeż walidacji krzyżowej której wyniki również były lepsze na danych nieprzeskalowanych."
   ]
  },
  {
   "cell_type": "code",
   "execution_count": 139,
   "id": "hydraulic-headset",
   "metadata": {},
   "outputs": [],
   "source": [
    "mm = MinMaxScaler()\n",
    "mm_x_train = mm.fit_transform(x_train)\n",
    "mm_x_test = mm.transform(x_test)\n",
    "mm_x_train = pd.DataFrame(mm_x_train, columns=x_train.columns.values)\n",
    "mm_x_test = pd.DataFrame(mm_x_test, columns=x_train.columns.values)"
   ]
  },
  {
   "cell_type": "code",
   "execution_count": 140,
   "id": "bizarre-whole",
   "metadata": {},
   "outputs": [
    {
     "data": {
      "text/plain": [
       "0.9325"
      ]
     },
     "execution_count": 140,
     "metadata": {},
     "output_type": "execute_result"
    }
   ],
   "source": [
    "svc2 = SVC()\n",
    "svc2.fit(mm_x_train, y_train)\n",
    "svc2.score(mm_x_test, y_test)"
   ]
  },
  {
   "cell_type": "code",
   "execution_count": 149,
   "id": "endangered-affect",
   "metadata": {},
   "outputs": [
    {
     "data": {
      "text/plain": [
       "0.95375"
      ]
     },
     "execution_count": 149,
     "metadata": {},
     "output_type": "execute_result"
    }
   ],
   "source": [
    "cross_val_score(svc, mm_x_train, y_train).mean()"
   ]
  },
  {
   "cell_type": "markdown",
   "id": "constant-insight",
   "metadata": {},
   "source": [
    "## GridSearch na SVC\n",
    "\n",
    "W tym przypaku dzięki GridSearch udało się poprawić wyniki SVC dla nieprzeskalowanych danych do 98,25% accuracy. Aby upewnić się, że skalowanie faktycznie daje gorsze wyniki jego brak, wykonałem gridsearch również dla danych przeskalowanych ale wyniki nadal były gorsze 96%."
   ]
  },
  {
   "cell_type": "code",
   "execution_count": 183,
   "id": "quantitative-metadata",
   "metadata": {},
   "outputs": [],
   "source": [
    "grid_search2 = {\n",
    "    'C' : np.logspace(-2, 2, 5),\n",
    "    'gamma' : ['scale', 'auto'],\n",
    "    'degree' : range(1,3),\n",
    "    'kernel' : ['rbf']\n",
    "}"
   ]
  },
  {
   "cell_type": "code",
   "execution_count": 184,
   "id": "optical-walker",
   "metadata": {},
   "outputs": [],
   "source": [
    "svc3 = SVC()\n",
    "gs_c = GridSearchCV(svc3, grid_search2)"
   ]
  },
  {
   "cell_type": "code",
   "execution_count": 185,
   "id": "dramatic-patio",
   "metadata": {},
   "outputs": [
    {
     "data": {
      "text/plain": [
       "GridSearchCV(estimator=SVC(),\n",
       "             param_grid={'C': array([1.e-02, 1.e-01, 1.e+00, 1.e+01, 1.e+02]),\n",
       "                         'degree': range(1, 3), 'gamma': ['scale', 'auto'],\n",
       "                         'kernel': ['rbf']})"
      ]
     },
     "execution_count": 185,
     "metadata": {},
     "output_type": "execute_result"
    }
   ],
   "source": [
    "gs_c.fit(x_train, y_train)"
   ]
  },
  {
   "cell_type": "code",
   "execution_count": 186,
   "id": "requested-tracy",
   "metadata": {},
   "outputs": [
    {
     "name": "stdout",
     "output_type": "stream",
     "text": [
      "Accuracy dla modelu nie skalowanego: 0.9825\n"
     ]
    }
   ],
   "source": [
    "print('Accuracy dla modelu nie skalowanego: ' + str(gs_c.best_estimator_.score(x_test, y_test)))"
   ]
  },
  {
   "cell_type": "code",
   "execution_count": 187,
   "id": "herbal-termination",
   "metadata": {},
   "outputs": [],
   "source": [
    "svc3 = SVC()\n",
    "gs_c2 = GridSearchCV(svc3, grid_search2)"
   ]
  },
  {
   "cell_type": "code",
   "execution_count": 188,
   "id": "dedicated-scratch",
   "metadata": {},
   "outputs": [
    {
     "data": {
      "text/plain": [
       "GridSearchCV(estimator=SVC(),\n",
       "             param_grid={'C': array([1.e-02, 1.e-01, 1.e+00, 1.e+01, 1.e+02]),\n",
       "                         'degree': range(1, 3), 'gamma': ['scale', 'auto'],\n",
       "                         'kernel': ['rbf']})"
      ]
     },
     "execution_count": 188,
     "metadata": {},
     "output_type": "execute_result"
    }
   ],
   "source": [
    "gs_c2.fit(mm_x_train, y_train)"
   ]
  },
  {
   "cell_type": "code",
   "execution_count": 189,
   "id": "cubic-flush",
   "metadata": {},
   "outputs": [
    {
     "name": "stdout",
     "output_type": "stream",
     "text": [
      "Accuracy dla modelu skalowanego: 0.96\n"
     ]
    }
   ],
   "source": [
    "print('Accuracy dla modelu skalowanego: ' + str(gs_c2.best_estimator_.score(mm_x_test, y_test)))"
   ]
  },
  {
   "cell_type": "markdown",
   "id": "elementary-crawford",
   "metadata": {},
   "source": [
    "# Wnioski\n",
    "\n",
    "Należy zauważyć, że wyniki modelowań różniły się w obu przypadkach. Na pierwszym zbiorze apartments z paczki *dalex* skalowanie danych znacznie poprawiło wyniki modelu ale już GridSearch minimalnie je pogorszył.  \n",
    "W drugim przypadku skalowanie danych przyniosło znaczące pogorsznie wyników, a w takim wypadku GridSearch przyczynił się do ich małej poprawy. "
   ]
  }
 ],
 "metadata": {
  "kernelspec": {
   "display_name": "Python 3",
   "language": "python",
   "name": "python3"
  },
  "language_info": {
   "codemirror_mode": {
    "name": "ipython",
    "version": 3
   },
   "file_extension": ".py",
   "mimetype": "text/x-python",
   "name": "python",
   "nbconvert_exporter": "python",
   "pygments_lexer": "ipython3",
   "version": "3.8.8"
  }
 },
 "nbformat": 4,
 "nbformat_minor": 5
}
