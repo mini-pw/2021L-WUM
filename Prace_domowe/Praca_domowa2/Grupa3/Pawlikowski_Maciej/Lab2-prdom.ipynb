{
 "cells": [
  {
   "cell_type": "code",
   "execution_count": null,
   "metadata": {},
   "outputs": [],
   "source": [
    "import random\n",
    "import math\n",
    "import pandas as pd\n",
    "from category_encoders import TargetEncoder\n",
    "from category_encoders import OneHotEncoder\n",
    "from category_encoders import CountEncoder\n",
    "from category_encoders import BinaryEncoder\n",
    "df=pd.read_csv(\"allegro-api-transactions.csv\")\n",
    "import warnings\n",
    "warnings.filterwarnings('ignore')"
   ]
  },
  {
   "cell_type": "markdown",
   "metadata": {},
   "source": [
    "# Zadanie domowe 2"
   ]
  },
  {
   "cell_type": "markdown",
   "metadata": {},
   "source": [
    "Zajmiemy się przekształceniem bazy allegro w pierwszej części konując jej zmienne kategoryczne, a w drugiej uzupełniając brakujące dane."
   ]
  },
  {
   "cell_type": "markdown",
   "metadata": {},
   "source": [
    "## Część pierwsza"
   ]
  },
  {
   "cell_type": "markdown",
   "metadata": {},
   "source": [
    "Rozpoczniemy od zakodowania zmiennej kategorycznej *it_location* za pomocą target encoding."
   ]
  },
  {
   "cell_type": "code",
   "execution_count": null,
   "metadata": {},
   "outputs": [],
   "source": [
    "df['it_location'].describe()"
   ]
  },
  {
   "cell_type": "markdown",
   "metadata": {},
   "source": [
    "Zauważamy, że kolumna ta przyjmuje 10056 unikalnych wartości, co świadczy o tym, że metoda *one hot encoding* nie będzie tu najlepszym pomysłem, bowiem stworzyłaby ona włąśnie tyle kolumn. Natomiast *target encoding* pozwoli zmniejszyć ilość zmiennych."
   ]
  },
  {
   "cell_type": "code",
   "execution_count": null,
   "metadata": {},
   "outputs": [],
   "source": [
    "te=TargetEncoder()\n",
    "df1=df.copy()\n",
    "df1['it_location_encoded']=te.fit_transform(df1['it_location'],df1['price'])\n",
    "df1.head()"
   ]
  },
  {
   "cell_type": "markdown",
   "metadata": {},
   "source": [
    "Stworzyliśmy w ramce danych nową kolumnę *it_location_encoded*, w której umieszczone są zakodowane wartości *it_location* za pomocą *target encoding*."
   ]
  },
  {
   "cell_type": "markdown",
   "metadata": {},
   "source": [
    "*Target encoding* polega na kodowaniu zmiennej kategorycznej jako: średniej wartości targetu(tu *price*), dla danej kategorii."
   ]
  },
  {
   "cell_type": "markdown",
   "metadata": {},
   "source": [
    "Zalety:\n",
    "   - prosty i szybki\n",
    "   - nie zwiększa wymiaru bazy danych "
   ]
  },
  {
   "cell_type": "markdown",
   "metadata": {},
   "source": [
    "Wady:\n",
    "   - jest zależny od rozkładu targetu, co oznacza, że ma skłonności do overfitting-u\n",
    "   - jest specyficzny co do danych i żadko pokazuje znaczącą poprawę"
   ]
  },
  {
   "cell_type": "code",
   "execution_count": null,
   "metadata": {},
   "outputs": [],
   "source": [
    "ohe=OneHotEncoder(use_cat_names=True)\n",
    "df2=df.copy()\n",
    "df2=df2.join(ohe.fit_transform(df2.main_category))\n",
    "df2.head()"
   ]
  },
  {
   "cell_type": "markdown",
   "metadata": {},
   "source": [
    "Stworzyliśmy w ramce danych nowe kolumny, które kodują wartości *main_category* za pomocą one hot encoding. Dokonuje tego poprzez stworzenie po jednej kolumnie dla każdej unikalnej wartości w kolumnie *main_category*"
   ]
  },
  {
   "cell_type": "markdown",
   "metadata": {},
   "source": [
    "Zalety:\n",
    "   - działa dobrze z nominalnymi danymi"
   ]
  },
  {
   "cell_type": "markdown",
   "metadata": {},
   "source": [
    "Wady:\n",
    "   - może stworzyć naprawdę duże ramki danych"
   ]
  },
  {
   "cell_type": "code",
   "execution_count": null,
   "metadata": {},
   "outputs": [],
   "source": [
    "be=BinaryEncoder()\n",
    "df3=df.copy()\n",
    "df3=df3.join(be.fit_transform(df3.main_category))\n",
    "df3.head()"
   ]
  },
  {
   "cell_type": "markdown",
   "metadata": {},
   "source": [
    "Stworzyliśmy w ramce danych nowe kolumny, które kodują wartości *main_category* za pomocą *binary encoding*. Działa ono podobnie jak *one hot*, ale przechowuje wartości jako binarne bitstring-i."
   ]
  },
  {
   "cell_type": "markdown",
   "metadata": {},
   "source": [
    "Co prawda metoda ta nie tworzy tak wielu kolumn jak one hot, ale przypomina przez to zbytnio *ordinal encoder* tyle, że w postaci binarnej."
   ]
  },
  {
   "cell_type": "code",
   "execution_count": null,
   "metadata": {},
   "outputs": [],
   "source": [
    "ce=CountEncoder()\n",
    "df4=df.copy()\n",
    "df4['main_category_encoded']=ce.fit_transform(df4.main_category)\n",
    "df4.head()"
   ]
  },
  {
   "cell_type": "markdown",
   "metadata": {},
   "source": [
    "Stworzyliśmy w ramce danych nowe kolumny, które kodują wartości *main_category* za pomocą *count encoding*. Dokonuje tego zamieniając każdą wartość kategoryczną ilością jej wystąpień."
   ]
  },
  {
   "cell_type": "markdown",
   "metadata": {},
   "source": [
    "Metoda ta może powodować wiele problemów np. gdy kolumna zawiera tylko dwie wartości kategoryczne i każda z nich występuje dokładnie tyle samo razy."
   ]
  },
  {
   "cell_type": "markdown",
   "metadata": {},
   "source": [
    "## Część druga"
   ]
  },
  {
   "cell_type": "markdown",
   "metadata": {},
   "source": [
    "Rozpoczniemy od ograniczenia bazy danych do zmiennych numerycznych."
   ]
  },
  {
   "cell_type": "code",
   "execution_count": null,
   "metadata": {},
   "outputs": [],
   "source": [
    "from sklearn.experimental import enable_iterative_imputer\n",
    "from sklearn.impute import IterativeImputer\n",
    "from sklearn.metrics import mean_squared_error\n",
    "import seaborn as sns\n",
    "import numpy as np"
   ]
  },
  {
   "cell_type": "code",
   "execution_count": null,
   "metadata": {},
   "outputs": [],
   "source": [
    "def seller_rating():\n",
    "    answer1=[0 for i in range(10)]\n",
    "    answer=pd.DataFrame()\n",
    "    for i in range(10):\n",
    "        copy=df.loc[:,['price', 'it_seller_rating', 'it_quantity']].copy()\n",
    "        random_sample1=random.sample(range(0,df.shape[0]),math.floor(df.shape[0]*0.1))\n",
    "        copy.iloc[random_sample1,1]=None\n",
    "\n",
    "        imp=IterativeImputer(max_iter=10,random_state=21)\n",
    "        ans=pd.DataFrame(imp.fit_transform(copy),columns=['price', 'it_seller_rating', 'it_quantity'])\n",
    "        answer1[i] = math.sqrt(mean_squared_error(df['it_seller_rating'], ans['it_seller_rating']))\n",
    "\n",
    "    answer['it_seller_rating']=answer1\n",
    "    return answer"
   ]
  },
  {
   "cell_type": "code",
   "execution_count": null,
   "metadata": {},
   "outputs": [],
   "source": [
    "def both():\n",
    "    answer1=[0 for i in range(10)]\n",
    "    answer2=[0 for i in range(10)]\n",
    "    answer=pd.DataFrame()\n",
    "    for i in range(10):\n",
    "        copy=df.loc[:,['price', 'it_seller_rating', 'it_quantity']].copy()\n",
    "        random_sample1=random.sample(range(0,df.shape[0]),math.floor(df.shape[0]*0.1))\n",
    "        random_sample2=random.sample(range(0,df.shape[0]),math.floor(df.shape[0]*0.1))\n",
    "        copy.iloc[random_sample1,1]=None\n",
    "        copy.iloc[random_sample2,2]=None\n",
    "        imp=IterativeImputer(max_iter=10,random_state=21)\n",
    "        ans=pd.DataFrame(imp.fit_transform(copy),columns=['price', 'it_seller_rating', 'it_quantity'])\n",
    "        answer1[i] = math.sqrt(mean_squared_error(df['it_seller_rating'], ans['it_seller_rating']))\n",
    "        answer2[i]=math.sqrt(mean_squared_error(df['it_quantity'], ans['it_quantity']))\n",
    "    answer['it_seller_rating']=answer1\n",
    "    answer['it_quantity']=answer2\n",
    "    return answer"
   ]
  },
  {
   "cell_type": "code",
   "execution_count": null,
   "metadata": {},
   "outputs": [],
   "source": [
    "answer1=seller_rating()"
   ]
  },
  {
   "cell_type": "code",
   "execution_count": null,
   "metadata": {},
   "outputs": [],
   "source": [
    "answer=both()"
   ]
  },
  {
   "cell_type": "code",
   "execution_count": null,
   "metadata": {},
   "outputs": [],
   "source": [
    "plotdata=pd.DataFrame()\n",
    "plotdata['one_variable_missing']=answer1['it_seller_rating']\n",
    "plotdata['two_variables_missing']=answer['it_seller_rating']\n",
    "sns.boxplot(data=pd.melt(plotdata),x='variable', y='value')"
   ]
  },
  {
   "cell_type": "markdown",
   "metadata": {},
   "source": [
    "Z powyższego wykresu łatwo wywnioskować, że algorytm gorzej działa, gdy brakuje więcej niż jednego argumentu."
   ]
  }
 ],
 "metadata": {
  "kernelspec": {
   "display_name": "Python 3",
   "language": "python",
   "name": "python3"
  },
  "language_info": {
   "codemirror_mode": {
    "name": "ipython",
    "version": 3
   },
   "file_extension": ".py",
   "mimetype": "text/x-python",
   "name": "python",
   "nbconvert_exporter": "python",
   "pygments_lexer": "ipython3",
   "version": "3.8.5"
  }
 },
 "nbformat": 4,
 "nbformat_minor": 4
}
