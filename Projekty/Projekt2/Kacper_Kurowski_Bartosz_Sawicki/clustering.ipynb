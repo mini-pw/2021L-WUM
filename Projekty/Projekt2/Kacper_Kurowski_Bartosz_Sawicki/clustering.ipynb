{
 "cells": [
  {
   "cell_type": "code",
   "execution_count": 1,
   "metadata": {},
   "outputs": [],
   "source": [
    "\n",
    "\n",
    "import pandas as pd\n",
    "import numpy as np\n",
    "import seaborn as sns\n",
    "\n",
    "from itertools import combinations, permutations\n",
    "from matplotlib import pyplot as plt\n",
    "from scipy.stats import entropy\n",
    "from scipy.special import kl_div\n",
    "from utils import get_data_train\n",
    "\n"
   ]
  },
  {
   "cell_type": "code",
   "execution_count": 2,
   "metadata": {},
   "outputs": [],
   "source": [
    "df = get_data_train()\n",
    "n_bins = 5 # tu możemy wybrać różną liczbę kuełków go generowania histogramów\n",
    "            # liczbę przedziałów na jakich będziemy liczyć dywergencję"
   ]
  },
  {
   "cell_type": "code",
   "execution_count": 3,
   "metadata": {},
   "outputs": [
    {
     "data": {
      "text/plain": [
       "{'LAYING': None,\n",
       " 'SITTING': None,\n",
       " 'STANDING': None,\n",
       " 'WALKING': None,\n",
       " 'WALKING_DOWNSTAIRS': None,\n",
       " 'WALKING_UPSTAIRS': None}"
      ]
     },
     "execution_count": 3,
     "metadata": {},
     "output_type": "execute_result"
    }
   ],
   "source": [
    "activities = np.unique(df['activity'])\n",
    "activities_dict = {activity: None for activity in activities}\n",
    "activities_dict\n"
   ]
  },
  {
   "cell_type": "code",
   "execution_count": 4,
   "metadata": {},
   "outputs": [],
   "source": [
    "for activity in activities_dict.keys():\n",
    "    numerical_features = df[df['activity']==activity].drop(['activity', 'subject'], axis='columns')\n",
    "    activities_dict[activity] = numerical_features.apply(\n",
    "        lambda column: \n",
    "        np.histogram(column, bins=n_bins, density=True, range=(-1,1))[0])"
   ]
  },
  {
   "cell_type": "code",
   "execution_count": 5,
   "metadata": {},
   "outputs": [],
   "source": [
    "\n",
    "\n",
    "combi_colnames = list(map('-'.join, list(permutations(activities,2))))\n",
    "combi_df = pd.DataFrame(columns = combi_colnames)\n",
    "\n",
    "numerical_features = df.drop(['activity', 'subject'], axis='columns').columns\n",
    "for feature in numerical_features:\n",
    "    combi_df = combi_df.append(pd.Series(np.repeat(feature, 30), name=feature, index=combi_colnames))\n",
    "\n"
   ]
  },
  {
   "cell_type": "code",
   "execution_count": 6,
   "metadata": {},
   "outputs": [],
   "source": [
    "def replace_inf_and_sum(feature1, feature2, x):\n",
    "    kl = kl_div(\n",
    "        activities_dict[feature1][x],\n",
    "        activities_dict[feature2][x])\n",
    "    return sum(map(lambda x: 100 if x>100 else x, kl))\n",
    "\n",
    "def count_inf(feature1, feature2, x):\n",
    "    return sum(\n",
    "        np.isinf(          # tu zliczamy infy\n",
    "            kl_div(\n",
    "                activities_dict[feature1][x],\n",
    "                activities_dict[feature2][x])))\n",
    "\n",
    "def take_median(feature1, feature2, x):\n",
    "    return np.median(          \n",
    "            kl_div(\n",
    "                activities_dict[feature1][x],\n",
    "                activities_dict[feature2][x]))"
   ]
  },
  {
   "cell_type": "code",
   "execution_count": 7,
   "metadata": {},
   "outputs": [],
   "source": [
    "def apply_to_column(column):\n",
    "    feature1, feature2 = column.name.split('-')\n",
    "    return column.apply(lambda x: replace_inf_and_sum(feature1, feature2, x)) # w tej lambdzie można wybrać inną funkcję\n",
    "\n",
    "\n",
    "result = combi_df.apply(apply_to_column)"
   ]
  },
  {
   "cell_type": "code",
   "execution_count": 8,
   "metadata": {},
   "outputs": [],
   "source": [
    "chosen_best = result.apply(lambda x: max(x), axis=1).sort_values(ascending=False).head(20).index.to_list()\n",
    "avg_best = result.apply(lambda x: sum(x), axis=1).sort_values(ascending=False).head(20).index.to_list()"
   ]
  },
  {
   "cell_type": "code",
   "execution_count": null,
   "metadata": {},
   "outputs": [],
   "source": [
    "def plot_var(varname):\n",
    "    sns.displot(df, x=varname, hue='activity', kind='kde')#bins=n_bins, multiple='dodge')\n",
    "    plt.show()"
   ]
  },
  {
   "cell_type": "code",
   "execution_count": null,
   "metadata": {},
   "outputs": [],
   "source": [
    "for varname in chosen_best: # lub alternatywnie chosen_best\n",
    "    plot_var(varname)"
   ]
  },
  {
   "cell_type": "code",
   "execution_count": null,
   "metadata": {},
   "outputs": [],
   "source": [
    "chosen_best"
   ]
  },
  {
   "cell_type": "code",
   "execution_count": 12,
   "metadata": {},
   "outputs": [],
   "source": [
    "best_with_categorical = chosen_best + ['activity', 'subject']"
   ]
  },
  {
   "cell_type": "code",
   "execution_count": 13,
   "metadata": {},
   "outputs": [],
   "source": [
    "df_chosen = pd.DataFrame( df[ best_with_categorical])"
   ]
  },
  {
   "cell_type": "code",
   "execution_count": 14,
   "metadata": {},
   "outputs": [
    {
     "data": {
      "text/html": [
       "<div>\n",
       "<style scoped>\n",
       "    .dataframe tbody tr th:only-of-type {\n",
       "        vertical-align: middle;\n",
       "    }\n",
       "\n",
       "    .dataframe tbody tr th {\n",
       "        vertical-align: top;\n",
       "    }\n",
       "\n",
       "    .dataframe thead th {\n",
       "        text-align: right;\n",
       "    }\n",
       "</style>\n",
       "<table border=\"1\" class=\"dataframe\">\n",
       "  <thead>\n",
       "    <tr style=\"text-align: right;\">\n",
       "      <th></th>\n",
       "      <th>fBodyAcc-mean()-X</th>\n",
       "      <th>tBodyAcc-mad()-X</th>\n",
       "      <th>fBodyAcc-std()-X</th>\n",
       "      <th>tGravityAcc-mean()-X</th>\n",
       "      <th>fBodyGyro-sma()</th>\n",
       "      <th>tBodyAcc-max()-X</th>\n",
       "      <th>tBodyAcc-std()-X</th>\n",
       "      <th>fBodyAcc-mad()-X</th>\n",
       "      <th>fBodyAccJerk-mean()-Y</th>\n",
       "      <th>tBodyAccJerk-mad()-Y</th>\n",
       "      <th>...</th>\n",
       "      <th>tGravityAccMag-entropy()</th>\n",
       "      <th>fBodyAcc-max()-X</th>\n",
       "      <th>tGravityAcc-max()-X</th>\n",
       "      <th>fBodyBodyAccJerkMag-mad()</th>\n",
       "      <th>tBodyAccJerk-std()-Y</th>\n",
       "      <th>fBodyAccMag-iqr()</th>\n",
       "      <th>fBodyAccJerk-mad()-Y</th>\n",
       "      <th>tBodyAccJerk-iqr()-X</th>\n",
       "      <th>activity</th>\n",
       "      <th>subject</th>\n",
       "    </tr>\n",
       "  </thead>\n",
       "  <tbody>\n",
       "    <tr>\n",
       "      <th>0</th>\n",
       "      <td>-0.994783</td>\n",
       "      <td>-0.995112</td>\n",
       "      <td>-0.995422</td>\n",
       "      <td>0.963396</td>\n",
       "      <td>-0.985276</td>\n",
       "      <td>-0.934724</td>\n",
       "      <td>-0.995279</td>\n",
       "      <td>-0.996889</td>\n",
       "      <td>-0.987170</td>\n",
       "      <td>-0.986207</td>\n",
       "      <td>...</td>\n",
       "      <td>-0.232582</td>\n",
       "      <td>-0.993756</td>\n",
       "      <td>0.892055</td>\n",
       "      <td>-0.991976</td>\n",
       "      <td>-0.988360</td>\n",
       "      <td>-0.973273</td>\n",
       "      <td>-0.990519</td>\n",
       "      <td>-0.994364</td>\n",
       "      <td>STANDING</td>\n",
       "      <td>1</td>\n",
       "    </tr>\n",
       "    <tr>\n",
       "      <th>1</th>\n",
       "      <td>-0.997451</td>\n",
       "      <td>-0.998807</td>\n",
       "      <td>-0.998680</td>\n",
       "      <td>0.966561</td>\n",
       "      <td>-0.986869</td>\n",
       "      <td>-0.943068</td>\n",
       "      <td>-0.998245</td>\n",
       "      <td>-0.997890</td>\n",
       "      <td>-0.981311</td>\n",
       "      <td>-0.978938</td>\n",
       "      <td>...</td>\n",
       "      <td>-0.441876</td>\n",
       "      <td>-0.999372</td>\n",
       "      <td>0.892060</td>\n",
       "      <td>-0.989732</td>\n",
       "      <td>-0.981064</td>\n",
       "      <td>-0.984479</td>\n",
       "      <td>-0.982929</td>\n",
       "      <td>-0.993863</td>\n",
       "      <td>STANDING</td>\n",
       "      <td>1</td>\n",
       "    </tr>\n",
       "    <tr>\n",
       "      <th>2</th>\n",
       "      <td>-0.993594</td>\n",
       "      <td>-0.996520</td>\n",
       "      <td>-0.996313</td>\n",
       "      <td>0.966878</td>\n",
       "      <td>-0.986009</td>\n",
       "      <td>-0.938692</td>\n",
       "      <td>-0.995380</td>\n",
       "      <td>-0.994097</td>\n",
       "      <td>-0.981642</td>\n",
       "      <td>-0.979300</td>\n",
       "      <td>...</td>\n",
       "      <td>-0.599939</td>\n",
       "      <td>-0.998158</td>\n",
       "      <td>0.892401</td>\n",
       "      <td>-0.987274</td>\n",
       "      <td>-0.980956</td>\n",
       "      <td>-0.989237</td>\n",
       "      <td>-0.981091</td>\n",
       "      <td>-0.987846</td>\n",
       "      <td>STANDING</td>\n",
       "      <td>1</td>\n",
       "    </tr>\n",
       "    <tr>\n",
       "      <th>3</th>\n",
       "      <td>-0.995491</td>\n",
       "      <td>-0.997099</td>\n",
       "      <td>-0.996312</td>\n",
       "      <td>0.967615</td>\n",
       "      <td>-0.990344</td>\n",
       "      <td>-0.938692</td>\n",
       "      <td>-0.996091</td>\n",
       "      <td>-0.994547</td>\n",
       "      <td>-0.988727</td>\n",
       "      <td>-0.985717</td>\n",
       "      <td>...</td>\n",
       "      <td>-0.589006</td>\n",
       "      <td>-0.997404</td>\n",
       "      <td>0.893817</td>\n",
       "      <td>-0.989055</td>\n",
       "      <td>-0.987553</td>\n",
       "      <td>-0.983215</td>\n",
       "      <td>-0.987145</td>\n",
       "      <td>-0.994678</td>\n",
       "      <td>STANDING</td>\n",
       "      <td>1</td>\n",
       "    </tr>\n",
       "    <tr>\n",
       "      <th>4</th>\n",
       "      <td>-0.997286</td>\n",
       "      <td>-0.998321</td>\n",
       "      <td>-0.998606</td>\n",
       "      <td>0.968224</td>\n",
       "      <td>-0.988706</td>\n",
       "      <td>-0.942469</td>\n",
       "      <td>-0.998139</td>\n",
       "      <td>-0.997725</td>\n",
       "      <td>-0.988790</td>\n",
       "      <td>-0.986537</td>\n",
       "      <td>...</td>\n",
       "      <td>-0.704599</td>\n",
       "      <td>-0.999277</td>\n",
       "      <td>0.893817</td>\n",
       "      <td>-0.993305</td>\n",
       "      <td>-0.988359</td>\n",
       "      <td>-0.997343</td>\n",
       "      <td>-0.988867</td>\n",
       "      <td>-0.995888</td>\n",
       "      <td>STANDING</td>\n",
       "      <td>1</td>\n",
       "    </tr>\n",
       "    <tr>\n",
       "      <th>...</th>\n",
       "      <td>...</td>\n",
       "      <td>...</td>\n",
       "      <td>...</td>\n",
       "      <td>...</td>\n",
       "      <td>...</td>\n",
       "      <td>...</td>\n",
       "      <td>...</td>\n",
       "      <td>...</td>\n",
       "      <td>...</td>\n",
       "      <td>...</td>\n",
       "      <td>...</td>\n",
       "      <td>...</td>\n",
       "      <td>...</td>\n",
       "      <td>...</td>\n",
       "      <td>...</td>\n",
       "      <td>...</td>\n",
       "      <td>...</td>\n",
       "      <td>...</td>\n",
       "      <td>...</td>\n",
       "      <td>...</td>\n",
       "      <td>...</td>\n",
       "    </tr>\n",
       "    <tr>\n",
       "      <th>7347</th>\n",
       "      <td>-0.131366</td>\n",
       "      <td>-0.282301</td>\n",
       "      <td>-0.221989</td>\n",
       "      <td>0.923148</td>\n",
       "      <td>-0.223417</td>\n",
       "      <td>0.210795</td>\n",
       "      <td>-0.195387</td>\n",
       "      <td>-0.050748</td>\n",
       "      <td>-0.340391</td>\n",
       "      <td>-0.325092</td>\n",
       "      <td>...</td>\n",
       "      <td>0.814509</td>\n",
       "      <td>-0.318185</td>\n",
       "      <td>0.867718</td>\n",
       "      <td>-0.221443</td>\n",
       "      <td>-0.356428</td>\n",
       "      <td>-0.101796</td>\n",
       "      <td>-0.369551</td>\n",
       "      <td>-0.439171</td>\n",
       "      <td>WALKING_UPSTAIRS</td>\n",
       "      <td>30</td>\n",
       "    </tr>\n",
       "    <tr>\n",
       "      <th>7348</th>\n",
       "      <td>-0.159077</td>\n",
       "      <td>-0.322552</td>\n",
       "      <td>-0.267430</td>\n",
       "      <td>0.918343</td>\n",
       "      <td>-0.298720</td>\n",
       "      <td>0.117440</td>\n",
       "      <td>-0.235309</td>\n",
       "      <td>-0.177661</td>\n",
       "      <td>-0.347117</td>\n",
       "      <td>-0.353584</td>\n",
       "      <td>...</td>\n",
       "      <td>0.836935</td>\n",
       "      <td>-0.332146</td>\n",
       "      <td>0.866116</td>\n",
       "      <td>-0.258246</td>\n",
       "      <td>-0.386212</td>\n",
       "      <td>-0.363379</td>\n",
       "      <td>-0.452306</td>\n",
       "      <td>-0.381927</td>\n",
       "      <td>WALKING_UPSTAIRS</td>\n",
       "      <td>30</td>\n",
       "    </tr>\n",
       "    <tr>\n",
       "      <th>7349</th>\n",
       "      <td>-0.345767</td>\n",
       "      <td>-0.304515</td>\n",
       "      <td>-0.173212</td>\n",
       "      <td>0.919810</td>\n",
       "      <td>-0.320389</td>\n",
       "      <td>0.043999</td>\n",
       "      <td>-0.218218</td>\n",
       "      <td>-0.249486</td>\n",
       "      <td>-0.367945</td>\n",
       "      <td>-0.361106</td>\n",
       "      <td>...</td>\n",
       "      <td>0.844283</td>\n",
       "      <td>-0.160368</td>\n",
       "      <td>0.854641</td>\n",
       "      <td>-0.347359</td>\n",
       "      <td>-0.378177</td>\n",
       "      <td>-0.444155</td>\n",
       "      <td>-0.425311</td>\n",
       "      <td>-0.286234</td>\n",
       "      <td>WALKING_UPSTAIRS</td>\n",
       "      <td>30</td>\n",
       "    </tr>\n",
       "    <tr>\n",
       "      <th>7350</th>\n",
       "      <td>-0.400368</td>\n",
       "      <td>-0.310487</td>\n",
       "      <td>-0.158192</td>\n",
       "      <td>0.922323</td>\n",
       "      <td>-0.411943</td>\n",
       "      <td>0.101702</td>\n",
       "      <td>-0.219139</td>\n",
       "      <td>-0.247028</td>\n",
       "      <td>-0.458305</td>\n",
       "      <td>-0.395983</td>\n",
       "      <td>...</td>\n",
       "      <td>0.779385</td>\n",
       "      <td>-0.147421</td>\n",
       "      <td>0.855988</td>\n",
       "      <td>-0.336879</td>\n",
       "      <td>-0.406063</td>\n",
       "      <td>-0.533311</td>\n",
       "      <td>-0.437944</td>\n",
       "      <td>-0.364377</td>\n",
       "      <td>WALKING_UPSTAIRS</td>\n",
       "      <td>30</td>\n",
       "    </tr>\n",
       "    <tr>\n",
       "      <th>7351</th>\n",
       "      <td>-0.265262</td>\n",
       "      <td>-0.377404</td>\n",
       "      <td>-0.270794</td>\n",
       "      <td>0.918707</td>\n",
       "      <td>-0.268214</td>\n",
       "      <td>0.269013</td>\n",
       "      <td>-0.269270</td>\n",
       "      <td>-0.114475</td>\n",
       "      <td>-0.482739</td>\n",
       "      <td>-0.447731</td>\n",
       "      <td>...</td>\n",
       "      <td>0.753464</td>\n",
       "      <td>-0.417612</td>\n",
       "      <td>0.855988</td>\n",
       "      <td>-0.191078</td>\n",
       "      <td>-0.469368</td>\n",
       "      <td>-0.215984</td>\n",
       "      <td>-0.460940</td>\n",
       "      <td>-0.460572</td>\n",
       "      <td>WALKING_UPSTAIRS</td>\n",
       "      <td>30</td>\n",
       "    </tr>\n",
       "  </tbody>\n",
       "</table>\n",
       "<p>7352 rows × 22 columns</p>\n",
       "</div>"
      ],
      "text/plain": [
       "      fBodyAcc-mean()-X  tBodyAcc-mad()-X  fBodyAcc-std()-X  \\\n",
       "0             -0.994783         -0.995112         -0.995422   \n",
       "1             -0.997451         -0.998807         -0.998680   \n",
       "2             -0.993594         -0.996520         -0.996313   \n",
       "3             -0.995491         -0.997099         -0.996312   \n",
       "4             -0.997286         -0.998321         -0.998606   \n",
       "...                 ...               ...               ...   \n",
       "7347          -0.131366         -0.282301         -0.221989   \n",
       "7348          -0.159077         -0.322552         -0.267430   \n",
       "7349          -0.345767         -0.304515         -0.173212   \n",
       "7350          -0.400368         -0.310487         -0.158192   \n",
       "7351          -0.265262         -0.377404         -0.270794   \n",
       "\n",
       "      tGravityAcc-mean()-X  fBodyGyro-sma()  tBodyAcc-max()-X  \\\n",
       "0                 0.963396        -0.985276         -0.934724   \n",
       "1                 0.966561        -0.986869         -0.943068   \n",
       "2                 0.966878        -0.986009         -0.938692   \n",
       "3                 0.967615        -0.990344         -0.938692   \n",
       "4                 0.968224        -0.988706         -0.942469   \n",
       "...                    ...              ...               ...   \n",
       "7347              0.923148        -0.223417          0.210795   \n",
       "7348              0.918343        -0.298720          0.117440   \n",
       "7349              0.919810        -0.320389          0.043999   \n",
       "7350              0.922323        -0.411943          0.101702   \n",
       "7351              0.918707        -0.268214          0.269013   \n",
       "\n",
       "      tBodyAcc-std()-X  fBodyAcc-mad()-X  fBodyAccJerk-mean()-Y  \\\n",
       "0            -0.995279         -0.996889              -0.987170   \n",
       "1            -0.998245         -0.997890              -0.981311   \n",
       "2            -0.995380         -0.994097              -0.981642   \n",
       "3            -0.996091         -0.994547              -0.988727   \n",
       "4            -0.998139         -0.997725              -0.988790   \n",
       "...                ...               ...                    ...   \n",
       "7347         -0.195387         -0.050748              -0.340391   \n",
       "7348         -0.235309         -0.177661              -0.347117   \n",
       "7349         -0.218218         -0.249486              -0.367945   \n",
       "7350         -0.219139         -0.247028              -0.458305   \n",
       "7351         -0.269270         -0.114475              -0.482739   \n",
       "\n",
       "      tBodyAccJerk-mad()-Y  ...  tGravityAccMag-entropy()  fBodyAcc-max()-X  \\\n",
       "0                -0.986207  ...                 -0.232582         -0.993756   \n",
       "1                -0.978938  ...                 -0.441876         -0.999372   \n",
       "2                -0.979300  ...                 -0.599939         -0.998158   \n",
       "3                -0.985717  ...                 -0.589006         -0.997404   \n",
       "4                -0.986537  ...                 -0.704599         -0.999277   \n",
       "...                    ...  ...                       ...               ...   \n",
       "7347             -0.325092  ...                  0.814509         -0.318185   \n",
       "7348             -0.353584  ...                  0.836935         -0.332146   \n",
       "7349             -0.361106  ...                  0.844283         -0.160368   \n",
       "7350             -0.395983  ...                  0.779385         -0.147421   \n",
       "7351             -0.447731  ...                  0.753464         -0.417612   \n",
       "\n",
       "      tGravityAcc-max()-X  fBodyBodyAccJerkMag-mad()  tBodyAccJerk-std()-Y  \\\n",
       "0                0.892055                  -0.991976             -0.988360   \n",
       "1                0.892060                  -0.989732             -0.981064   \n",
       "2                0.892401                  -0.987274             -0.980956   \n",
       "3                0.893817                  -0.989055             -0.987553   \n",
       "4                0.893817                  -0.993305             -0.988359   \n",
       "...                   ...                        ...                   ...   \n",
       "7347             0.867718                  -0.221443             -0.356428   \n",
       "7348             0.866116                  -0.258246             -0.386212   \n",
       "7349             0.854641                  -0.347359             -0.378177   \n",
       "7350             0.855988                  -0.336879             -0.406063   \n",
       "7351             0.855988                  -0.191078             -0.469368   \n",
       "\n",
       "      fBodyAccMag-iqr()  fBodyAccJerk-mad()-Y  tBodyAccJerk-iqr()-X  \\\n",
       "0             -0.973273             -0.990519             -0.994364   \n",
       "1             -0.984479             -0.982929             -0.993863   \n",
       "2             -0.989237             -0.981091             -0.987846   \n",
       "3             -0.983215             -0.987145             -0.994678   \n",
       "4             -0.997343             -0.988867             -0.995888   \n",
       "...                 ...                   ...                   ...   \n",
       "7347          -0.101796             -0.369551             -0.439171   \n",
       "7348          -0.363379             -0.452306             -0.381927   \n",
       "7349          -0.444155             -0.425311             -0.286234   \n",
       "7350          -0.533311             -0.437944             -0.364377   \n",
       "7351          -0.215984             -0.460940             -0.460572   \n",
       "\n",
       "              activity  subject  \n",
       "0             STANDING        1  \n",
       "1             STANDING        1  \n",
       "2             STANDING        1  \n",
       "3             STANDING        1  \n",
       "4             STANDING        1  \n",
       "...                ...      ...  \n",
       "7347  WALKING_UPSTAIRS       30  \n",
       "7348  WALKING_UPSTAIRS       30  \n",
       "7349  WALKING_UPSTAIRS       30  \n",
       "7350  WALKING_UPSTAIRS       30  \n",
       "7351  WALKING_UPSTAIRS       30  \n",
       "\n",
       "[7352 rows x 22 columns]"
      ]
     },
     "execution_count": 14,
     "metadata": {},
     "output_type": "execute_result"
    }
   ],
   "source": [
    "df_chosen"
   ]
  },
  {
   "cell_type": "code",
   "execution_count": 15,
   "metadata": {},
   "outputs": [],
   "source": [
    "df_chosen_sep_by_act = []\n",
    "for i in range(6):\n",
    "    df_chosen_sep_by_act.append([])\n",
    "\n",
    "for i in range(6):\n",
    "    df_chosen_sep_by_act[i] = df_chosen[ df_chosen['activity'] == activities[i]].copy()\n",
    "    df_chosen_sep_by_act[i].drop( columns=['activity', 'subject'], inplace = True)"
   ]
  },
  {
   "cell_type": "code",
   "execution_count": 16,
   "metadata": {},
   "outputs": [
    {
     "data": {
      "image/png": "[encoded data removed]",
      "text/plain": [
       "<Figure size 2000x1000 with 1 Axes>"
      ]
     },
     "metadata": {},
     "output_type": "display_data"
    }
   ],
   "source": [
    "from scipy.cluster import hierarchy\n",
    "\n",
    "# Generujemy nowe dane o mnjejszej liczbie punktów (dla czytelności)\n",
    "Z = hierarchy.linkage( df_chosen_sep_by_act[0], method='average')\n",
    "plt.figure(figsize=(10, 5), dpi= 200, facecolor='w', edgecolor='k')\n",
    "hierarchy.dendrogram(Z)\n",
    "plt.show()"
   ]
  },
  {
   "cell_type": "code",
   "execution_count": 17,
   "metadata": {},
   "outputs": [],
   "source": [
    "# A w praktyce wygląda to tak:\n",
    "def count_clustering_scores(X, cluster_num, model, score_fun):\n",
    "    # Napiszmy tę funkcje tak ogólnie, jak to możliwe. \n",
    "    # Zwróćcie uwagę na przekazanie obiektów typu callable: model i score_fun.\n",
    "    if isinstance(cluster_num, int):\n",
    "        cluster_num_iter = [cluster_num]\n",
    "    else:\n",
    "        cluster_num_iter = cluster_num\n",
    "        \n",
    "    scores = []    \n",
    "    for k in cluster_num_iter:\n",
    "        model_instance = model(n_clusters=k)\n",
    "        labels = model_instance.fit_predict(X)\n",
    "        wcss = score_fun(X, labels)\n",
    "        scores.append(wcss)\n",
    "    \n",
    "    if isinstance(cluster_num, int):\n",
    "        return scores[0]\n",
    "    else:\n",
    "        return scores"
   ]
  },
  {
   "cell_type": "code",
   "execution_count": null,
   "metadata": {},
   "outputs": [],
   "source": [
    "df_chosen_sep_by_act[1]"
   ]
  },
  {
   "cell_type": "code",
   "execution_count": 18,
   "metadata": {},
   "outputs": [],
   "source": [
    "from sklearn.cluster import KMeans\n",
    "from sklearn.metrics import silhouette_score\n",
    "\n",
    "silhouette_vec = []\n",
    "plots = []\n",
    "for i in range(6):\n",
    "    # In each iteration, add an empty list to the main list\n",
    "    silhouette_vec.append([])\n",
    "    plots.append([])\n",
    "\n",
    "cluster_num_seq = list( range(2, 11)) # Niektóre metryki nie działają gdy mamy tylko jeden klaster\n",
    "\n",
    "for i in range(6):\n",
    "    \n",
    "    silhouette_vec[i] = count_clustering_scores(\n",
    "        df_chosen_sep_by_act[i], cluster_num_seq, KMeans, silhouette_score)"
   ]
  },
  {
   "cell_type": "code",
   "execution_count": null,
   "metadata": {},
   "outputs": [],
   "source": [
    "frames = []\n",
    "for i in range(6):\n",
    "    # In each iteration, add an empty list to the main list\n",
    "    frames.append([])\n",
    "\n",
    "for i in range(6):\n",
    "    frames[i] = pd.DataFrame(\n",
    "        np.array(\n",
    "            [silhouette_vec[i], list( cluster_num_seq)]).transpose(),\n",
    "        columns = [\"silhouette\", \"no of clusters\"])\n",
    "    frames[i][\"acitivity\"] = activities[i]"
   ]
  },
  {
   "cell_type": "code",
   "execution_count": null,
   "metadata": {},
   "outputs": [],
   "source": [
    "stacked = pd.concat( frames, ignore_index=True)"
   ]
  },
  {
   "cell_type": "code",
   "execution_count": null,
   "metadata": {},
   "outputs": [],
   "source": [
    "import seaborn as sns\n",
    "sns.set(rc={\"figure.figsize\":(12, 8)})\n",
    "sns.lineplot(data= stacked, \n",
    "             x=\"no of clusters\", y=\"silhouette\", hue=\"acitivity\")\n",
    "\n"
   ]
  },
  {
   "cell_type": "code",
   "execution_count": null,
   "metadata": {},
   "outputs": [],
   "source": [
    "subjects = np.unique( df[\"subject\"])\n",
    "n_subjects = len( subjects)\n",
    "df_by_subject = []\n",
    "clusters = []\n",
    "\n",
    "df_by_subject_by_cluster = []\n",
    "\n",
    "for i in range( n_subjects):\n",
    "    # In each iteration, add an empty list to the main list\n",
    "    df_by_subject.append([])\n",
    "    clusters.append([])\n",
    "    df_by_subject_by_cluster.append([])\n",
    "    \n",
    "    for j in range( 6):\n",
    "        df_by_subject_by_cluster[i].append([])\n",
    "\n",
    "for i in range( n_subjects):\n",
    "    df_by_subject[i] = df[df[\"subject\"] == subjects[i]].copy()\n",
    "    df_by_subject[i].drop( columns=['activity', 'subject'], inplace = True)\n",
    "    \n",
    "    clusters[i] = KMeans(n_clusters=6, random_state=1618).fit( df_by_subject[i])\n",
    "    df_by_subject[i][\"cluster\"] = clusters[i].labels_\n",
    "    \n",
    "    for j in range( 6):\n",
    "        df_by_subject_by_cluster[i][j] = df_by_subject[i][ df_by_subject[i][\"cluster\"] == j ].copy()\n",
    "        df_by_subject_by_cluster[i][j].drop( columns = [\"cluster\"], inplace = True)\n",
    "        df_by_subject_by_cluster[i][j] = df_by_subject_by_cluster[i][j].to_numpy()"
   ]
  },
  {
   "cell_type": "code",
   "execution_count": null,
   "metadata": {},
   "outputs": [],
   "source": [
    "clusters[0].cluster_centers_"
   ]
  },
  {
   "cell_type": "code",
   "execution_count": null,
   "metadata": {},
   "outputs": [],
   "source": [
    "from scipy.spatial import distance\n",
    "import statistics\n",
    "\n",
    "distances = []\n",
    "\n",
    "for i in range( n_subjects):\n",
    "    # In each iteration, add an empty list to the main list\n",
    "    distances.append([])\n",
    "\n",
    "    for j in range( n_subjects):\n",
    "        distances[i].append([])\n",
    "\n",
    "\n",
    "for i in range( n_subjects):\n",
    "    for j in range( n_subjects):\n",
    "        \n",
    "        dists_to_clusters = []\n",
    "        for k in range(6):\n",
    "            dists_to_clusters.append([])\n",
    "            \n",
    "            dist_from_single = []\n",
    "            for l in range(6):\n",
    "                dist_from_single.append([])\n",
    "                dist_from_single[l] = distance.euclidean(\n",
    "                    clusters[i].cluster_centers_[k], clusters[j].cluster_centers_[l]\n",
    "                )\n",
    "            dists_to_clusters[k] = min( dist_from_single)\n",
    "        distances[i][j] =  statistics.mean( dists_to_clusters)"
   ]
  },
  {
   "cell_type": "code",
   "execution_count": null,
   "metadata": {},
   "outputs": [],
   "source": [
    "from scipy.spatial import distance\n",
    "import statistics\n",
    "\n",
    "distances2 = []\n",
    "\n",
    "for i in range( n_subjects):\n",
    "    # In each iteration, add an empty list to the main list\n",
    "    distances2.append([])\n",
    "\n",
    "    for j in range( n_subjects):\n",
    "        distances2[i].append([])\n",
    "\n",
    "\n",
    "for i in range( n_subjects):\n",
    "    for j in range( n_subjects):\n",
    "        \n",
    "        dists_to_clusters = []\n",
    "        for k in range(6):\n",
    "            dists_to_clusters.append([])\n",
    "            \n",
    "            dist_from_single = []\n",
    "            for l in range(6):\n",
    "                dist_from_single.append([])\n",
    "                dist_from_single[l] = distance.euclidean(\n",
    "                    clusters[i].cluster_centers_[k], clusters[j].cluster_centers_[l]\n",
    "                )\n",
    "            dists_to_clusters[k] = min( dist_from_single)\n",
    "        distances2[i][j] =  max( dists_to_clusters)"
   ]
  },
  {
   "cell_type": "code",
   "execution_count": null,
   "metadata": {},
   "outputs": [],
   "source": [
    "sns.heatmap( distances)"
   ]
  },
  {
   "cell_type": "code",
   "execution_count": null,
   "metadata": {},
   "outputs": [],
   "source": [
    "sns.heatmap( distances2)"
   ]
  },
  {
   "cell_type": "markdown",
   "metadata": {},
   "source": [
    "## KMeans"
   ]
  },
  {
   "cell_type": "code",
   "execution_count": null,
   "metadata": {},
   "outputs": [],
   "source": [
    "from sklearn.metrics import silhouette_score\n",
    "\n",
    "cluster_num_seq = [x for x in range(2, 11)]\n",
    "silhouette_vec = count_clustering_scores(df.drop(columns=['subject', 'activity']), cluster_num_seq, KMeans, silhouette_score)\n",
    "plt.plot(cluster_num_seq, silhouette_vec, 'bx-')\n",
    "plt.xlabel('k')\n",
    "plt.ylabel('Silhouette score')\n",
    "plt.title('Clustering on a full data set')\n",
    "plt.show()"
   ]
  },
  {
   "cell_type": "code",
   "execution_count": null,
   "metadata": {},
   "outputs": [],
   "source": [
    "silhouette_vec_chosen = count_clustering_scores(df[chosen_best], cluster_num_seq, KMeans, silhouette_score)\n",
    "plt.plot(cluster_num_seq, silhouette_vec, 'bx-')\n",
    "plt.xlabel('k')\n",
    "plt.ylabel('Silhouette score')\n",
    "plt.title('Clustering on chosen best columns')\n",
    "plt.show()"
   ]
  },
  {
   "cell_type": "code",
   "execution_count": null,
   "metadata": {},
   "outputs": [],
   "source": [
    "silhouette_vec_avg_best = count_clustering_scores(df[avg_best], cluster_num_seq, KMeans, silhouette_score)\n",
    "plt.plot(cluster_num_seq, silhouette_vec, 'bx-')\n",
    "plt.xlabel('k')\n",
    "plt.ylabel('Silhouette score')\n",
    "plt.title('Clustering on avarage best columns')\n",
    "plt.show()"
   ]
  },
  {
   "cell_type": "code",
   "execution_count": null,
   "metadata": {
    "scrolled": false
   },
   "outputs": [],
   "source": [
    "tmp = pd.DataFrame(\n",
    "    {'Full dataset': silhouette_vec, \n",
    "     '20 best chosen columns': silhouette_vec_chosen, \n",
    "     '20 best in average columns': silhouette_vec_avg_best})\n",
    "display(tmp)\n",
    "tmp = pd.concat([tmp,pd.Series(cluster_num_seq, name='k')], axis=1, join='inner', ignore_index=True)\n",
    "tmp.columns = ['Full dataset', '20 best chosen columns', '20 best in average columns', 'k']\n",
    "tmp.plot(x='k', style=['r-.', 'b-', 'g--'], title='K-Means clustering', ylabel='Silhuette score')"
   ]
  },
  {
   "cell_type": "code",
   "execution_count": 19,
   "metadata": {},
   "outputs": [],
   "source": [
    "def get_inertia_scores(X, cluster_num_seq, clusterer):\n",
    "    scores=[]\n",
    "    for n_cluster in cluster_num_seq:\n",
    "        model_instance = clusterer(n_clusters=n_cluster)\n",
    "        model_instance.fit(X)\n",
    "        scores.append(model_instance.inertia_)\n",
    "    return scores"
   ]
  },
  {
   "cell_type": "code",
   "execution_count": 22,
   "metadata": {},
   "outputs": [
    {
     "data": {
      "image/png": "[encoded data removed]",
      "text/plain": [
       "<Figure size 432x288 with 1 Axes>"
      ]
     },
     "metadata": {
      "needs_background": "light"
     },
     "output_type": "display_data"
    }
   ],
   "source": [
    "cluster_num_seq = [x for x in range(2, 11)]\n",
    "scores_full = get_inertia_scores(df.drop(columns=['subject', 'activity']), cluster_num_seq, KMeans)\n",
    "plt.plot(cluster_num_seq, scores_full, 'bx-')\n",
    "plt.xlabel('k')\n",
    "plt.ylabel('Inertia')\n",
    "plt.title('Clustering on a full data set')\n",
    "plt.show()"
   ]
  },
  {
   "cell_type": "code",
   "execution_count": 23,
   "metadata": {},
   "outputs": [
    {
     "data": {
      "image/png": "[encoded data removed]",
      "text/plain": [
       "<Figure size 432x288 with 1 Axes>"
      ]
     },
     "metadata": {
      "needs_background": "light"
     },
     "output_type": "display_data"
    }
   ],
   "source": [
    "cluster_num_seq = [x for x in range(2, 11)]\n",
    "scores_chosen = get_inertia_scores(df[chosen_best], cluster_num_seq, KMeans)\n",
    "plt.plot(cluster_num_seq, scores_full, 'bx-')\n",
    "plt.xlabel('k')\n",
    "plt.ylabel('Inertia')\n",
    "plt.title('Clustering on chosen best columns')\n",
    "plt.show()"
   ]
  },
  {
   "cell_type": "code",
   "execution_count": 24,
   "metadata": {},
   "outputs": [
    {
     "data": {
      "image/png": "[encoded data removed]",
      "text/plain": [
       "<Figure size 432x288 with 1 Axes>"
      ]
     },
     "metadata": {
      "needs_background": "light"
     },
     "output_type": "display_data"
    }
   ],
   "source": [
    "cluster_num_seq = [x for x in range(2, 11)]\n",
    "scores_avg = get_inertia_scores(df[avg_best], cluster_num_seq, KMeans)\n",
    "plt.plot(cluster_num_seq, scores_full, 'bx-')\n",
    "plt.xlabel('k')\n",
    "plt.ylabel('Inertia')\n",
    "plt.title('Clustering on avarage best columns')\n",
    "plt.show()"
   ]
  },
  {
   "cell_type": "code",
   "execution_count": 27,
   "metadata": {},
   "outputs": [
    {
     "data": {
      "text/html": [
       "<div>\n",
       "<style scoped>\n",
       "    .dataframe tbody tr th:only-of-type {\n",
       "        vertical-align: middle;\n",
       "    }\n",
       "\n",
       "    .dataframe tbody tr th {\n",
       "        vertical-align: top;\n",
       "    }\n",
       "\n",
       "    .dataframe thead th {\n",
       "        text-align: right;\n",
       "    }\n",
       "</style>\n",
       "<table border=\"1\" class=\"dataframe\">\n",
       "  <thead>\n",
       "    <tr style=\"text-align: right;\">\n",
       "      <th></th>\n",
       "      <th>Full dataset</th>\n",
       "      <th>20 best chosen columns</th>\n",
       "      <th>20 best in average columns</th>\n",
       "    </tr>\n",
       "  </thead>\n",
       "  <tbody>\n",
       "    <tr>\n",
       "      <th>0</th>\n",
       "      <td>175201.891859</td>\n",
       "      <td>7851.775139</td>\n",
       "      <td>4768.432403</td>\n",
       "    </tr>\n",
       "    <tr>\n",
       "      <th>1</th>\n",
       "      <td>158841.783044</td>\n",
       "      <td>4893.879624</td>\n",
       "      <td>3558.995696</td>\n",
       "    </tr>\n",
       "    <tr>\n",
       "      <th>2</th>\n",
       "      <td>143709.965285</td>\n",
       "      <td>3217.991001</td>\n",
       "      <td>2608.554888</td>\n",
       "    </tr>\n",
       "    <tr>\n",
       "      <th>3</th>\n",
       "      <td>136628.169001</td>\n",
       "      <td>2720.077149</td>\n",
       "      <td>2339.721759</td>\n",
       "    </tr>\n",
       "    <tr>\n",
       "      <th>4</th>\n",
       "      <td>131492.173648</td>\n",
       "      <td>2312.039871</td>\n",
       "      <td>2081.340358</td>\n",
       "    </tr>\n",
       "    <tr>\n",
       "      <th>5</th>\n",
       "      <td>127404.468344</td>\n",
       "      <td>2028.828170</td>\n",
       "      <td>1873.815062</td>\n",
       "    </tr>\n",
       "    <tr>\n",
       "      <th>6</th>\n",
       "      <td>124120.138449</td>\n",
       "      <td>1818.851641</td>\n",
       "      <td>1760.935763</td>\n",
       "    </tr>\n",
       "    <tr>\n",
       "      <th>7</th>\n",
       "      <td>121173.565161</td>\n",
       "      <td>1681.806632</td>\n",
       "      <td>1654.298386</td>\n",
       "    </tr>\n",
       "    <tr>\n",
       "      <th>8</th>\n",
       "      <td>118769.021016</td>\n",
       "      <td>1559.461456</td>\n",
       "      <td>1577.587193</td>\n",
       "    </tr>\n",
       "  </tbody>\n",
       "</table>\n",
       "</div>"
      ],
      "text/plain": [
       "    Full dataset  20 best chosen columns  20 best in average columns\n",
       "0  175201.891859             7851.775139                 4768.432403\n",
       "1  158841.783044             4893.879624                 3558.995696\n",
       "2  143709.965285             3217.991001                 2608.554888\n",
       "3  136628.169001             2720.077149                 2339.721759\n",
       "4  131492.173648             2312.039871                 2081.340358\n",
       "5  127404.468344             2028.828170                 1873.815062\n",
       "6  124120.138449             1818.851641                 1760.935763\n",
       "7  121173.565161             1681.806632                 1654.298386\n",
       "8  118769.021016             1559.461456                 1577.587193"
      ]
     },
     "metadata": {},
     "output_type": "display_data"
    },
    {
     "data": {
      "text/plain": [
       "<AxesSubplot:title={'center':'K-Means clustering'}, xlabel='k', ylabel='Inertia'>"
      ]
     },
     "execution_count": 27,
     "metadata": {},
     "output_type": "execute_result"
    },
    {
     "data": {
      "image/png": "[encoded data removed]",
      "text/plain": [
       "<Figure size 864x576 with 1 Axes>"
      ]
     },
     "metadata": {
      "needs_background": "light"
     },
     "output_type": "display_data"
    }
   ],
   "source": [
    "tmp = pd.DataFrame(\n",
    "    {'Full dataset': scores_full, \n",
    "     '20 best chosen columns': scores_chosen, \n",
    "     '20 best in average columns': scores_avg})\n",
    "display(tmp)\n",
    "tmp = pd.concat([tmp,pd.Series(cluster_num_seq, name='k')], axis=1, join='inner', ignore_index=True)\n",
    "tmp.columns = ['Full dataset', '20 best chosen columns', '20 best in average columns', 'k']\n",
    "tmp.plot(x='k', style=['r-.', 'b-', 'g--'], title='K-Means clustering', ylabel='Inertia', logy=True, figsize=(12,8))"
   ]
  },
  {
   "cell_type": "code",
   "execution_count": null,
   "metadata": {},
   "outputs": [],
   "source": [
    "!pip install yellowbrick"
   ]
  },
  {
   "cell_type": "code",
   "execution_count": null,
   "metadata": {},
   "outputs": [],
   "source": [
    "from yellowbrick.cluster import (\n",
    "    SilhouetteVisualizer,\n",
    "    KElbowVisualizer)"
   ]
  },
  {
   "cell_type": "code",
   "execution_count": null,
   "metadata": {
    "scrolled": false
   },
   "outputs": [],
   "source": [
    "km = KMeans(random_state=123)\n",
    "visualizer = KElbowVisualizer(km, k=(2,10))\n",
    "visualizer.fit(df.drop(columns=['subject', 'activity']))\n",
    "visualizer.show()"
   ]
  },
  {
   "cell_type": "code",
   "execution_count": null,
   "metadata": {},
   "outputs": [],
   "source": [
    "visualizer = KElbowVisualizer(km, k=(2,10))\n",
    "visualizer.fit(df[avg_best])\n",
    "visualizer.show()"
   ]
  },
  {
   "cell_type": "code",
   "execution_count": null,
   "metadata": {
    "scrolled": false
   },
   "outputs": [],
   "source": [
    "visualizer = KElbowVisualizer(km, k=(2,10))\n",
    "visualizer.fit(df[chosen_best])\n",
    "visualizer.show()"
   ]
  },
  {
   "cell_type": "code",
   "execution_count": null,
   "metadata": {
    "scrolled": false
   },
   "outputs": [],
   "source": [
    "all_cols_clusterer = KMeans(random_state=123, n_clusters=4)\n",
    "all_cols_clusterer.fit(df.drop(columns=['subject', 'activity']))\n",
    "visualizer = silhouette_visualizer(all_cols_clusterer,\n",
    "                                    X=df.drop(columns=['subject', 'activity']), \n",
    "                                    colors='yellowbrick',\n",
    "                                    is_fitted=True)\n",
    "visualizer.show()"
   ]
  },
  {
   "cell_type": "code",
   "execution_count": null,
   "metadata": {},
   "outputs": [],
   "source": [
    "fig, ax = plt.subplots(3, 1, figsize=(15,12), sharex=True)\n",
    "\n",
    "km = KMeans(n_clusters=4, max_iter=100, random_state=42)\n",
    "visualizer = SilhouetteVisualizer(km, colors='yellowbrick', ax=ax[0])\n",
    "visualizer.fit(df.drop(columns=['subject', 'activity']))\n",
    "visualizer.finalize()\n",
    "ax[0].set_title('Full dataset')\n",
    "\n",
    "\n",
    "\n",
    "km = KMeans(n_clusters=4, max_iter=100, random_state=42)\n",
    "visualizer = SilhouetteVisualizer(km, colors='yellowbrick', ax=ax[1])\n",
    "visualizer.fit(df[chosen_best])\n",
    "visualizer.finalize()\n",
    "ax[1].set_title('20 best chosen columns')\n",
    "\n",
    "\n",
    "\n",
    "km = KMeans(n_clusters=4, max_iter=100, random_state=42)\n",
    "visualizer = SilhouetteVisualizer(km, colors='yellowbrick', ax=ax[2])\n",
    "visualizer.fit(df[avg_best])\n",
    "visualizer.finalize()\n",
    "ax[2].set_title('20 best in average columns')\n"
   ]
  },
  {
   "cell_type": "markdown",
   "metadata": {},
   "source": [
    "## Agglomerative Clustering"
   ]
  },
  {
   "cell_type": "code",
   "execution_count": null,
   "metadata": {
    "scrolled": false
   },
   "outputs": [],
   "source": [
    "from sklearn.cluster import AgglomerativeClustering\n",
    "\n",
    "cluster_num_seq = [x for x in range(2, 11)]\n",
    "silhouette_vec = count_clustering_scores(df.drop(columns=['subject', 'activity']),\n",
    "                                         cluster_num_seq, AgglomerativeClustering, \n",
    "                                         silhouette_score)\n",
    "\n",
    "plt.plot(cluster_num_seq, silhouette_vec, 'bx-')\n",
    "plt.xlabel('k')\n",
    "plt.ylabel('Silhouette score')\n",
    "plt.title('Agglomerative Clustering on full dataset')\n",
    "plt.show()"
   ]
  },
  {
   "cell_type": "code",
   "execution_count": null,
   "metadata": {
    "scrolled": true
   },
   "outputs": [],
   "source": [
    "silhouette_vec_best = count_clustering_scores(df[avg_best],\n",
    "                                         cluster_num_seq, AgglomerativeClustering, \n",
    "                                         silhouette_score)\n",
    "\n",
    "plt.plot(cluster_num_seq, silhouette_vec_best, 'bx-')\n",
    "plt.xlabel('k')\n",
    "plt.ylabel('Silhouette score')\n",
    "plt.title('Agglomerative Clustering on full dataset')\n",
    "plt.show()"
   ]
  },
  {
   "cell_type": "code",
   "execution_count": null,
   "metadata": {
    "scrolled": false
   },
   "outputs": [],
   "source": [
    "fig, ax = plt.subplots(5, 2, figsize=(25,24), sharex=True)\n",
    "for i in range(2,12):\n",
    "    km = KMeans(n_clusters=i, init='k-means++', n_init=10, max_iter=100, random_state=42)\n",
    "    q, mod = divmod(i, 2)\n",
    "\n",
    "    visualizer = SilhouetteVisualizer(km, colors='yellowbrick', ax=ax[q-1][mod])\n",
    "    visualizer.fit(df[chosen_best])"
   ]
  },
  {
   "cell_type": "code",
   "execution_count": null,
   "metadata": {},
   "outputs": [],
   "source": []
  }
 ],
 "metadata": {
  "kernelspec": {
   "display_name": "Python 3",
   "language": "python",
   "name": "python3"
  },
  "language_info": {
   "codemirror_mode": {
    "name": "ipython",
    "version": 3
   },
   "file_extension": ".py",
   "mimetype": "text/x-python",
   "name": "python",
   "nbconvert_exporter": "python",
   "pygments_lexer": "ipython3",
   "version": "3.8.5"
  }
 },
 "nbformat": 4,
 "nbformat_minor": 4
}
