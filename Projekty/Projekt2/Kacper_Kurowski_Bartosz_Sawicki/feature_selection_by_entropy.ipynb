{
 "cells": [
  {
   "cell_type": "code",
   "execution_count": null,
   "id": "prerequisite-producer",
   "metadata": {},
   "outputs": [],
   "source": [
    "import pandas as pd\n",
    "import numpy as np\n",
    "import seaborn as sns\n",
    "\n",
    "from itertools import combinations, permutations\n",
    "from matplotlib import pyplot as plt\n",
    "from scipy.stats import entropy\n",
    "from scipy.special import kl_div\n",
    "from utils import get_data_train"
   ]
  },
  {
   "cell_type": "code",
   "execution_count": null,
   "id": "cardiovascular-scanning",
   "metadata": {},
   "outputs": [],
   "source": [
    "df = get_data_train()\n",
    "n_bins = 5 # tu możemy wybrać różną liczbę kuełków go generowania histogramów\n",
    "            # liczbę przedziałów na jakich będziemy liczyć dywergencję"
   ]
  },
  {
   "cell_type": "code",
   "execution_count": null,
   "id": "sustained-olive",
   "metadata": {},
   "outputs": [],
   "source": [
    "activities = np.unique(df['activity'])\n",
    "activities_dict = {activity: None for activity in activities}\n",
    "activities_dict"
   ]
  },
  {
   "cell_type": "code",
   "execution_count": null,
   "id": "systematic-southwest",
   "metadata": {
    "scrolled": false
   },
   "outputs": [],
   "source": [
    "for activity in activities_dict.keys():\n",
    "    numerical_features = df[df['activity']==activity].drop(['activity', 'subject'], axis='columns')\n",
    "    activities_dict[activity] = numerical_features.apply(\n",
    "        lambda column: \n",
    "        np.histogram(column, bins=n_bins, density=True, range=(-1,1))[0])"
   ]
  },
  {
   "cell_type": "markdown",
   "id": "descending-slovak",
   "metadata": {},
   "source": [
    "Bierzemy permutacje cech, bo kl_div nie jest przemienna"
   ]
  },
  {
   "cell_type": "code",
   "execution_count": null,
   "id": "joined-interaction",
   "metadata": {
    "scrolled": true
   },
   "outputs": [],
   "source": [
    "combi_colnames = list(map('-'.join, list(permutations(activities,2))))\n",
    "combi_df = pd.DataFrame(columns = combi_colnames)\n",
    "\n",
    "numerical_features = df.drop(['activity', 'subject'], axis='columns').columns\n",
    "for feature in numerical_features:\n",
    "    combi_df = combi_df.append(pd.Series(np.repeat(feature, 30), name=feature, index=combi_colnames))"
   ]
  },
  {
   "cell_type": "code",
   "execution_count": null,
   "id": "noble-lighter",
   "metadata": {},
   "outputs": [],
   "source": [
    "def replace_inf_and_sum(feature1, feature2, x):\n",
    "    kl = kl_div(\n",
    "        activities_dict[feature1][x],\n",
    "        activities_dict[feature2][x])\n",
    "    return sum(map(lambda x: 100 if x>100 else x, kl))\n",
    "\n",
    "def count_inf(feature1, feature2, x):\n",
    "    return sum(\n",
    "        np.isinf(          # tu zliczamy infy\n",
    "            kl_div(\n",
    "                activities_dict[feature1][x],\n",
    "                activities_dict[feature2][x])))\n",
    "\n",
    "def take_median(feature1, feature2, x):\n",
    "    return np.median(          \n",
    "            kl_div(\n",
    "                activities_dict[feature1][x],\n",
    "                activities_dict[feature2][x]))"
   ]
  },
  {
   "cell_type": "code",
   "execution_count": null,
   "id": "sound-vienna",
   "metadata": {},
   "outputs": [],
   "source": [
    "def apply_to_column(column):\n",
    "    feature1, feature2 = column.name.split('-')\n",
    "    return column.apply(lambda x: replace_inf_and_sum(feature1, feature2, x)) # w tej lambdzie można wybrać inną funkcję\n",
    "\n",
    "\n",
    "result = combi_df.apply(apply_to_column)"
   ]
  },
  {
   "cell_type": "markdown",
   "id": "thirty-dressing",
   "metadata": {},
   "source": [
    "#### Jak agregować wyniki w `apply_to_column`?\n",
    "\n",
    "Teraz liczymy ile razy było infinity, czyli w ilu miejscach rozkłady bardzo się różniły.\n",
    "\n",
    "Co można innego? \n",
    "- może można zamienić inf na jakiś duży threshold, np 100, i liczyć sumę lub średnią\n",
    "- można liczyć medianę\n",
    "\n",
    "#### Co mamy?\n",
    "\n",
    "Ramkę danych, wiersze to cechy, kolumny to dwuelementowa kombinacja aktywności. Wartości to miara jak bardzo różnią się rozkłady cech dla dwóch aktywności.\n",
    "\n",
    "#### Jak agregować wyniki do poziomu cechy?\n",
    "\n",
    "- bierzemy max z wiersza, otrzymamy kolumny ze zbioru danych, które najlepiej **rozdzieliły jakieś dwie wybrane aktywności**\n",
    "- bierzemy sumę/średnią, otrzymamy kolumny ze bioru danych, które **średnio najlepiej rozdzielają** aktywności\n",
    "\n",
    "\n",
    "Chyba lepiej wybierać metodą z max, wtedy otrzymamy rozdzielenie różnych rozkładów."
   ]
  },
  {
   "cell_type": "code",
   "execution_count": null,
   "id": "banner-benjamin",
   "metadata": {},
   "outputs": [],
   "source": [
    "chosen_best = result.apply(lambda x: max(x), axis=1).sort_values(ascending=False).head(20).index.to_list()\n",
    "avg_best = result.apply(lambda x: sum(x), axis=1).sort_values(ascending=False).head(20).index.to_list()"
   ]
  },
  {
   "cell_type": "code",
   "execution_count": null,
   "id": "julian-holder",
   "metadata": {},
   "outputs": [],
   "source": [
    "def plot_var(varname):\n",
    "    ax = sns.displot(df, x=varname, hue='activity', kind='kde', log_scale=(False, True))#bins=n_bins, multiple='dodge')\n",
    "    plt.show()"
   ]
  },
  {
   "cell_type": "code",
   "execution_count": null,
   "id": "baking-joshua",
   "metadata": {
    "scrolled": false
   },
   "outputs": [],
   "source": [
    "for varname in avg_best: # lub alternatywnie chosen_best\n",
    "    plot_var(varname)"
   ]
  }
 ],
 "metadata": {
  "kernelspec": {
   "display_name": "Python 3",
   "language": "python",
   "name": "python3"
  },
  "language_info": {
   "codemirror_mode": {
    "name": "ipython",
    "version": 3
   },
   "file_extension": ".py",
   "mimetype": "text/x-python",
   "name": "python",
   "nbconvert_exporter": "python",
   "pygments_lexer": "ipython3",
   "version": "3.8.5"
  }
 },
 "nbformat": 4,
 "nbformat_minor": 5
}
