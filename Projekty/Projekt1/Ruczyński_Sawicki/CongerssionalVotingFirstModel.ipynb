{
 "cells": [
  {
   "cell_type": "markdown",
   "metadata": {
    "id": "8sObjqrMWwDp"
   },
   "source": [
    "# **Congerssional Voting First Model Atempt**\n",
    "## *Bartosz Sawicki, Hubert Ruczyński*"
   ]
  },
  {
   "cell_type": "code",
   "execution_count": null,
   "metadata": {
    "id": "VxkYgF7HYRh0"
   },
   "outputs": [],
   "source": [
    "import numpy as np\n",
    "import pandas as pd\n",
    "import requests\n",
    "import seaborn as sns\n",
    "import warnings\n",
    "warnings.filterwarnings('ignore')\n",
    "\n",
    "from matplotlib import pyplot as plt\n",
    "plt.style.use('ggplot')\n",
    "\n",
    "from sklearn import metrics\n",
    "from sklearn import tree\n",
    "from sklearn.ensemble import GradientBoostingClassifier\n",
    "from sklearn.ensemble import AdaBoostClassifier\n",
    "from sklearn.model_selection import cross_validate\n",
    "from sklearn.model_selection import train_test_split\n",
    "from sklearn.neural_network import MLPClassifier\n",
    "from sklearn.pipeline import Pipeline\n",
    "\n",
    "from xgboost import XGBClassifier # Inna paczka niż sklearn!"
   ]
  },
  {
   "cell_type": "markdown",
   "metadata": {
    "id": "TDcYNgxfJm0s"
   },
   "source": [
    "# **Wczytanie Danych**"
   ]
  },
  {
   "cell_type": "code",
   "execution_count": null,
   "metadata": {
    "colab": {
     "base_uri": "https://localhost:8080/",
     "height": 211
    },
    "id": "M3CNq65BYzEE",
    "outputId": "6d2b429d-eee6-4d87-d59f-29391158ff01"
   },
   "outputs": [],
   "source": [
    "url = 'https://api.apispreadsheets.com/api/dataset/congressional-voting/'\n",
    "\n",
    "r = requests.get(url)\n",
    "data = r.json()\n",
    "df = pd.DataFrame.from_dict(data['data'], orient='columns')\n",
    "df.sample(5)"
   ]
  },
  {
   "cell_type": "markdown",
   "metadata": {
    "id": "8EO9C73EJtEb"
   },
   "source": [
    "# **Autorski Encoding**"
   ]
  },
  {
   "cell_type": "code",
   "execution_count": null,
   "metadata": {
    "colab": {
     "base_uri": "https://localhost:8080/",
     "height": 211
    },
    "id": "UT6DOM8nDJ6E",
    "outputId": "0b74d38e-f795-45fd-a1bf-a4c6fbd6f0cb"
   },
   "outputs": [],
   "source": [
    "val = {'n':-1, '?':0, 'y':1}\n",
    "party = {'democrat':2, 'republican':-2}\n",
    "\n",
    "df_num=df.copy()\n",
    "df_party = df_num['political_party'].copy()\n",
    "df_num.drop('political_party', axis=1, inplace=True)\n",
    "\n",
    "for column in df_num.columns:\n",
    "  df_num[column] = df_num[column].map(val)\n",
    "\n",
    "df_party = df_party.map(party)\n",
    "\n",
    "df_num = pd.concat([df_num,df_party], axis=1)\n",
    "df_num.head()"
   ]
  },
  {
   "cell_type": "markdown",
   "metadata": {
    "id": "ZPGpkiWmKJVX"
   },
   "source": [
    "# **Informacje o Danych**"
   ]
  },
  {
   "cell_type": "code",
   "execution_count": null,
   "metadata": {
    "colab": {
     "base_uri": "https://localhost:8080/"
    },
    "id": "qqsM4OQ-CXk6",
    "outputId": "b3eb5ebc-8a57-41a3-fad6-a4a830db16fa"
   },
   "outputs": [],
   "source": [
    "x = df_num.drop('political_party', axis=1)\n",
    "y = df_num.iloc[:,16]\n",
    "x.info()\n",
    "y"
   ]
  },
  {
   "cell_type": "markdown",
   "metadata": {
    "id": "pPAbQvuVKREq"
   },
   "source": [
    "# **Perwszy model: SVM**"
   ]
  },
  {
   "cell_type": "markdown",
   "metadata": {
    "id": "3a57bqcx_oNZ"
   },
   "source": [
    "\n",
    "Model: https://scikit-learn.org/stable/modules/svm.html#classification\n",
    "\n"
   ]
  },
  {
   "cell_type": "markdown",
   "metadata": {
    "id": "WvEkWyyPKiYw"
   },
   "source": [
    "Za pierwszym razem nie dokonaliśmy selekcji zmiennych i z tego powodu otrzymaliśmy dość nieskuteczny model.\n",
    "\n",
    "Acccuracy powyżej 0,9 może być mylące gdyż na pierwszy rzut wydaje się, że jest to wynik bardzo dobry, \n",
    "jednak po analizie której dokonywaliśmy ostatnio, wiemy, że pojedyncze głosowanie (physicians_fee)\n",
    "jest w stanie przewidywać z dokładnością prawie 94%."
   ]
  },
  {
   "cell_type": "code",
   "execution_count": null,
   "metadata": {
    "id": "IfLaYq5oG1G2"
   },
   "outputs": [],
   "source": [
    "x_train, x_test, y_train, y_test = train_test_split(x, y)"
   ]
  },
  {
   "cell_type": "code",
   "execution_count": null,
   "metadata": {
    "id": "Agr6wN7U_jl9"
   },
   "outputs": [],
   "source": [
    "from sklearn import svm\n",
    "clf = svm.SVC()\n",
    "clf.fit(x_train, y_train)\n",
    "y_train_pred=clf.predict(x_train)"
   ]
  },
  {
   "cell_type": "code",
   "execution_count": null,
   "metadata": {
    "id": "_mpqsWNpY03q"
   },
   "outputs": [],
   "source": [
    "y_pred=clf.predict(x_test)"
   ]
  },
  {
   "cell_type": "code",
   "execution_count": null,
   "metadata": {
    "colab": {
     "base_uri": "https://localhost:8080/"
    },
    "id": "hhY2ip4Q_oXD",
    "outputId": "72da8e53-4d9e-403c-b5c0-097e6e98c594"
   },
   "outputs": [],
   "source": [
    "print('\\ny:     ' + str(y_test[0:10]) + '\\ny_pred: ' + str(y_pred[0:10]))\n",
    "sum=0\n",
    "y_tezt=y_test.to_numpy()\n",
    "for i in range(len(y_pred)):\n",
    "    if y_pred[i]==y_tezt[i]:\n",
    "        sum+=1\n",
    "accuracy=sum/len(y_pred)\n",
    "print(\"validation : \" + str(accuracy))\n",
    "sum=0\n",
    "y_trained=clf.predict(x_train)\n",
    "y_trains=y_train.to_numpy()\n",
    "for i in range(len(y_trained)):\n",
    "    if y_trained[i]==y_trains[i]:\n",
    "        sum+=1\n",
    "accuracy_train=sum/len(y_trained)\n",
    "print(\"train : \" + str(accuracy_train))"
   ]
  },
  {
   "cell_type": "markdown",
   "metadata": {
    "id": "VU9fXiOeTfYe"
   },
   "source": [
    "Aby sprawdzić faktyczne accuracy, postanowiliśmy zapętlić wybór zbioru testowego, tworzenia i trenowania \n",
    "modelu 1000 razy, aby otrzymać średnie accuracy dla tych prób."
   ]
  },
  {
   "cell_type": "markdown",
   "metadata": {
    "id": "tp7DWJO-TkV0"
   },
   "source": [
    "Ponadto wykonaliśmy selekcji zmiennych przy tym testowaniu w dwóch wariantach i okazało się, że \n",
    "lepiej wypadł ten przy mniejszej liczbie wyrzucanych kolumn."
   ]
  },
  {
   "cell_type": "markdown",
   "metadata": {
    "id": "Uuz9HvWaVoKY"
   },
   "source": [
    "## Uwaga!\n",
    "\n",
    "Ilość testowanych modeli i zbiory wyrzucanych kolumn były znacznie większe w fazie pisania raportu, jednak postanowiliśmy zostawić tylko te które coś wnoszą."
   ]
  },
  {
   "cell_type": "code",
   "execution_count": null,
   "metadata": {
    "colab": {
     "base_uri": "https://localhost:8080/"
    },
    "id": "OCBaIk50LmJI",
    "outputId": "3dc60622-b809-40b0-f8ba-3d8716c1134e"
   },
   "outputs": [],
   "source": [
    "accumulated_accuracy=0\n",
    "accumulated_accuracy_train=0\n",
    "for i in range(1000):\n",
    "    x = df_num.drop(['political_party', 'water_project_cost_sharing','immigration','export_administration_act_south_africa'], axis=1)\n",
    "    y = df_num.iloc[:,16]\n",
    "    x_train, x_test, y_train, y_test = train_test_split(x, y)\n",
    "    clf = svm.SVC()\n",
    "    clf.fit(x_train, y_train)\n",
    "    y_train_pred=clf.predict(x_train)\n",
    "    y_pred=clf.predict(x_test)\n",
    "    sum=0\n",
    "\n",
    "    y_tezt=y_test.to_numpy()\n",
    "    for i in range(len(y_pred)):\n",
    "        if y_pred[i]==y_tezt[i]:\n",
    "            sum+=1\n",
    "    accuracy=sum/len(y_pred)\n",
    "    accumulated_accuracy=accumulated_accuracy+accuracy\n",
    "    sum=0\n",
    "    y_trained=clf.predict(x_train)\n",
    "    y_trains=y_train.to_numpy()\n",
    "    for i in range(len(y_trained)):\n",
    "        if y_trained[i]==y_trains[i]:\n",
    "            sum+=1\n",
    "    accuracy_train=sum/len(y_trained)\n",
    "    accumulated_accuracy_train=accumulated_accuracy_train+accuracy_train\n",
    "\n",
    "print(\"accumulated accuracy validation : \" + str(accumulated_accuracy/1000))\n",
    "print(\"accumulated accuracy train : \" + str(accumulated_accuracy_train/1000))"
   ]
  },
  {
   "cell_type": "code",
   "execution_count": null,
   "metadata": {
    "colab": {
     "base_uri": "https://localhost:8080/"
    },
    "id": "QcHFudjWV2jc",
    "outputId": "360b804f-55cf-4155-b95c-7b41ad4d66b4"
   },
   "outputs": [],
   "source": [
    "accumulated_accuracy=0\n",
    "accumulated_accuracy_train=0\n",
    "for i in range(1000):\n",
    "    x = df_num.drop(['political_party', 'water_project_cost_sharing','immigration','export_administration_act_south_africa', \n",
    "                   'education_spending', 'synfuels_corporation_cutback','religious_groups_in_schools'], axis=1)\n",
    "    y = df_num.iloc[:,16]\n",
    "    x_train, x_test, y_train, y_test = train_test_split(x, y)\n",
    "    clf = svm.SVC()\n",
    "    clf.fit(x_train, y_train)\n",
    "    y_train_pred=clf.predict(x_train)\n",
    "    y_pred=clf.predict(x_test)\n",
    "    sum=0\n",
    "\n",
    "    y_tezt=y_test.to_numpy()\n",
    "    for i in range(len(y_pred)):\n",
    "        if y_pred[i]==y_tezt[i]:\n",
    "            sum+=1\n",
    "    accuracy=sum/len(y_pred)\n",
    "    accumulated_accuracy=accumulated_accuracy+accuracy\n",
    "    sum=0\n",
    "    y_trained=clf.predict(x_train)\n",
    "    y_trains=y_train.to_numpy()\n",
    "    for i in range(len(y_trained)):\n",
    "        if y_trained[i]==y_trains[i]:\n",
    "            sum+=1\n",
    "    accuracy_train=sum/len(y_trained)\n",
    "    accumulated_accuracy_train=accumulated_accuracy_train+accuracy_train\n",
    "    \n",
    "print(\"accumulated accuracy validation : \" + str(accumulated_accuracy/1000))\n",
    "print(\"accumulated accuracy train : \" + str(accumulated_accuracy_train/1000))"
   ]
  },
  {
   "cell_type": "markdown",
   "metadata": {
    "id": "yNdF529DTm5-"
   },
   "source": [
    "\n",
    "Na autorskim kodowaniu postanowiliśmy też wykorzystać bardziej złożony model w postaci XGBClassifier'a, który\n",
    "zapewnił nam o wiele wyższe accuracy od poprzedników."
   ]
  },
  {
   "cell_type": "code",
   "execution_count": null,
   "metadata": {
    "id": "KBpRGGqhJN-u"
   },
   "outputs": [],
   "source": [
    "x = df_num.drop(['political_party', 'water_project_cost_sharing','immigration','export_administration_act_south_africa'], axis=1)\n",
    "y = df_num.iloc[:,16]"
   ]
  },
  {
   "cell_type": "code",
   "execution_count": null,
   "metadata": {
    "id": "XJ9OR2bQJODB"
   },
   "outputs": [],
   "source": [
    "x_train, x_test, y_train, y_test = train_test_split(x, y, random_state=14)"
   ]
  },
  {
   "cell_type": "code",
   "execution_count": null,
   "metadata": {
    "colab": {
     "base_uri": "https://localhost:8080/"
    },
    "id": "5JrXUvWUc-3n",
    "outputId": "31814ded-79fd-40bc-eafc-32613d41e8d2"
   },
   "outputs": [],
   "source": [
    "model=XGBClassifier(random_state=2,\n",
    "                    learning_rate=0.01, # Szybkość \"uczenia\" się\n",
    "                    booster='gbtree', # Jaki model wykorzystujemy (drzewo - gbtree, liniowe - gblinear)\n",
    "                    nround = 1000, # Ilość itereacji boosingowych\n",
    "                    max_depth=3, # Maksymalna głębokość drzewa \n",
    "                    verbosity = 0 # Nie chcemy warningów\n",
    "                    )\n",
    "model.fit(x_train, y_train)\n",
    "prediction_test=model.predict(x_test)\n",
    "print(model.score(x_test,y_test))\n",
    "print(metrics.classification_report(y_test, prediction_test))"
   ]
  },
  {
   "cell_type": "markdown",
   "metadata": {
    "id": "sMQvEzJBzNkt"
   },
   "source": [
    "# **Kodowanie one hot**"
   ]
  },
  {
   "cell_type": "markdown",
   "metadata": {
    "id": "xxoS_gzNTpAb"
   },
   "source": [
    "Aby uzyskać jak najlepszy model użyliśmy jednak one-hot encodingu, ze względu na to, że jest to lepsza wersja \n",
    "tego co sami robimy w naszym kodowaniu.\n"
   ]
  },
  {
   "cell_type": "code",
   "execution_count": null,
   "metadata": {
    "colab": {
     "base_uri": "https://localhost:8080/"
    },
    "id": "1rZVJtIIzRIx",
    "outputId": "119bc945-7d20-4d22-bb6c-08f45ac0b723"
   },
   "outputs": [],
   "source": [
    "df.info()"
   ]
  },
  {
   "cell_type": "markdown",
   "metadata": {
    "id": "x98rjMdSTrKJ"
   },
   "source": [
    "\n",
    "Modele działać, będą na dwóch ramkach, jedna cała, bez selekcji zmiennych i druga z odrzuceniem tych które\n",
    "są w bardzo niskim stopniu skorelowane z targetem."
   ]
  },
  {
   "cell_type": "code",
   "execution_count": null,
   "metadata": {
    "id": "NO0I2YftI_oh"
   },
   "outputs": [],
   "source": [
    "df_dropped = df.drop(['water_project_cost_sharing','immigration','export_administration_act_south_africa'], axis=1)\n",
    "X_dropped = df_dropped.iloc[:,:12]\n",
    "y_dropped = df_dropped.iloc[:,13]\n",
    "\n",
    "X = df.iloc[:,:15]\n",
    "y = df.iloc[:,16]"
   ]
  },
  {
   "cell_type": "code",
   "execution_count": null,
   "metadata": {
    "id": "XGXPw7cHzdqj"
   },
   "outputs": [],
   "source": [
    "x_train, x_test, y_train, y_test = train_test_split(df_dropped.iloc[:,:12], df_dropped.iloc[:,13], random_state=43)"
   ]
  },
  {
   "cell_type": "code",
   "execution_count": null,
   "metadata": {
    "id": "9QAGp4Vn0_9W"
   },
   "outputs": [],
   "source": [
    "import category_encoders as ce\n",
    "from sklearn.ensemble import GradientBoostingClassifier\n",
    "from sklearn.pipeline import Pipeline\n",
    "\n",
    "one_hot_encoder = ce.OneHotEncoder()\n",
    "\n",
    "one_hot = one_hot_encoder.fit_transform(X,y)\n",
    "\n",
    "one_hot_encoder_dropped = ce.OneHotEncoder()\n",
    "one_hot_dropped = one_hot_encoder_dropped.fit_transform(X_dropped,y_dropped)"
   ]
  },
  {
   "cell_type": "markdown",
   "metadata": {
    "id": "AC-jyaKzT0I-"
   },
   "source": [
    "# **GradientBoostingClassifier**"
   ]
  },
  {
   "cell_type": "code",
   "execution_count": null,
   "metadata": {
    "id": "_vnkKdtK1pAZ"
   },
   "outputs": [],
   "source": [
    "clf = GradientBoostingClassifier(n_estimators=1000, learning_rate=.05,\n",
    "    max_depth=3, random_state=997)\n",
    "\n",
    "pipe_one_hot = Pipeline(\n",
    "[\n",
    "    ('transformer_one_hot', one_hot_encoder),\n",
    "    ('classifier', clf)\n",
    "])\n",
    "\n",
    "pipe_one_hot_dropped = Pipeline(\n",
    "[\n",
    "    ('transformer_one_hot', one_hot_encoder_dropped),\n",
    "    ('classifier', clf)\n",
    "])"
   ]
  },
  {
   "cell_type": "code",
   "execution_count": null,
   "metadata": {
    "colab": {
     "base_uri": "https://localhost:8080/"
    },
    "id": "hDSlL2qK26no",
    "outputId": "7fa96ee8-d4cd-4336-e57b-8a119733d2ad"
   },
   "outputs": [],
   "source": [
    "print(np.mean(cross_validate(pipe_one_hot, X, y, cv=11, scoring='accuracy').get('test_score')))\n",
    "print(np.mean(cross_validate(pipe_one_hot_dropped, X_dropped, y_dropped, cv=11, scoring='accuracy').get('test_score')))"
   ]
  },
  {
   "cell_type": "markdown",
   "metadata": {
    "id": "--fR6YAGT5Mm"
   },
   "source": [
    "# **XGBClassifier**"
   ]
  },
  {
   "cell_type": "code",
   "execution_count": null,
   "metadata": {
    "id": "7_9n1nK0tMMY"
   },
   "outputs": [],
   "source": [
    "model=XGBClassifier(random_state=1,\n",
    "                    learning_rate=0.01, # Szybkość \"uczenia\" się\n",
    "                    booster='gbtree', # Jaki model wykorzystujemy (drzewo - gbtree, liniowe - gblinear)\n",
    "                    nround = 1000, # Ilość itereacji boosingowych\n",
    "                    max_depth=3, # Maksymalna głębokość drzewa \n",
    "                    verbosity = 0\n",
    "                    )\n",
    "XGB_one_hot = Pipeline(\n",
    "[\n",
    "    ('transformer_one_hot', one_hot_encoder),\n",
    "    ('classifier', model)\n",
    "])\n",
    "\n",
    "XGB_one_hot_dropped = Pipeline(\n",
    "[\n",
    "    ('transformer_one_hot', one_hot_encoder_dropped),\n",
    "    ('classifier', model)\n",
    "])"
   ]
  },
  {
   "cell_type": "code",
   "execution_count": null,
   "metadata": {
    "colab": {
     "base_uri": "https://localhost:8080/"
    },
    "id": "VyJ9A694QFMv",
    "outputId": "9b2dbb3f-cb51-4543-f795-a22170448162"
   },
   "outputs": [],
   "source": [
    "print(np.mean(cross_validate(XGB_one_hot, X, y, cv=11, scoring='accuracy').get('test_score')))\n",
    "print(np.mean(cross_validate(XGB_one_hot_dropped, X_dropped, y_dropped, cv=11, scoring='accuracy').get('test_score')))"
   ]
  },
  {
   "cell_type": "markdown",
   "metadata": {
    "id": "no9xThtDUEjt"
   },
   "source": [
    "# **AdaBoostClassifier**"
   ]
  },
  {
   "cell_type": "code",
   "execution_count": null,
   "metadata": {
    "id": "pxYsJ4pjxd71"
   },
   "outputs": [],
   "source": [
    "model = AdaBoostClassifier(random_state=1,learning_rate=0.1,algorithm ='SAMME.R')\n",
    "Ada_one_hot = Pipeline(\n",
    "[\n",
    "    ('transformer_one_hot', one_hot_encoder),\n",
    "    ('classifier', model)\n",
    "])\n",
    "\n",
    "Ada_one_hot_dropped = Pipeline(\n",
    "[\n",
    "    ('transformer_one_hot', one_hot_encoder_dropped),\n",
    "    ('classifier', model)\n",
    "])"
   ]
  },
  {
   "cell_type": "code",
   "execution_count": null,
   "metadata": {
    "colab": {
     "base_uri": "https://localhost:8080/"
    },
    "id": "bEQeCBwKPU_G",
    "outputId": "8e4c1af9-50b7-44c2-9d6a-f661b9c5bf3e"
   },
   "outputs": [],
   "source": [
    "print(np.mean(cross_validate(Ada_one_hot, X, y, cv=7, scoring='accuracy').get('test_score')))\n",
    "print(np.mean(cross_validate(Ada_one_hot_dropped, X_dropped, y_dropped, cv=7, scoring='accuracy').get('test_score')))\n"
   ]
  },
  {
   "cell_type": "markdown",
   "metadata": {
    "id": "fY1hlg4GUvyF"
   },
   "source": [
    "## *Uwaga!*\n",
    "\n",
    "Ze względu na istotę problemu, czyli wybór między dwoma ugrupowaniami politycznymi, jedyną interesującą nas miarą jest accuracy, gdyż dla nas jest to bez różnicy czy pomylimy się mówiąc, że republikanin jest demokratą, czy też na odwrót."
   ]
  },
  {
   "cell_type": "markdown",
   "metadata": {
    "id": "Q3tJL1oMVJ3O"
   },
   "source": [
    "# **TO DO:**\n",
    "\n",
    "Zamierzamy teraz skupić się na dwóch najlepiej zapowiadających się modelach, czyli AdaBoostClassifier i XGBClassifier. Chcemy poprawić ich parametry w taki sposób, aby otrzymać jak najlepsze wyniki."
   ]
  }
 ],
 "metadata": {
  "colab": {
   "collapsed_sections": [],
   "name": "CongerssionalVotingFirstModel.ipynb",
   "provenance": []
  },
  "kernelspec": {
   "display_name": "Python 3",
   "language": "python",
   "name": "python3"
  },
  "language_info": {
   "codemirror_mode": {
    "name": "ipython",
    "version": 3
   },
   "file_extension": ".py",
   "mimetype": "text/x-python",
   "name": "python",
   "nbconvert_exporter": "python",
   "pygments_lexer": "ipython3",
   "version": "3.8.5"
  }
 },
 "nbformat": 4,
 "nbformat_minor": 1
}
