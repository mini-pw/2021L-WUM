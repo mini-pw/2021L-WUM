{
 "cells": [
  {
   "cell_type": "markdown",
   "id": "necessary-induction",
   "metadata": {},
   "source": [
    "# Gender voice recognition - eksploracja danych\n",
    "Michał Piasecki, Bartosz Siński "
   ]
  },
  {
   "cell_type": "code",
   "execution_count": null,
   "id": "documented-silly",
   "metadata": {},
   "outputs": [],
   "source": [
    "import pandas as pd\n",
    "from matplotlib import pyplot as plt\n",
    "import seaborn as sns\n",
    "import numpy as np"
   ]
  },
  {
   "cell_type": "code",
   "execution_count": null,
   "id": "organic-harvey",
   "metadata": {},
   "outputs": [],
   "source": [
    "df_voice = pd.read_csv(\"./src/gender_voice_dataset.csv\")\n",
    "df_attr = pd.read_csv(\"./src/attributes_gender_voice.csv\")"
   ]
  },
  {
   "cell_type": "markdown",
   "id": "other-decline",
   "metadata": {},
   "source": [
    "# Podstawowe informacje "
   ]
  },
  {
   "cell_type": "code",
   "execution_count": null,
   "id": "coupled-definition",
   "metadata": {
    "scrolled": false
   },
   "outputs": [],
   "source": [
    "pd.options.display.max_colwidth = 200\n",
    "df_attr"
   ]
  },
  {
   "cell_type": "code",
   "execution_count": null,
   "id": "nominated-wallace",
   "metadata": {
    "scrolled": false
   },
   "outputs": [],
   "source": [
    "df_voice.info()"
   ]
  },
  {
   "cell_type": "markdown",
   "id": "bronze-security",
   "metadata": {},
   "source": [
    "Jak widzimy, nasz zbiór nie zawiera brakujących danych."
   ]
  },
  {
   "cell_type": "code",
   "execution_count": null,
   "id": "ready-municipality",
   "metadata": {
    "scrolled": false
   },
   "outputs": [],
   "source": [
    "df_voice.describe()"
   ]
  },
  {
   "cell_type": "code",
   "execution_count": null,
   "id": "pregnant-burke",
   "metadata": {
    "scrolled": false
   },
   "outputs": [],
   "source": [
    "df_voice.drop([\"label\"], axis=1).hist(bins = 40, figsize=(18, 12))\n",
    "plt.show()"
   ]
  },
  {
   "cell_type": "code",
   "execution_count": null,
   "id": "streaming-aside",
   "metadata": {
    "scrolled": true
   },
   "outputs": [],
   "source": [
    "voice_grouped = df_voice.groupby(by=\"label\")\n",
    "voice_grouped['meanfreq'].count()"
   ]
  },
  {
   "cell_type": "code",
   "execution_count": null,
   "id": "offshore-garden",
   "metadata": {},
   "outputs": [],
   "source": [
    "df_voice=pd.get_dummies(df_voice)"
   ]
  },
  {
   "cell_type": "markdown",
   "id": "filled-geneva",
   "metadata": {},
   "source": [
    "# Korelacje i zależności zmiennych "
   ]
  },
  {
   "cell_type": "code",
   "execution_count": null,
   "id": "italian-rhythm",
   "metadata": {
    "scrolled": false
   },
   "outputs": [],
   "source": [
    "plt.figure(figsize=(12,12))\n",
    "sns.heatmap(df_voice.corr())\n",
    "plt.show()"
   ]
  },
  {
   "cell_type": "markdown",
   "id": "tamil-classics",
   "metadata": {},
   "source": [
    "Przyjrzyjmy się bliżej *meanfreq,median,Q25,Q75,mode,centroid*, które wydają się byc ze soba najlepiej skorelowane. "
   ]
  },
  {
   "cell_type": "code",
   "execution_count": null,
   "id": "authorized-expansion",
   "metadata": {
    "scrolled": false
   },
   "outputs": [],
   "source": [
    "plt.figure(figsize=(8,8))\n",
    "sns.heatmap(df_voice[['meanfreq','median','Q25','Q75','mode','centroid']].corr(),annot=True, annot_kws={'size': 10}, fmt='.2f')\n",
    "plt.show()"
   ]
  },
  {
   "cell_type": "code",
   "execution_count": null,
   "id": "accessory-cosmetic",
   "metadata": {},
   "outputs": [],
   "source": [
    "sns.set()\n",
    "sns.pairplot(df_voice[['meanfreq','median','Q25','Q75','mode','centroid']], height = 5)\n",
    "plt.show();"
   ]
  },
  {
   "cell_type": "markdown",
   "id": "expected-helmet",
   "metadata": {},
   "source": [
    "Już teraz widzimy, że niektórych zmiennych będziemy mogli nie uwzględniać przy budowie naszego modelu. "
   ]
  },
  {
   "cell_type": "markdown",
   "id": "lightweight-technician",
   "metadata": {},
   "source": [
    "# Zmienne najlepiej skorelowane z targetem"
   ]
  },
  {
   "cell_type": "code",
   "execution_count": null,
   "id": "selected-blowing",
   "metadata": {
    "scrolled": false
   },
   "outputs": [],
   "source": [
    "voice_corr = df_voice.corr()[['label_male','label_female']]\n",
    "voice_corr.iloc[(-voice_corr['label_male'].abs()).argsort()]"
   ]
  },
  {
   "cell_type": "code",
   "execution_count": null,
   "id": "interesting-think",
   "metadata": {},
   "outputs": [],
   "source": [
    "fig, axs = plt.subplots(nrows=5,figsize=(5,20))\n",
    "fig.tight_layout(pad=3.0)\n",
    "sns.boxplot(data=df_voice,x=\"label_female\",y=\"meanfun\",ax=axs[0], palette = [\"deepskyblue\",\"pink\"])\n",
    "sns.boxplot(data=df_voice,x=\"label_female\",y=\"IQR\",ax=axs[1], palette = [\"deepskyblue\",\"pink\"])\n",
    "sns.boxplot(data=df_voice,x=\"label_female\",y=\"Q25\",ax=axs[2], palette = [\"deepskyblue\",\"pink\"])\n",
    "sns.boxplot(data=df_voice,x=\"label_female\",y=\"sp.ent\",ax=axs[3], palette = [\"deepskyblue\",\"pink\"])\n",
    "sns.boxplot(data=df_voice,x=\"label_female\",y=\"sd\",ax=axs[4], palette = [\"deepskyblue\",\"pink\"])"
   ]
  },
  {
   "cell_type": "markdown",
   "id": "impressive-auditor",
   "metadata": {},
   "source": [
    "# Różnice pomiędzy kobietami i mężczyznami "
   ]
  },
  {
   "cell_type": "code",
   "execution_count": null,
   "id": "signed-setting",
   "metadata": {
    "scrolled": false
   },
   "outputs": [],
   "source": [
    "df_voice1 = pd.read_csv(\"./src/gender_voice_dataset.csv\")\n",
    "females = df_voice1[df_voice1.label == \"female\"]\n",
    "males = df_voice1[df_voice1.label == \"male\"]\n",
    "columns = df_voice1[['meanfun','IQR','sp.ent','Q25','sd']].columns\n",
    "columns = columns.tolist()\n",
    "for column in columns:\n",
    "    sns.histplot(data = df_voice1, x = column, hue = \"label\", bins = 20, multiple = \"dodge\", palette = [\"deepskyblue\",\"pink\"])\n",
    "    plt.show()"
   ]
  },
  {
   "cell_type": "code",
   "execution_count": null,
   "id": "normal-receptor",
   "metadata": {
    "scrolled": false
   },
   "outputs": [],
   "source": [
    "fig, ax = plt.subplots(figsize=(8,8))\n",
    "sns.scatterplot(data=df_voice,x=\"IQR\",y=\"meanfun\",hue=\"label_female\", palette = [\"deepskyblue\",\"pink\"])\n",
    "plt.show()"
   ]
  },
  {
   "cell_type": "code",
   "execution_count": null,
   "id": "fifty-allen",
   "metadata": {
    "scrolled": false
   },
   "outputs": [],
   "source": [
    "fig, ax = plt.subplots(figsize=(8,8))\n",
    "sns.scatterplot(data=df_voice,x=\"meanfun\",y=\"Q25\",hue=\"label_female\", palette = [\"deepskyblue\",\"pink\"])\n",
    "plt.show()"
   ]
  }
 ],
 "metadata": {
  "kernelspec": {
   "display_name": "Python 3",
   "language": "python",
   "name": "python3"
  },
  "language_info": {
   "codemirror_mode": {
    "name": "ipython",
    "version": 3
   },
   "file_extension": ".py",
   "mimetype": "text/x-python",
   "name": "python",
   "nbconvert_exporter": "python",
   "pygments_lexer": "ipython3",
   "version": "3.8.8"
  }
 },
 "nbformat": 4,
 "nbformat_minor": 5
}
