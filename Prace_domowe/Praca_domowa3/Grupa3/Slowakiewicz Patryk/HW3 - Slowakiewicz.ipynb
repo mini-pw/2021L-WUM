{
 "cells": [
  {
   "cell_type": "code",
   "execution_count": 27,
   "id": "norwegian-concord",
   "metadata": {},
   "outputs": [],
   "source": [
    "import numpy as np\n",
    "import pandas as pd\n",
    "import matplotlib.pyplot as plt\n",
    "from sklearn.model_selection import train_test_split\n",
    "from sklearn.model_selection import cross_val_score\n",
    "from sklearn.tree import DecisionTreeClassifier,plot_tree\n",
    "from sklearn.pipeline import Pipeline\n",
    "from sklearn.linear_model import LogisticRegression\n",
    "from sklearn.ensemble import RandomForestClassifier\n",
    "import warnings\n",
    "from sklearn.metrics import accuracy_score, recall_score, precision_score, classification_report, roc_auc_score\n",
    "warnings.filterwarnings('ignore')"
   ]
  },
  {
   "cell_type": "markdown",
   "id": "crucial-laundry",
   "metadata": {},
   "source": [
    "## Wczytanie i prygotowanie danych\n",
    "\n",
    "Dane podzieliłem na 3 zbiory: treningowy, testowy i walidacyjny."
   ]
  },
  {
   "cell_type": "code",
   "execution_count": 4,
   "id": "endangered-concentration",
   "metadata": {},
   "outputs": [],
   "source": [
    "df = pd.read_csv('australia.csv')"
   ]
  },
  {
   "cell_type": "code",
   "execution_count": 5,
   "id": "filled-enzyme",
   "metadata": {},
   "outputs": [
    {
     "data": {
      "text/plain": [
       "Index(['MinTemp', 'MaxTemp', 'Rainfall', 'Evaporation', 'Sunshine',\n",
       "       'WindGustSpeed', 'WindSpeed9am', 'WindSpeed3pm', 'Humidity9am',\n",
       "       'Humidity3pm', 'Pressure9am', 'Pressure3pm', 'Cloud9am', 'Cloud3pm',\n",
       "       'Temp9am', 'Temp3pm', 'RainToday', 'RainTomorrow'],\n",
       "      dtype='object')"
      ]
     },
     "execution_count": 5,
     "metadata": {},
     "output_type": "execute_result"
    }
   ],
   "source": [
    "df.columns"
   ]
  },
  {
   "cell_type": "code",
   "execution_count": 6,
   "id": "introductory-jewelry",
   "metadata": {},
   "outputs": [],
   "source": [
    "x = df.drop('RainTomorrow', axis = 1)\n",
    "y = df.RainTomorrow\n",
    "x_train, x_test, y_train, y_test = train_test_split(x, y)\n",
    "x_test, x_val, y_test, y_val = train_test_split(x_test, y_test)"
   ]
  },
  {
   "cell_type": "markdown",
   "id": "concrete-garden",
   "metadata": {},
   "source": [
    "## Trenowanie modeli\n",
    "\n",
    "Postanowiłem sprawdzić jak działać będzie:\n",
    "- pojedyńcze drzewo w którym narzuciłem minimalną liczbę danych w liściu na 300 aby zapobiec przeuczaniu się modelu\n",
    "- regresja logistyczna której zmieniłem karę za liczbę zminnych, ponieważ i tak mamy dużo obserwacji\n",
    "- las losowy, sprawdzę czy faktycznie jest lepszy od pojedyńczego drzewa, zwiększyłem tu liczbę dzrzew do 150 oraz minimalą wartośCI w liściu DO 300"
   ]
  },
  {
   "cell_type": "code",
   "execution_count": 34,
   "id": "unsigned-hydrogen",
   "metadata": {},
   "outputs": [
    {
     "data": {
      "text/plain": [
       "0.8483645301569295"
      ]
     },
     "execution_count": 34,
     "metadata": {},
     "output_type": "execute_result"
    }
   ],
   "source": [
    "tree = DecisionTreeClassifier(min_samples_leaf=300)\n",
    "tree.fit(x_train, y_train)\n",
    "tree.score(x_test, y_test)"
   ]
  },
  {
   "cell_type": "code",
   "execution_count": 31,
   "id": "wired-westminster",
   "metadata": {},
   "outputs": [
    {
     "data": {
      "text/plain": [
       "0.8575345055776139"
      ]
     },
     "execution_count": 31,
     "metadata": {},
     "output_type": "execute_result"
    }
   ],
   "source": [
    "lr = LogisticRegression(penalty='none', max_iter=500)\n",
    "lr.fit(x_train, y_train)\n",
    "lr.score(x_test, y_test)"
   ]
  },
  {
   "cell_type": "code",
   "execution_count": 15,
   "id": "failing-porcelain",
   "metadata": {},
   "outputs": [
    {
     "data": {
      "text/plain": [
       "0.8548875023633957"
      ]
     },
     "execution_count": 15,
     "metadata": {},
     "output_type": "execute_result"
    }
   ],
   "source": [
    "rf = RandomForestClassifier(n_estimators=150, min_samples_leaf=300)\n",
    "rf.fit(x_train, y_train)\n",
    "rf.score(x_test, y_test)"
   ]
  },
  {
   "cell_type": "markdown",
   "id": "suited-louisiana",
   "metadata": {},
   "source": [
    "## Badanie skuteczności\n",
    "\n",
    "Aby zbadać skuteczność modeli sprawdziłem metodą średniej z crossvalidacji każdy z nich dla 4 równych metryk. Ogólne accuracy jest podobne dla każdego z modeli, gdzie Regresja Logistyczna jest o ok 0.5 pp lepsza.   \n",
    "Aby upewnić się co do wyniku sprawdzam modele na zbiorze testowym. W tym wypadku róznica w Accuracy jest jeszcze mniejsza. Warto się zastanownić czy któraś z miar nie jest dla nas ważniejsza. Uważam, że wyłapywanie dni które są deszczowe jest dla nas jak najbardziej kluczowe, dlatego powinniśmy dużą uwagę przyłożyć do miary Recall. W tym wypadku Log Reg jest dużo lepsze od pozostałych modeli, choć nadal z dość słabym wynikiem, nieco ponad 52%.  \n",
    "\n",
    "Biorąc pod uwagę ponniższe wyniki uważam, że Log Reg jest najlepszym modelem do naszego problemu."
   ]
  },
  {
   "cell_type": "code",
   "execution_count": 18,
   "id": "stock-albuquerque",
   "metadata": {},
   "outputs": [
    {
     "data": {
      "text/html": [
       "<div>\n",
       "<style scoped>\n",
       "    .dataframe tbody tr th:only-of-type {\n",
       "        vertical-align: middle;\n",
       "    }\n",
       "\n",
       "    .dataframe tbody tr th {\n",
       "        vertical-align: top;\n",
       "    }\n",
       "\n",
       "    .dataframe thead th {\n",
       "        text-align: right;\n",
       "    }\n",
       "</style>\n",
       "<table border=\"1\" class=\"dataframe\">\n",
       "  <thead>\n",
       "    <tr style=\"text-align: right;\">\n",
       "      <th></th>\n",
       "      <th>accuracy</th>\n",
       "      <th>precision</th>\n",
       "      <th>recall</th>\n",
       "      <th>roc_auc</th>\n",
       "    </tr>\n",
       "  </thead>\n",
       "  <tbody>\n",
       "    <tr>\n",
       "      <th>Tree</th>\n",
       "      <td>0.845374</td>\n",
       "      <td>0.719639</td>\n",
       "      <td>0.496483</td>\n",
       "      <td>0.866734</td>\n",
       "    </tr>\n",
       "    <tr>\n",
       "      <th>Log Reg</th>\n",
       "      <td>0.851826</td>\n",
       "      <td>0.730565</td>\n",
       "      <td>0.525895</td>\n",
       "      <td>0.880104</td>\n",
       "    </tr>\n",
       "    <tr>\n",
       "      <th>Random Forest</th>\n",
       "      <td>0.849321</td>\n",
       "      <td>0.761191</td>\n",
       "      <td>0.467711</td>\n",
       "      <td>0.881172</td>\n",
       "    </tr>\n",
       "  </tbody>\n",
       "</table>\n",
       "</div>"
      ],
      "text/plain": [
       "               accuracy precision    recall   roc_auc\n",
       "Tree           0.845374  0.719639  0.496483  0.866734\n",
       "Log Reg        0.851826  0.730565  0.525895  0.880104\n",
       "Random Forest  0.849321  0.761191  0.467711  0.881172"
      ]
     },
     "execution_count": 18,
     "metadata": {},
     "output_type": "execute_result"
    }
   ],
   "source": [
    "df = pd.DataFrame(columns=['accuracy','precision','recall', 'roc_auc'], index=['Tree', 'Log Reg', 'Random Forest'])\n",
    "ls = [tree, lr, rf]\n",
    "for i in range(0, len(ls)):\n",
    "    for metric in df.columns.values:\n",
    "        df.loc[df.index[i],metric] = np.mean(cross_val_score(ls[i], x_train, y_train, scoring=metric))\n",
    "df"
   ]
  },
  {
   "cell_type": "code",
   "execution_count": 28,
   "id": "subsequent-classification",
   "metadata": {},
   "outputs": [],
   "source": [
    "tree_y_hat = tree.predict(x_test)\n",
    "lr_y_hat = lr.predict(x_test)\n",
    "rf_y_hat = rf.predict(x_test)\n",
    "ls_hat = [tree_y_hat, lr_y_hat, rf_y_hat]"
   ]
  },
  {
   "cell_type": "code",
   "execution_count": 43,
   "id": "magnetic-comment",
   "metadata": {},
   "outputs": [],
   "source": [
    "df1 = pd.DataFrame(columns=['accuracy','precision','recall', 'roc_auc'], index=['Tree', 'Log Reg', 'Random Forest'])\n",
    "metric = df1.columns.values\n",
    "for i in range(0, len(ls)):\n",
    "    df1.loc[df.index[i],metric[0]] = accuracy_score(y_test, ls_hat[i])\n",
    "    df1.loc[df.index[i],metric[1]] = precision_score(y_test, ls_hat[i])\n",
    "    df1.loc[df.index[i],metric[2]] = recall_score(y_test, ls_hat[i])\n",
    "    df1.loc[df.index[i],metric[3]] = roc_auc_score(y_test, ls_hat[i])"
   ]
  },
  {
   "cell_type": "code",
   "execution_count": 45,
   "id": "functional-corpus",
   "metadata": {},
   "outputs": [
    {
     "data": {
      "text/html": [
       "<div>\n",
       "<style scoped>\n",
       "    .dataframe tbody tr th:only-of-type {\n",
       "        vertical-align: middle;\n",
       "    }\n",
       "\n",
       "    .dataframe tbody tr th {\n",
       "        vertical-align: top;\n",
       "    }\n",
       "\n",
       "    .dataframe thead th {\n",
       "        text-align: right;\n",
       "    }\n",
       "</style>\n",
       "<table border=\"1\" class=\"dataframe\">\n",
       "  <thead>\n",
       "    <tr style=\"text-align: right;\">\n",
       "      <th></th>\n",
       "      <th>accuracy</th>\n",
       "      <th>precision</th>\n",
       "      <th>recall</th>\n",
       "      <th>roc_auc</th>\n",
       "    </tr>\n",
       "  </thead>\n",
       "  <tbody>\n",
       "    <tr>\n",
       "      <th>Tree</th>\n",
       "      <td>0.847797</td>\n",
       "      <td>0.699387</td>\n",
       "      <td>0.504425</td>\n",
       "      <td>0.722758</td>\n",
       "    </tr>\n",
       "    <tr>\n",
       "      <th>Log Reg</th>\n",
       "      <td>0.857535</td>\n",
       "      <td>0.731123</td>\n",
       "      <td>0.526991</td>\n",
       "      <td>0.737167</td>\n",
       "    </tr>\n",
       "    <tr>\n",
       "      <th>Random Forest</th>\n",
       "      <td>0.854888</td>\n",
       "      <td>0.76023</td>\n",
       "      <td>0.468584</td>\n",
       "      <td>0.714215</td>\n",
       "    </tr>\n",
       "  </tbody>\n",
       "</table>\n",
       "</div>"
      ],
      "text/plain": [
       "               accuracy precision    recall   roc_auc\n",
       "Tree           0.847797  0.699387  0.504425  0.722758\n",
       "Log Reg        0.857535  0.731123  0.526991  0.737167\n",
       "Random Forest  0.854888   0.76023  0.468584  0.714215"
      ]
     },
     "execution_count": 45,
     "metadata": {},
     "output_type": "execute_result"
    }
   ],
   "source": [
    "df1"
   ]
  },
  {
   "cell_type": "code",
   "execution_count": null,
   "id": "forward-immigration",
   "metadata": {},
   "outputs": [],
   "source": []
  }
 ],
 "metadata": {
  "kernelspec": {
   "display_name": "Python 3",
   "language": "python",
   "name": "python3"
  },
  "language_info": {
   "codemirror_mode": {
    "name": "ipython",
    "version": 3
   },
   "file_extension": ".py",
   "mimetype": "text/x-python",
   "name": "python",
   "nbconvert_exporter": "python",
   "pygments_lexer": "ipython3",
   "version": "3.8.8"
  }
 },
 "nbformat": 4,
 "nbformat_minor": 5
}
