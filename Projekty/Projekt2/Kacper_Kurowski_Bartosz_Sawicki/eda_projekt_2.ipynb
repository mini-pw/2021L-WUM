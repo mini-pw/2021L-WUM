{
 "cells": [
  {
   "cell_type": "markdown",
   "metadata": {},
   "source": [
    "# Projekt 2\n",
    "\n",
    "## EDA"
   ]
  },
  {
   "cell_type": "code",
   "execution_count": null,
   "metadata": {},
   "outputs": [],
   "source": [
    "import os \n",
    "os.getcwd()\n",
    "#os.chdir(\"/home/kurowskik/UCI HAR Dataset\")\n",
    "os.getcwd()"
   ]
  },
  {
   "cell_type": "code",
   "execution_count": 1,
   "metadata": {},
   "outputs": [],
   "source": [
    "import pandas as pd\n",
    "import numpy as np\n",
    "import seaborn as sns"
   ]
  },
  {
   "cell_type": "code",
   "execution_count": 2,
   "metadata": {
    "scrolled": true
   },
   "outputs": [
    {
     "ename": "FileNotFoundError",
     "evalue": "[Errno 2] No such file or directory: 'features.txt'",
     "output_type": "error",
     "traceback": [
      "\u001b[0;31m---------------------------------------------------------------------------\u001b[0m",
      "\u001b[0;31mFileNotFoundError\u001b[0m                         Traceback (most recent call last)",
      "\u001b[0;32m<ipython-input-2-3a3623c4f528>\u001b[0m in \u001b[0;36m<module>\u001b[0;34m\u001b[0m\n\u001b[0;32m----> 1\u001b[0;31m \u001b[0mnames\u001b[0m \u001b[0;34m=\u001b[0m \u001b[0mpd\u001b[0m\u001b[0;34m.\u001b[0m\u001b[0mread_csv\u001b[0m\u001b[0;34m(\u001b[0m \u001b[0;34m\"features.txt\"\u001b[0m\u001b[0;34m,\u001b[0m \u001b[0msep\u001b[0m\u001b[0;34m=\u001b[0m\u001b[0;34m\" \"\u001b[0m\u001b[0;34m,\u001b[0m \u001b[0mheader\u001b[0m \u001b[0;34m=\u001b[0m \u001b[0;32mNone\u001b[0m\u001b[0;34m)\u001b[0m\u001b[0;34m\u001b[0m\u001b[0;34m\u001b[0m\u001b[0m\n\u001b[0m\u001b[1;32m      2\u001b[0m \u001b[0;31m#names = np.unique( names[[1]].values.flatten().tolist())\u001b[0m\u001b[0;34m\u001b[0m\u001b[0;34m\u001b[0m\u001b[0;34m\u001b[0m\u001b[0m\n\u001b[1;32m      3\u001b[0m \u001b[0mnames\u001b[0m \u001b[0;34m=\u001b[0m \u001b[0mnames\u001b[0m\u001b[0;34m[\u001b[0m\u001b[0;34m[\u001b[0m\u001b[0;36m1\u001b[0m\u001b[0;34m]\u001b[0m\u001b[0;34m]\u001b[0m\u001b[0;34m.\u001b[0m\u001b[0mvalues\u001b[0m\u001b[0;34m.\u001b[0m\u001b[0mflatten\u001b[0m\u001b[0;34m(\u001b[0m\u001b[0;34m)\u001b[0m\u001b[0;34m.\u001b[0m\u001b[0mtolist\u001b[0m\u001b[0;34m(\u001b[0m\u001b[0;34m)\u001b[0m\u001b[0;34m\u001b[0m\u001b[0;34m\u001b[0m\u001b[0m\n\u001b[1;32m      4\u001b[0m \u001b[0mnames\u001b[0m \u001b[0;34m=\u001b[0m \u001b[0;34m[\u001b[0m \u001b[0mnames\u001b[0m\u001b[0;34m[\u001b[0m\u001b[0mi\u001b[0m\u001b[0;34m]\u001b[0m \u001b[0;34m+\u001b[0m \u001b[0mstr\u001b[0m\u001b[0;34m(\u001b[0m\u001b[0mi\u001b[0m\u001b[0;34m)\u001b[0m \u001b[0;32mfor\u001b[0m \u001b[0mi\u001b[0m \u001b[0;32min\u001b[0m \u001b[0mrange\u001b[0m\u001b[0;34m(\u001b[0m \u001b[0mlen\u001b[0m\u001b[0;34m(\u001b[0m \u001b[0mnames\u001b[0m\u001b[0;34m)\u001b[0m\u001b[0;34m)\u001b[0m\u001b[0;34m]\u001b[0m\u001b[0;34m\u001b[0m\u001b[0;34m\u001b[0m\u001b[0m\n",
      "\u001b[0;32m~/Studia/4sem/Wstęp_do_U_M/venv/lib/python3.8/site-packages/pandas/io/parsers.py\u001b[0m in \u001b[0;36mread_csv\u001b[0;34m(filepath_or_buffer, sep, delimiter, header, names, index_col, usecols, squeeze, prefix, mangle_dupe_cols, dtype, engine, converters, true_values, false_values, skipinitialspace, skiprows, skipfooter, nrows, na_values, keep_default_na, na_filter, verbose, skip_blank_lines, parse_dates, infer_datetime_format, keep_date_col, date_parser, dayfirst, cache_dates, iterator, chunksize, compression, thousands, decimal, lineterminator, quotechar, quoting, doublequote, escapechar, comment, encoding, dialect, error_bad_lines, warn_bad_lines, delim_whitespace, low_memory, memory_map, float_precision, storage_options)\u001b[0m\n\u001b[1;32m    608\u001b[0m     \u001b[0mkwds\u001b[0m\u001b[0;34m.\u001b[0m\u001b[0mupdate\u001b[0m\u001b[0;34m(\u001b[0m\u001b[0mkwds_defaults\u001b[0m\u001b[0;34m)\u001b[0m\u001b[0;34m\u001b[0m\u001b[0;34m\u001b[0m\u001b[0m\n\u001b[1;32m    609\u001b[0m \u001b[0;34m\u001b[0m\u001b[0m\n\u001b[0;32m--> 610\u001b[0;31m     \u001b[0;32mreturn\u001b[0m \u001b[0m_read\u001b[0m\u001b[0;34m(\u001b[0m\u001b[0mfilepath_or_buffer\u001b[0m\u001b[0;34m,\u001b[0m \u001b[0mkwds\u001b[0m\u001b[0;34m)\u001b[0m\u001b[0;34m\u001b[0m\u001b[0;34m\u001b[0m\u001b[0m\n\u001b[0m\u001b[1;32m    611\u001b[0m \u001b[0;34m\u001b[0m\u001b[0m\n\u001b[1;32m    612\u001b[0m \u001b[0;34m\u001b[0m\u001b[0m\n",
      "\u001b[0;32m~/Studia/4sem/Wstęp_do_U_M/venv/lib/python3.8/site-packages/pandas/io/parsers.py\u001b[0m in \u001b[0;36m_read\u001b[0;34m(filepath_or_buffer, kwds)\u001b[0m\n\u001b[1;32m    460\u001b[0m \u001b[0;34m\u001b[0m\u001b[0m\n\u001b[1;32m    461\u001b[0m     \u001b[0;31m# Create the parser.\u001b[0m\u001b[0;34m\u001b[0m\u001b[0;34m\u001b[0m\u001b[0;34m\u001b[0m\u001b[0m\n\u001b[0;32m--> 462\u001b[0;31m     \u001b[0mparser\u001b[0m \u001b[0;34m=\u001b[0m \u001b[0mTextFileReader\u001b[0m\u001b[0;34m(\u001b[0m\u001b[0mfilepath_or_buffer\u001b[0m\u001b[0;34m,\u001b[0m \u001b[0;34m**\u001b[0m\u001b[0mkwds\u001b[0m\u001b[0;34m)\u001b[0m\u001b[0;34m\u001b[0m\u001b[0;34m\u001b[0m\u001b[0m\n\u001b[0m\u001b[1;32m    463\u001b[0m \u001b[0;34m\u001b[0m\u001b[0m\n\u001b[1;32m    464\u001b[0m     \u001b[0;32mif\u001b[0m \u001b[0mchunksize\u001b[0m \u001b[0;32mor\u001b[0m \u001b[0miterator\u001b[0m\u001b[0;34m:\u001b[0m\u001b[0;34m\u001b[0m\u001b[0;34m\u001b[0m\u001b[0m\n",
      "\u001b[0;32m~/Studia/4sem/Wstęp_do_U_M/venv/lib/python3.8/site-packages/pandas/io/parsers.py\u001b[0m in \u001b[0;36m__init__\u001b[0;34m(self, f, engine, **kwds)\u001b[0m\n\u001b[1;32m    817\u001b[0m             \u001b[0mself\u001b[0m\u001b[0;34m.\u001b[0m\u001b[0moptions\u001b[0m\u001b[0;34m[\u001b[0m\u001b[0;34m\"has_index_names\"\u001b[0m\u001b[0;34m]\u001b[0m \u001b[0;34m=\u001b[0m \u001b[0mkwds\u001b[0m\u001b[0;34m[\u001b[0m\u001b[0;34m\"has_index_names\"\u001b[0m\u001b[0;34m]\u001b[0m\u001b[0;34m\u001b[0m\u001b[0;34m\u001b[0m\u001b[0m\n\u001b[1;32m    818\u001b[0m \u001b[0;34m\u001b[0m\u001b[0m\n\u001b[0;32m--> 819\u001b[0;31m         \u001b[0mself\u001b[0m\u001b[0;34m.\u001b[0m\u001b[0m_engine\u001b[0m \u001b[0;34m=\u001b[0m \u001b[0mself\u001b[0m\u001b[0;34m.\u001b[0m\u001b[0m_make_engine\u001b[0m\u001b[0;34m(\u001b[0m\u001b[0mself\u001b[0m\u001b[0;34m.\u001b[0m\u001b[0mengine\u001b[0m\u001b[0;34m)\u001b[0m\u001b[0;34m\u001b[0m\u001b[0;34m\u001b[0m\u001b[0m\n\u001b[0m\u001b[1;32m    820\u001b[0m \u001b[0;34m\u001b[0m\u001b[0m\n\u001b[1;32m    821\u001b[0m     \u001b[0;32mdef\u001b[0m \u001b[0mclose\u001b[0m\u001b[0;34m(\u001b[0m\u001b[0mself\u001b[0m\u001b[0;34m)\u001b[0m\u001b[0;34m:\u001b[0m\u001b[0;34m\u001b[0m\u001b[0;34m\u001b[0m\u001b[0m\n",
      "\u001b[0;32m~/Studia/4sem/Wstęp_do_U_M/venv/lib/python3.8/site-packages/pandas/io/parsers.py\u001b[0m in \u001b[0;36m_make_engine\u001b[0;34m(self, engine)\u001b[0m\n\u001b[1;32m   1048\u001b[0m             )\n\u001b[1;32m   1049\u001b[0m         \u001b[0;31m# error: Too many arguments for \"ParserBase\"\u001b[0m\u001b[0;34m\u001b[0m\u001b[0;34m\u001b[0m\u001b[0;34m\u001b[0m\u001b[0m\n\u001b[0;32m-> 1050\u001b[0;31m         \u001b[0;32mreturn\u001b[0m \u001b[0mmapping\u001b[0m\u001b[0;34m[\u001b[0m\u001b[0mengine\u001b[0m\u001b[0;34m]\u001b[0m\u001b[0;34m(\u001b[0m\u001b[0mself\u001b[0m\u001b[0;34m.\u001b[0m\u001b[0mf\u001b[0m\u001b[0;34m,\u001b[0m \u001b[0;34m**\u001b[0m\u001b[0mself\u001b[0m\u001b[0;34m.\u001b[0m\u001b[0moptions\u001b[0m\u001b[0;34m)\u001b[0m  \u001b[0;31m# type: ignore[call-arg]\u001b[0m\u001b[0;34m\u001b[0m\u001b[0;34m\u001b[0m\u001b[0m\n\u001b[0m\u001b[1;32m   1051\u001b[0m \u001b[0;34m\u001b[0m\u001b[0m\n\u001b[1;32m   1052\u001b[0m     \u001b[0;32mdef\u001b[0m \u001b[0m_failover_to_python\u001b[0m\u001b[0;34m(\u001b[0m\u001b[0mself\u001b[0m\u001b[0;34m)\u001b[0m\u001b[0;34m:\u001b[0m\u001b[0;34m\u001b[0m\u001b[0;34m\u001b[0m\u001b[0m\n",
      "\u001b[0;32m~/Studia/4sem/Wstęp_do_U_M/venv/lib/python3.8/site-packages/pandas/io/parsers.py\u001b[0m in \u001b[0;36m__init__\u001b[0;34m(self, src, **kwds)\u001b[0m\n\u001b[1;32m   1865\u001b[0m \u001b[0;34m\u001b[0m\u001b[0m\n\u001b[1;32m   1866\u001b[0m         \u001b[0;31m# open handles\u001b[0m\u001b[0;34m\u001b[0m\u001b[0;34m\u001b[0m\u001b[0;34m\u001b[0m\u001b[0m\n\u001b[0;32m-> 1867\u001b[0;31m         \u001b[0mself\u001b[0m\u001b[0;34m.\u001b[0m\u001b[0m_open_handles\u001b[0m\u001b[0;34m(\u001b[0m\u001b[0msrc\u001b[0m\u001b[0;34m,\u001b[0m \u001b[0mkwds\u001b[0m\u001b[0;34m)\u001b[0m\u001b[0;34m\u001b[0m\u001b[0;34m\u001b[0m\u001b[0m\n\u001b[0m\u001b[1;32m   1868\u001b[0m         \u001b[0;32massert\u001b[0m \u001b[0mself\u001b[0m\u001b[0;34m.\u001b[0m\u001b[0mhandles\u001b[0m \u001b[0;32mis\u001b[0m \u001b[0;32mnot\u001b[0m \u001b[0;32mNone\u001b[0m\u001b[0;34m\u001b[0m\u001b[0;34m\u001b[0m\u001b[0m\n\u001b[1;32m   1869\u001b[0m         \u001b[0;32mfor\u001b[0m \u001b[0mkey\u001b[0m \u001b[0;32min\u001b[0m \u001b[0;34m(\u001b[0m\u001b[0;34m\"storage_options\"\u001b[0m\u001b[0;34m,\u001b[0m \u001b[0;34m\"encoding\"\u001b[0m\u001b[0;34m,\u001b[0m \u001b[0;34m\"memory_map\"\u001b[0m\u001b[0;34m,\u001b[0m \u001b[0;34m\"compression\"\u001b[0m\u001b[0;34m)\u001b[0m\u001b[0;34m:\u001b[0m\u001b[0;34m\u001b[0m\u001b[0;34m\u001b[0m\u001b[0m\n",
      "\u001b[0;32m~/Studia/4sem/Wstęp_do_U_M/venv/lib/python3.8/site-packages/pandas/io/parsers.py\u001b[0m in \u001b[0;36m_open_handles\u001b[0;34m(self, src, kwds)\u001b[0m\n\u001b[1;32m   1360\u001b[0m         \u001b[0mLet\u001b[0m \u001b[0mthe\u001b[0m \u001b[0mreaders\u001b[0m \u001b[0mopen\u001b[0m \u001b[0mIOHanldes\u001b[0m \u001b[0mafter\u001b[0m \u001b[0mthey\u001b[0m \u001b[0mare\u001b[0m \u001b[0mdone\u001b[0m \u001b[0;32mwith\u001b[0m \u001b[0mtheir\u001b[0m \u001b[0mpotential\u001b[0m \u001b[0mraises\u001b[0m\u001b[0;34m.\u001b[0m\u001b[0;34m\u001b[0m\u001b[0;34m\u001b[0m\u001b[0m\n\u001b[1;32m   1361\u001b[0m         \"\"\"\n\u001b[0;32m-> 1362\u001b[0;31m         self.handles = get_handle(\n\u001b[0m\u001b[1;32m   1363\u001b[0m             \u001b[0msrc\u001b[0m\u001b[0;34m,\u001b[0m\u001b[0;34m\u001b[0m\u001b[0;34m\u001b[0m\u001b[0m\n\u001b[1;32m   1364\u001b[0m             \u001b[0;34m\"r\"\u001b[0m\u001b[0;34m,\u001b[0m\u001b[0;34m\u001b[0m\u001b[0;34m\u001b[0m\u001b[0m\n",
      "\u001b[0;32m~/Studia/4sem/Wstęp_do_U_M/venv/lib/python3.8/site-packages/pandas/io/common.py\u001b[0m in \u001b[0;36mget_handle\u001b[0;34m(path_or_buf, mode, encoding, compression, memory_map, is_text, errors, storage_options)\u001b[0m\n\u001b[1;32m    640\u001b[0m                 \u001b[0merrors\u001b[0m \u001b[0;34m=\u001b[0m \u001b[0;34m\"replace\"\u001b[0m\u001b[0;34m\u001b[0m\u001b[0;34m\u001b[0m\u001b[0m\n\u001b[1;32m    641\u001b[0m             \u001b[0;31m# Encoding\u001b[0m\u001b[0;34m\u001b[0m\u001b[0;34m\u001b[0m\u001b[0;34m\u001b[0m\u001b[0m\n\u001b[0;32m--> 642\u001b[0;31m             handle = open(\n\u001b[0m\u001b[1;32m    643\u001b[0m                 \u001b[0mhandle\u001b[0m\u001b[0;34m,\u001b[0m\u001b[0;34m\u001b[0m\u001b[0;34m\u001b[0m\u001b[0m\n\u001b[1;32m    644\u001b[0m                 \u001b[0mioargs\u001b[0m\u001b[0;34m.\u001b[0m\u001b[0mmode\u001b[0m\u001b[0;34m,\u001b[0m\u001b[0;34m\u001b[0m\u001b[0;34m\u001b[0m\u001b[0m\n",
      "\u001b[0;31mFileNotFoundError\u001b[0m: [Errno 2] No such file or directory: 'features.txt'"
     ]
    }
   ],
   "source": [
    "names = pd.read_csv( \"features.txt\", sep=\" \", header = None)\n",
    "#names = np.unique( names[[1]].values.flatten().tolist())\n",
    "names = names[[1]].values.flatten().tolist()\n",
    "names = [ names[i] + str(i) for i in range( len( names))]"
   ]
  },
  {
   "cell_type": "code",
   "execution_count": null,
   "metadata": {},
   "outputs": [],
   "source": [
    "X_train = pd.read_csv( \"train/X_train.txt\", delim_whitespace = True, names=names)\n",
    "X_test  = pd.read_csv( \"test/X_test.txt\", delim_whitespace = True, names=names)"
   ]
  },
  {
   "cell_type": "code",
   "execution_count": null,
   "metadata": {},
   "outputs": [],
   "source": [
    "y_train = pd.read_csv( \"train/y_train.txt\", delim_whitespace = True, header= None)\n",
    "y_test = pd.read_csv( \"test/y_test.txt\", delim_whitespace = True, header= None)"
   ]
  },
  {
   "cell_type": "code",
   "execution_count": null,
   "metadata": {},
   "outputs": [],
   "source": [
    "train_subjects = pd.read_csv( \"train/subject_train.txt\", delim_whitespace = True, header= None, names = [\"sub\"])\n",
    "test_subjects = pd.read_csv( \"test/subject_test.txt\", delim_whitespace = True, header= None, names = [\"sub\"])\n"
   ]
  },
  {
   "cell_type": "markdown",
   "metadata": {},
   "source": [
    "rozkład obserwacji względem uczestników"
   ]
  },
  {
   "cell_type": "code",
   "execution_count": null,
   "metadata": {},
   "outputs": [],
   "source": [
    "train_subjects[\"group\"] = \"train\"\n",
    "test_subjects[\"group\"] = \"test\"\n",
    "subjects = pd.concat([ test_subjects, train_subjects], ignore_index=True)\n",
    "sns.histplot( data = subjects, x = \"sub\", bins = 30,# y = \"size\",\n",
    "             hue = \"group\", palette = \"colorblind\")"
   ]
  },
  {
   "cell_type": "markdown",
   "metadata": {},
   "source": [
    "rozkład obserwacji względem uczestników z podziałem na labele"
   ]
  },
  {
   "cell_type": "code",
   "execution_count": null,
   "metadata": {},
   "outputs": [],
   "source": [
    "train_sub_with_labels = train_subjects.copy()\n",
    "train_sub_with_labels[\"label\"] = y_train\n",
    "test_sub_with_labels = test_subjects.copy()\n",
    "test_sub_with_labels[\"label\"] = y_test\n",
    "\n",
    "train_sub_with_labels[\"label\"] = train_sub_with_labels[\"label\"].map( decode)\n",
    "test_sub_with_labels[\"label\"] = test_sub_with_labels[\"label\"].map( decode)"
   ]
  },
  {
   "cell_type": "code",
   "execution_count": null,
   "metadata": {},
   "outputs": [],
   "source": [
    "sns.histplot( data = train_sub_with_labels, x = \"sub\", bins = 30,# y = \"size\",\n",
    "             hue = \"label\", palette = \"colorblind\", multiple = \"stack\",\n",
    "            stat = \"count\")"
   ]
  },
  {
   "cell_type": "code",
   "execution_count": null,
   "metadata": {},
   "outputs": [],
   "source": [
    "sns.histplot( data = test_sub_with_labels, x = \"sub\", bins = 30,# y = \"size\",\n",
    "             hue = \"label\", palette = \"colorblind\", multiple = \"stack\",\n",
    "            stat = \"count\")"
   ]
  },
  {
   "cell_type": "markdown",
   "metadata": {},
   "source": [
    "proste sprawdzenie co jest w środku"
   ]
  },
  {
   "cell_type": "code",
   "execution_count": null,
   "metadata": {},
   "outputs": [],
   "source": [
    "merged_train = X_train.copy()\n",
    "merged_train[\"to_predict\"] = y_train.values\n",
    "merged_train[\"to_predict\"]"
   ]
  },
  {
   "cell_type": "code",
   "execution_count": null,
   "metadata": {},
   "outputs": [],
   "source": [
    "merged_train.head()"
   ]
  },
  {
   "cell_type": "code",
   "execution_count": null,
   "metadata": {},
   "outputs": [],
   "source": [
    "merged_train.info()"
   ]
  },
  {
   "cell_type": "code",
   "execution_count": null,
   "metadata": {},
   "outputs": [],
   "source": [
    "decode = {1: \"walk\", 2:\"walk up\", 3:\"walk down\", 4:\"sit\", 5:\"stand\", 6:\"lie\"}\n",
    "merged_train[\"to_predict\"] = merged_train[\"to_predict\"].map( decode)\n",
    "merged_train[\"to_predict\"]"
   ]
  },
  {
   "cell_type": "code",
   "execution_count": null,
   "metadata": {},
   "outputs": [],
   "source": [
    "merged_train.describe()"
   ]
  },
  {
   "cell_type": "code",
   "execution_count": null,
   "metadata": {},
   "outputs": [],
   "source": [
    "cols = merged_train.columns\n",
    "cols.values"
   ]
  },
  {
   "cell_type": "markdown",
   "metadata": {},
   "source": [
    "różne wyrkesy"
   ]
  },
  {
   "cell_type": "code",
   "execution_count": null,
   "metadata": {},
   "outputs": [],
   "source": [
    "import seaborn as sns\n",
    "\n",
    "sns.scatterplot(x=\"tBodyGyro-correlation()-X,Z158\", y=\"angle(tBodyGyroJerkMean,gravityMean)557\", hue=\"to_predict\",\n",
    "              data=merged_train,\n",
    "                alpha = 0.2,\n",
    "    palette = \"colorblind\")#, kind = 'kde')"
   ]
  },
  {
   "cell_type": "code",
   "execution_count": null,
   "metadata": {},
   "outputs": [],
   "source": [
    "\n",
    "sns.jointplot(\n",
    "    data= merged_train,\n",
    "    x=\"tBodyGyro-max()-Y130\", \n",
    "    y='angle(Z,gravityMean)560',\n",
    "    hue=\"to_predict\",\n",
    "    kind=\"kde\",\n",
    "    palette = \"colorblind\"\n",
    ")"
   ]
  },
  {
   "cell_type": "code",
   "execution_count": null,
   "metadata": {},
   "outputs": [],
   "source": [
    "\n",
    "sns.jointplot(\n",
    "    data= merged_train,\n",
    "    x=\"tBodyAcc-max()-X9\", \n",
    "    y='angle(X,gravityMean)558',\n",
    "    hue=\"to_predict\",\n",
    "   # kind=\"kde\",\n",
    "    palette = \"colorblind\",\n",
    "    alpha = 0.3\n",
    ")"
   ]
  },
  {
   "cell_type": "code",
   "execution_count": null,
   "metadata": {},
   "outputs": [],
   "source": [
    "\n",
    "sns.jointplot(\n",
    "    data= merged_train,\n",
    "    x=\"tBodyAcc-max()-X9\", \n",
    "    y='angle(X,gravityMean)558',\n",
    "    hue=\"to_predict\",\n",
    "    kind=\"kde\",\n",
    "    palette = \"colorblind\",\n",
    ")"
   ]
  },
  {
   "cell_type": "code",
   "execution_count": null,
   "metadata": {},
   "outputs": [],
   "source": [
    "sns.jointplot(\n",
    "    data= merged_train,\n",
    "    x=\"tBodyAcc-max()-X9\", \n",
    "    y='tBodyAccMag-mad()202',\n",
    "    hue=\"to_predict\",\n",
    "    alpha = 0.2,\n",
    "    palette = \"colorblind\",\n",
    ")"
   ]
  },
  {
   "cell_type": "code",
   "execution_count": null,
   "metadata": {},
   "outputs": [],
   "source": [
    "sns.jointplot(\n",
    "    data= merged_train,\n",
    "    x=\"angle(X,gravityMean)558\", \n",
    "    y='tBodyGyro-entropy()-Z144',\n",
    "    hue=\"to_predict\",\n",
    "    kind = \"kde\",\n",
    "    palette = \"colorblind\",\n",
    ")"
   ]
  },
  {
   "cell_type": "code",
   "execution_count": null,
   "metadata": {},
   "outputs": [],
   "source": [
    "sns.jointplot(\n",
    "    data= merged_train,\n",
    "    x=\"angle(X,gravityMean)558\", \n",
    "    y='tBodyGyro-entropy()-Z144',\n",
    "    hue=\"to_predict\",\n",
    "    alpha = 0.2,\n",
    "    palette = \"colorblind\",\n",
    ")"
   ]
  },
  {
   "cell_type": "code",
   "execution_count": null,
   "metadata": {},
   "outputs": [],
   "source": []
  },
  {
   "cell_type": "code",
   "execution_count": null,
   "metadata": {},
   "outputs": [],
   "source": []
  },
  {
   "cell_type": "code",
   "execution_count": null,
   "metadata": {},
   "outputs": [],
   "source": [
    "\n",
    "sns.jointplot(\n",
    "    data= merged_train,\n",
    "    x=\"tBodyGyro-std()-X123\", \n",
    "    y='angle(Y,gravityMean)559',\n",
    "    hue=\"to_predict\",\n",
    "    kind=\"kde\",\n",
    "    palette = \"colorblind\"\n",
    ")"
   ]
  },
  {
   "cell_type": "code",
   "execution_count": null,
   "metadata": {},
   "outputs": [],
   "source": [
    "sns.jointplot(\n",
    "    data= merged_train,\n",
    "    x=\"tBodyGyro-max()-Y130\", \n",
    "    y='tGravityAccMag-max()216',\n",
    "    hue=\"to_predict\",\n",
    "    kind=\"kde\",\n",
    "    palette = \"colorblind\"\n",
    ")"
   ]
  },
  {
   "cell_type": "code",
   "execution_count": null,
   "metadata": {},
   "outputs": [],
   "source": [
    "sns.jointplot(\n",
    "    data= merged_train,\n",
    "    x=\"tBodyGyro-std()-Z125\", \n",
    "    y='tBodyGyro-iqr()-Z141',\n",
    "    hue=\"to_predict\",\n",
    "    kind=\"kde\",\n",
    "    palette = \"colorblind\",\n",
    "    #alpha = 0.2\n",
    ")"
   ]
  },
  {
   "cell_type": "code",
   "execution_count": null,
   "metadata": {},
   "outputs": [],
   "source": [
    "sns.jointplot(\n",
    "    data= merged_train,\n",
    "    x=\"tBodyGyro-std()-Y124\",\n",
    "    y='tBodyGyro-iqr()-Y140',\n",
    "    hue=\"to_predict\",\n",
    "    kind=\"kde\",\n",
    "    palette = \"colorblind\"\n",
    ")"
   ]
  },
  {
   "cell_type": "code",
   "execution_count": null,
   "metadata": {},
   "outputs": [],
   "source": [
    "sns.jointplot(\n",
    "    data=  merged_train,\n",
    "    x=\"tBodyGyro-min()-Z134\",\n",
    "    y='tBodyGyro-max()-Z131',\n",
    "    hue=\"to_predict\",\n",
    "    kind=\"kde\",\n",
    "    palette = \"colorblind\"\n",
    ")"
   ]
  },
  {
   "cell_type": "code",
   "execution_count": null,
   "metadata": {},
   "outputs": [],
   "source": [
    "sns.jointplot(\n",
    "    data= merged_train,\n",
    "    x=\"tBodyGyro-min()-Y133\",\n",
    "    y='tBodyGyro-max()-Y130',\n",
    "    hue=\"to_predict\",\n",
    "    kind=\"kde\",\n",
    "    palette=\"colorblind\"\n",
    ")"
   ]
  },
  {
   "cell_type": "code",
   "execution_count": null,
   "metadata": {},
   "outputs": [],
   "source": [
    "sns.jointplot(\n",
    "    data= merged_train,\n",
    "    x=\"tBodyGyro-std()-Y124\",\n",
    "    y='tBodyGyro-std()-Z125',\n",
    "    hue=\"to_predict\",\n",
    "    kind=\"kde\",\n",
    "    palette = \"colorblind\"\n",
    ")"
   ]
  },
  {
   "cell_type": "code",
   "execution_count": null,
   "metadata": {},
   "outputs": [],
   "source": [
    "sns.jointplot(\n",
    "    data= merged_train,\n",
    "    x=\"tBodyGyro-std()-X123\", \n",
    "    y='tBodyGyro-std()-Z125',\n",
    "    hue=\"to_predict\",\n",
    "    kind=\"kde\",\n",
    "    palette = \"colorblind\"\n",
    ")"
   ]
  },
  {
   "cell_type": "code",
   "execution_count": null,
   "metadata": {},
   "outputs": [],
   "source": [
    "sns.jointplot(\n",
    "    data= merged_train,\n",
    "    x=\"tBodyGyro-std()-X123\",\n",
    "    y='tBodyGyroJerkMag-iqr()259',\n",
    "    hue=\"to_predict\",\n",
    "    kind=\"kde\",\n",
    "    palette = \"colorblind\"\n",
    ")"
   ]
  },
  {
   "cell_type": "code",
   "execution_count": null,
   "metadata": {},
   "outputs": [],
   "source": [
    "sns.jointplot(\n",
    "    data= merged_train,\n",
    "    x=\"tBodyGyro-min()-Z134\",\n",
    "    y='tBodyGyro-std()-Z125',\n",
    "    hue=\"to_predict\",\n",
    "    kind=\"kde\",\n",
    "    palette = \"colorblind\"\n",
    ")"
   ]
  },
  {
   "cell_type": "code",
   "execution_count": null,
   "metadata": {},
   "outputs": [],
   "source": [
    "sns.jointplot(\n",
    "    data= merged_train,\n",
    "    x=\"tBodyGyro-min()-Z134\",\n",
    "    y='tBodyGyroJerkMag-max()255',\n",
    "    hue=\"to_predict\",\n",
    "    kind=\"kde\",\n",
    "    palette = \"colorblind\"\n",
    ")"
   ]
  },
  {
   "cell_type": "code",
   "execution_count": null,
   "metadata": {},
   "outputs": [],
   "source": [
    "sns.jointplot(\n",
    "    data= merged_train,\n",
    "    x=\"tBodyGyro-min()-Z134\",\n",
    "    y='tBodyGyroJerk-max()-Z171',\n",
    "    hue=\"to_predict\",\n",
    "    kind=\"kde\",\n",
    "    palette = \"colorblind\"\n",
    ")"
   ]
  },
  {
   "cell_type": "code",
   "execution_count": null,
   "metadata": {},
   "outputs": [],
   "source": [
    "sns.jointplot(\n",
    "    data= merged_train,\n",
    "    x=\"tBodyGyroJerk-std()-X163\",\n",
    "    y='tBodyGyroJerk-max()-Z171',\n",
    "    hue=\"to_predict\",\n",
    "    kind=\"kde\",\n",
    "    palette = \"colorblind\"\n",
    ")"
   ]
  },
  {
   "cell_type": "code",
   "execution_count": null,
   "metadata": {},
   "outputs": [],
   "source": [
    "sns.jointplot(\n",
    "    data= merged_train,\n",
    "    x=\"tBodyGyroJerk-std()-Y164\",\n",
    "    y='tBodyGyroJerk-max()-Z171',\n",
    "    hue=\"to_predict\",\n",
    "    kind=\"kde\",\n",
    "    palette = \"colorblind\"\n",
    ")"
   ]
  },
  {
   "cell_type": "code",
   "execution_count": null,
   "metadata": {},
   "outputs": [],
   "source": [
    "sns.jointplot(\n",
    "    data= merged_train,\n",
    "    x=\"tBodyGyroJerk-std()-Y164\",\n",
    "    y='tBodyGyroJerk-max()-Y170',\n",
    "    hue=\"to_predict\",\n",
    "    #kind=\"kde\",\n",
    "    alpha = 0.2,\n",
    "    palette = \"colorblind\"\n",
    ")"
   ]
  },
  {
   "cell_type": "code",
   "execution_count": null,
   "metadata": {},
   "outputs": [],
   "source": [
    "sns.jointplot(\n",
    "    data= merged_train,\n",
    "    x=\"tBodyGyroJerk-std()-Y164\",\n",
    "    y='tBodyGyroJerkMag-iqr()259',\n",
    "    hue=\"to_predict\",\n",
    "    #kind=\"kde\",\n",
    "    alpha = 0.2,\n",
    "    palette = \"colorblind\"\n",
    ")"
   ]
  },
  {
   "cell_type": "code",
   "execution_count": null,
   "metadata": {},
   "outputs": [],
   "source": [
    "sns.jointplot(\n",
    "    data= merged_train,\n",
    "    x=\"tGravityAccMag-max()216\",\n",
    "    y='tBodyGyroJerkMag-iqr()259',\n",
    "    hue=\"to_predict\",\n",
    "    kind=\"kde\",\n",
    "    palette = \"colorblind\"\n",
    ")"
   ]
  },
  {
   "cell_type": "code",
   "execution_count": null,
   "metadata": {},
   "outputs": [],
   "source": [
    "sns.jointplot(\n",
    "    data= merged_train,\n",
    "    x=\"tBodyGyro-iqr()-Z141\",\n",
    "    y='tBodyGyroJerkMag-iqr()259',\n",
    "    hue=\"to_predict\",\n",
    "    kind=\"kde\",\n",
    "    palette = \"colorblind\"\n",
    ")"
   ]
  },
  {
   "cell_type": "code",
   "execution_count": null,
   "metadata": {},
   "outputs": [],
   "source": [
    "sns.jointplot(\n",
    "    data= merged_train,\n",
    "    x=\"tBodyAcc-mean()-Z2\",\n",
    "    y='tGravityAccMag-max()216',\n",
    "    hue=\"to_predict\",\n",
    "    #kind=\"kde\",\n",
    "    alpha = 0.2,\n",
    "    palette = \"colorblind\"\n",
    ")"
   ]
  },
  {
   "cell_type": "code",
   "execution_count": null,
   "metadata": {},
   "outputs": [],
   "source": [
    "sns.jointplot(\n",
    "    data= merged_train,\n",
    "    x=\"tGravityAccMag-std()214\",\n",
    "    y='tGravityAccMag-max()216',\n",
    "    hue=\"to_predict\",\n",
    "    #kind=\"kde\",\n",
    "    palette = \"colorblind\",\n",
    "    alpha = 0.2\n",
    ")"
   ]
  },
  {
   "cell_type": "code",
   "execution_count": null,
   "metadata": {},
   "outputs": [],
   "source": [
    "sns.jointplot(\n",
    "    data= merged_train,\n",
    "    x=\"tGravityAccMag-std()214\",\n",
    "    y='tBodyAcc-iqr()-Z21',\n",
    "    hue=\"to_predict\",\n",
    "    kind=\"kde\",\n",
    "    palette = \"colorblind\"\n",
    ")"
   ]
  },
  {
   "cell_type": "code",
   "execution_count": null,
   "metadata": {},
   "outputs": [],
   "source": [
    "sns.jointplot(\n",
    "    data= merged_train,\n",
    "    x=\"tGravityAccMag-iqr()220\",\n",
    "    y='tGravityAccMag-min()217',\n",
    "    hue=\"to_predict\",\n",
    "    kind=\"kde\",\n",
    "    palette = \"colorblind\"\n",
    ")"
   ]
  },
  {
   "cell_type": "code",
   "execution_count": null,
   "metadata": {},
   "outputs": [],
   "source": [
    "sns.jointplot(\n",
    "    data= merged_train,\n",
    "    x=\"tBodyAccJerk-min()-Z94\",\n",
    "    y='tGravityAccMag-min()217',\n",
    "    hue=\"to_predict\",\n",
    "    #kind=\"kde\",\n",
    "    palette = \"colorblind\",\n",
    "   \n",
    ")"
   ]
  },
  {
   "cell_type": "code",
   "execution_count": null,
   "metadata": {},
   "outputs": [],
   "source": [
    "sns.jointplot(\n",
    "    data= merged_train,\n",
    "    x=\"tBodyAccJerk-min()-Y93\",\n",
    "    y='tGravityAccMag-min()217',\n",
    "    hue=\"to_predict\",\n",
    "    #kind=\"kde\",\n",
    "    alpha = 0.2,\n",
    "    palette = \"colorblind\"\n",
    ")"
   ]
  },
  {
   "cell_type": "code",
   "execution_count": null,
   "metadata": {},
   "outputs": [],
   "source": [
    "sns.jointplot(\n",
    "    data= merged_train,\n",
    "    x=\"tBodyAccJerk-min()-Y93\",\n",
    "    y='tBodyAccJerkMag-iqr()233',\n",
    "    hue=\"to_predict\",\n",
    "    kind=\"kde\",\n",
    "    palette = \"colorblind\"\n",
    ")"
   ]
  },
  {
   "cell_type": "code",
   "execution_count": null,
   "metadata": {},
   "outputs": [],
   "source": [
    "import seaborn as sns"
   ]
  },
  {
   "cell_type": "code",
   "execution_count": null,
   "metadata": {},
   "outputs": [],
   "source": [
    "from matplotlib.pyplot import figure\n",
    "figure(num=None, figsize=(8, 6), dpi=80)\n",
    "\n",
    "corrMatrix = merged_train.corr()\n",
    "sns.heatmap(corrMatrix)\n",
    "plt.show()"
   ]
  },
  {
   "cell_type": "code",
   "execution_count": null,
   "metadata": {},
   "outputs": [],
   "source": [
    "sns.jointplot(\n",
    "    data= merged_train,\n",
    "    x=\"tBodyAccJerk-iqr()-Y100\",\n",
    "    y='tBodyAccMag-max()203',\n",
    "    hue=\"to_predict\",\n",
    "    kind=\"kde\",\n",
    "    palette = \"colorblind\"\n",
    ")"
   ]
  },
  {
   "cell_type": "code",
   "execution_count": null,
   "metadata": {},
   "outputs": [],
   "source": [
    "sns.jointplot(\n",
    "    data= merged_train,\n",
    "    x=\"tBodyAccJerk-iqr()-Y100\",\n",
    "    y='tBodyAcc-mean()-Y1',\n",
    "    hue=\"to_predict\",\n",
    "    kind=\"kde\",\n",
    "    palette = \"colorblind\"\n",
    ")"
   ]
  },
  {
   "cell_type": "code",
   "execution_count": null,
   "metadata": {},
   "outputs": [],
   "source": [
    "sns.jointplot(\n",
    "    data= merged_train,\n",
    "    x=\"tBodyAcc-min()-Y13\", \n",
    "    y='tBodyAcc-max()-Z11',\n",
    "    hue=\"to_predict\",\n",
    "    #kind=\"kde\",\n",
    "    alpha=0.2,\n",
    "    palette = \"colorblind\"\n",
    ")"
   ]
  },
  {
   "cell_type": "code",
   "execution_count": null,
   "metadata": {},
   "outputs": [],
   "source": [
    "sns.jointplot( \n",
    "    data= merged_train,\n",
    "    x=\"tBodyAccJerk-iqr()-Y100\",\n",
    "    y='tBodyAccJerk-std()-X83',\n",
    "    hue=\"to_predict\",\n",
    "    kind=\"kde\",\n",
    "    palette = \"colorblind\"\n",
    ")"
   ]
  },
  {
   "cell_type": "code",
   "execution_count": null,
   "metadata": {},
   "outputs": [],
   "source": [
    "sns.jointplot(\n",
    "    data= merged_train,\n",
    "    x=\"tBodyAccJerk-iqr()-Y100\",\n",
    "    y='tBodyAcc-iqr()-X19',\n",
    "    hue=\"to_predict\",\n",
    "    kind=\"kde\",\n",
    "    palette = \"colorblind\"\n",
    ")"
   ]
  },
  {
   "cell_type": "code",
   "execution_count": null,
   "metadata": {},
   "outputs": [],
   "source": [
    "sns.jointplot(\n",
    "    data= merged_train,\n",
    "    x=\"tBodyAcc-min()-Y13\",\n",
    "    y='tBodyAcc-iqr()-X19',\n",
    "    hue=\"to_predict\",\n",
    "    kind=\"kde\",\n",
    "    palette = \"colorblind\"\n",
    ")"
   ]
  },
  {
   "cell_type": "code",
   "execution_count": null,
   "metadata": {},
   "outputs": [],
   "source": [
    "sns.jointplot(\n",
    "    data= merged_train,\n",
    "    x=\"tBodyAcc-min()-Y13\",\n",
    "    y='tBodyAcc-iqr()-X19',\n",
    "    hue=\"to_predict\",\n",
    "   kind=\"kde\",\n",
    "    palette = \"colorblind\"\n",
    ")"
   ]
  },
  {
   "cell_type": "code",
   "execution_count": null,
   "metadata": {},
   "outputs": [],
   "source": [
    "sns.jointplot(\n",
    "    data=merged_train,\n",
    "    x=\"tBodyAcc-mean()-X0\",\n",
    "    y=\"tBodyAcc-mean()-Z2\",\n",
    "    hue = \"to_predict\",\n",
    "palette = \"colorblind\",\n",
    "    #kind = \"kde\"\n",
    ")"
   ]
  },
  {
   "cell_type": "code",
   "execution_count": null,
   "metadata": {},
   "outputs": [],
   "source": [
    "sns.jointplot(\n",
    "    data=merged_train,\n",
    "    x=\"tBodyAcc-mean()-X0\",\n",
    "    y=\"tBodyAcc-max()-Z11\",\n",
    "    hue = \"to_predict\",\n",
    "palette = \"colorblind\")"
   ]
  },
  {
   "cell_type": "code",
   "execution_count": null,
   "metadata": {},
   "outputs": [],
   "source": [
    "sns.jointplot(\n",
    "    data=merged_train,\n",
    "    x=\"tBodyAcc-min()-X12\",\n",
    "    y=\"tBodyAcc-max()-Z11\",\n",
    "    hue = \"to_predict\",\n",
    "    palette = \"colorblind\",\n",
    "   # kind = \"kde\"\n",
    ")"
   ]
  },
  {
   "cell_type": "code",
   "execution_count": null,
   "metadata": {},
   "outputs": [],
   "source": [
    "sns.jointplot(\n",
    "    data=merged_train,\n",
    "    x=\"tBodyAcc-iqr()-Z21\",\n",
    "    y=\"tBodyAcc-max()-Z11\",\n",
    "    hue = \"to_predict\",\n",
    "palette = \"colorblind\",\n",
    "    #kind = \"kde\"\n",
    ")"
   ]
  },
  {
   "cell_type": "code",
   "execution_count": null,
   "metadata": {},
   "outputs": [],
   "source": [
    "sns.jointplot(\n",
    "    data=merged_train,\n",
    "    x=\"tBodyAccJerkMag-max()229\",\n",
    "    y=\"tBodyAcc-iqr()-Y20\",\n",
    "    hue = \"to_predict\",\n",
    "palette = \"colorblind\",\n",
    "kind = \"kde\"\n",
    ")"
   ]
  },
  {
   "cell_type": "code",
   "execution_count": null,
   "metadata": {},
   "outputs": [],
   "source": [
    "sns.jointplot(\n",
    "    data=merged_train,\n",
    "    x=\"tBodyAcc-iqr()-X19\",\n",
    "    y=\"tBodyAccJerk-std()-Y84\",\n",
    "    hue = \"to_predict\",\n",
    "palette = \"colorblind\",\n",
    "#kind = \"kde\"\n",
    ")"
   ]
  },
  {
   "cell_type": "code",
   "execution_count": null,
   "metadata": {},
   "outputs": [],
   "source": [
    "sns.jointplot(\n",
    "    data=merged_train,\n",
    "    x=\"tBodyAcc-iqr()-Y20\",\n",
    "    y=\"tBodyAccJerk-iqr()-Y100\",\n",
    "    hue = \"to_predict\",\n",
    "palette = \"colorblind\",\n",
    "kind = \"kde\")"
   ]
  },
  {
   "cell_type": "code",
   "execution_count": null,
   "metadata": {},
   "outputs": [],
   "source": [
    "sns.jointplot(\n",
    "    data=merged_train,\n",
    "    x=\"tBodyAccJerk-mean()-X80\",\n",
    "    y=\"tBodyAccJerk-std()-Y84\",\n",
    "    hue = \"to_predict\",\n",
    "palette = \"colorblind\"\n",
    ")"
   ]
  },
  {
   "cell_type": "code",
   "execution_count": null,
   "metadata": {},
   "outputs": [],
   "source": [
    "sns.relplot(\n",
    "    data=only_fBodyAcc,\n",
    "    x=\"fBodyAcc-std()-Y269\",\n",
    "    y=\"fBodyAccJerk-mean()-X344\",\n",
    "    hue = \"to_predict\")"
   ]
  },
  {
   "cell_type": "code",
   "execution_count": null,
   "metadata": {},
   "outputs": [],
   "source": [
    "sns.jointplot(\n",
    "    data=merged_train,\n",
    "    x=\"tBodyAcc-max()-Z11\",\n",
    "    y='tBodyAccJerk-max()-Z91',\n",
    "    hue = \"to_predict\",\n",
    "palette = \"colorblind\",\n",
    "kind = \"kde\")"
   ]
  },
  {
   "cell_type": "code",
   "execution_count": null,
   "metadata": {},
   "outputs": [],
   "source": [
    "sns.jointplot(\n",
    "    data= merged_train,\n",
    "    x=\"tBodyAcc-max()-Z11\",\n",
    "    y='tBodyAccJerk-min()-Z94',\n",
    "    hue = \"to_predict\",\n",
    "    palette = \"colorblind\",\n",
    "    kind = \"kde\"\n",
    ")"
   ]
  },
  {
   "cell_type": "code",
   "execution_count": null,
   "metadata": {},
   "outputs": [],
   "source": [
    "sns.jointplot(\n",
    "    data=merged_train,\n",
    "    x=\"tBodyAcc-max()-Z11\",\n",
    "    y='tBodyAcc-min()-Y13',\n",
    "    hue = \"to_predict\",\n",
    "    palette = \"colorblind\",\n",
    "    kind = \"kde\"\n",
    ")"
   ]
  },
  {
   "cell_type": "code",
   "execution_count": null,
   "metadata": {},
   "outputs": [],
   "source": [
    "sns.jointplot(\n",
    "    data=merged_train,\n",
    "    x=\"tBodyAcc-max()-Z11\",\n",
    "    y='tBodyAcc-min()-Y13',\n",
    "    hue = \"to_predict\",kind=\"kde\",\n",
    "palette = \"colorblind\",\n",
    "    #kind = \"kde\"\n",
    ")"
   ]
  },
  {
   "cell_type": "code",
   "execution_count": null,
   "metadata": {},
   "outputs": [],
   "source": [
    "sns.jointplot(\n",
    "    data=merged_train,\n",
    "    x=\"tBodyAcc-max()-Z11\",\n",
    "    y='tBodyAcc-min()-Z14',\n",
    "    hue = \"to_predict\",\n",
    "palette = \"colorblind\",\n",
    "    kind = \"kde\"\n",
    ")"
   ]
  },
  {
   "cell_type": "code",
   "execution_count": null,
   "metadata": {},
   "outputs": [],
   "source": [
    "sns.jointplot(\n",
    "    data=merged_train,\n",
    "    x=\"tBodyAcc-iqr()-Y20\",\n",
    "    y='tBodyAcc-max()-Z11',\n",
    "    hue = \"to_predict\",\n",
    "palette = \"colorblind\",\n",
    "   # kind = \"kde\"\n",
    "    alpha = 0.1\n",
    ")"
   ]
  },
  {
   "cell_type": "code",
   "execution_count": null,
   "metadata": {},
   "outputs": [],
   "source": [
    "sns.jointplot(\n",
    "    data=merged_train,\n",
    "    x=\"fBodyAcc-mean()-Z267\",\n",
    "    y='tBodyAccJerkMag-min()230',\n",
    "    hue = \"to_predict\",\n",
    "palette = \"colorblind\",\n",
    "    #kind = \"kde\"\n",
    "    alpha = 0.2\n",
    ")"
   ]
  },
  {
   "cell_type": "code",
   "execution_count": null,
   "metadata": {},
   "outputs": [],
   "source": [
    "sns.jointplot(\n",
    "    data=merged_train,\n",
    "    x=\"tBodyAcc-max()-Z11\",\n",
    "    y='tBodyAcc-min()-Z14',\n",
    "    hue = \"to_predict\",\n",
    "    kind=\"kde\",\n",
    "    palette = \"colorblind\"\n",
    ")"
   ]
  },
  {
   "cell_type": "code",
   "execution_count": null,
   "metadata": {},
   "outputs": [],
   "source": [
    "sns.jointplot(\n",
    "    data=merged_train,\n",
    "    x=\"tBodyAcc-max()-Z11\",\n",
    "    y='tBodyAcc-min()-Z14',\n",
    "    hue = \"to_predict\",\n",
    "    #kind=\"kde\",\n",
    "    alpha = 0.2,\n",
    "    palette = \"colorblind\"\n",
    ")"
   ]
  }
 ],
 "metadata": {
  "kernelspec": {
   "display_name": "Python 3",
   "language": "python",
   "name": "python3"
  },
  "language_info": {
   "codemirror_mode": {
    "name": "ipython",
    "version": 3
   },
   "file_extension": ".py",
   "mimetype": "text/x-python",
   "name": "python",
   "nbconvert_exporter": "python",
   "pygments_lexer": "ipython3",
   "version": "3.8.5"
  }
 },
 "nbformat": 4,
 "nbformat_minor": 4
}
