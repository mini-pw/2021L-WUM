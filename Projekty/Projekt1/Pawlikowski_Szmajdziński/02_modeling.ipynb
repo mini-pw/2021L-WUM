{
 "cells": [
  {
   "cell_type": "code",
   "execution_count": null,
   "metadata": {},
   "outputs": [],
   "source": [
    "\n",
    "import matplotlib.pyplot as plt\n",
    "import numpy as np\n",
    "import pandas as pd\n",
    "import seaborn as sns\n",
    "import math\n",
    "from mpl_toolkits.mplot3d import Axes3D\n",
    "from sklearn.ensemble import RandomForestClassifier\n",
    "from sklearn.model_selection import train_test_split\n",
    "from sklearn import linear_model\n",
    "from sklearn.model_selection import GridSearchCV\n",
    "import warnings\n",
    "warnings.filterwarnings('ignore')\n",
    "from category_encoders import OneHotEncoder"
   ]
  },
  {
   "cell_type": "code",
   "execution_count": null,
   "metadata": {},
   "outputs": [],
   "source": [
    "data=pd.DataFrame(pd.read_json('https://api.apispreadsheets.com/api/dataset/school-grades/',orient='split'))"
   ]
  },
  {
   "cell_type": "code",
   "execution_count": null,
   "metadata": {},
   "outputs": [],
   "source": [
    "data.info()"
   ]
  },
  {
   "cell_type": "markdown",
   "metadata": {},
   "source": [
    "## Inżynieria cech \n",
    "### Kodowanie kategoryczne i dodanie kolumny \"Czy dostał 0 pkt\"\n",
    "\n",
    "Chcąc lepiej przewidywać wyniki postanowiliśmy inaczej potraktować osoby z zerowym wynikiem. Nasz plan jest taki, aby najpierw przewidywać czy osoba dostanie 0 pkt, a następnie, jeśli z przewidywania wyjdzie że nie powinna dostać 0 pkt, przewidujemy jej wynik."
   ]
  },
  {
   "cell_type": "code",
   "execution_count": null,
   "metadata": {},
   "outputs": [],
   "source": [
    "data['schoolsup'].describe()"
   ]
  },
  {
   "cell_type": "markdown",
   "metadata": {},
   "source": [
    "Wyrzucamy również kolumne dotyczącą edukacji ojca, gdyż z EDA wyszło nam że jest ona mocno skorelowana z edukacją matki. Postanowiliśmy wyrzucić jedną z tych cech."
   ]
  },
  {
   "cell_type": "code",
   "execution_count": null,
   "metadata": {},
   "outputs": [],
   "source": [
    "data = data.drop(labels = \"Fedu\", axis = 1)\n",
    "data = data.drop(labels = \"Fjob\", axis = 1)\n",
    "\n",
    "ce_one_hot = OneHotEncoder(cols = (\"Mjob\", \"sex\", \"school\",'famsize',\n",
    "                                   \"address\", \"Pstatus\", \"reason\",\n",
    "                                   \"guardian\", \"schoolsup\",'famsup', 'paid',\n",
    "                                   'activities', 'nursery', 'higher', 'internet', 'romantic' ))\n",
    "df = ce_one_hot.fit_transform(data)"
   ]
  },
  {
   "cell_type": "code",
   "execution_count": null,
   "metadata": {},
   "outputs": [],
   "source": [
    "a=df.shape[1]-3\n",
    "df=df.iloc[:,:a]"
   ]
  },
  {
   "cell_type": "code",
   "execution_count": null,
   "metadata": {},
   "outputs": [],
   "source": [
    "data['is_zero']=np.where(data['G3']==0,0,1)"
   ]
  },
  {
   "cell_type": "markdown",
   "metadata": {},
   "source": [
    "### Main grid search"
   ]
  },
  {
   "cell_type": "markdown",
   "metadata": {},
   "source": [
    "Na początku dla przetestowania, czy osiągniemy lepsze efekty dzieląc modelowanie na dwa etapy sprawdzamy jakość wybranych modeli bez podziału."
   ]
  },
  {
   "cell_type": "code",
   "execution_count": null,
   "metadata": {},
   "outputs": [],
   "source": [
    " x_train2, x_test2, y_train2, y_test2 = train_test_split(df, data[\"G3\"],test_size=0.3, random_state=0)"
   ]
  },
  {
   "cell_type": "code",
   "execution_count": null,
   "metadata": {},
   "outputs": [],
   "source": [
    "model_params2={\n",
    "    'linear_regression':{\n",
    "        'model': linear_model.LinearRegression(),\n",
    "        'params': {}\n",
    "    },\n",
    "    'lasso':{\n",
    "        'model': linear_model.Lasso(random_state=15),\n",
    "        'params':{\n",
    "            'alpha':[0.1,1,0],\n",
    "            'normalize':['True','False']\n",
    "        }\n",
    "    },\n",
    "    'svm':{\n",
    "            'model': svm.SVC(gamma='auto', tol=1e-1, cache_size=2000, max_iter=1500),\n",
    "            'params': {\n",
    "                'C': [0.001, 0.01, 0.1, 1, 3, 10, 30],\n",
    "                'kernel': ['linear', 'rbf']\n",
    "            }\n",
    "    }\n",
    "}"
   ]
  },
  {
   "cell_type": "code",
   "execution_count": null,
   "metadata": {},
   "outputs": [],
   "source": [
    "results2=[]\n",
    "\n",
    "from sklearn.metrics import mean_squared_error\n",
    "\n",
    "for name, param in model_params2.items():\n",
    "    classifier=GridSearchCV(param['model'],param['params'],cv=6,return_train_score=False)\n",
    "    classifier.fit(x_train2,  y_train2)\n",
    "    model_performance = np.sqrt(mean_squared_error(classifier.predict(x_test2),y_test2, squared=True))\n",
    "    results2.append({\n",
    "        'model': name,\n",
    "        'best_score': classifier.best_score_,\n",
    "        'best_params': classifier.best_params_,\n",
    "        'RMSE': model_performance\n",
    "    })\n",
    "results2                                                           "
   ]
  },
  {
   "cell_type": "code",
   "execution_count": null,
   "metadata": {},
   "outputs": [],
   "source": [
    "sns.displot(classifier.predict(x_test2))"
   ]
  },
  {
   "cell_type": "code",
   "execution_count": null,
   "metadata": {},
   "outputs": [],
   "source": [
    "sns.displot(y_test2)"
   ]
  },
  {
   "cell_type": "markdown",
   "metadata": {},
   "source": [
    "### Grid search: \"Czy studenci dostali 0?\""
   ]
  },
  {
   "cell_type": "code",
   "execution_count": null,
   "metadata": {},
   "outputs": [],
   "source": [
    " x_train, x_test, y_train, y_test = train_test_split(df, data[\"is_zero\"],test_size=0.3, random_state=0)"
   ]
  },
  {
   "cell_type": "code",
   "execution_count": null,
   "metadata": {},
   "outputs": [],
   "source": [
    "from sklearn import svm"
   ]
  },
  {
   "cell_type": "code",
   "execution_count": null,
   "metadata": {},
   "outputs": [],
   "source": [
    "from sklearn.linear_model import LogisticRegression\n",
    "\n",
    "model_params={\n",
    "    'random_forest':{\n",
    "        'model': RandomForestClassifier(random_state=15),\n",
    "        'params': {\n",
    "            'n_estimators':[1,3,8,13],\n",
    "            'min_samples_split': [3,5,10,20]\n",
    "        }\n",
    "    },\n",
    "    'logistic_regession':{\n",
    "        'model': LogisticRegression(random_state=15, solver='liblinear'),\n",
    "        'params':{\n",
    "            'C':[1,5,10],\n",
    "            'penalty':['l1','l2','elasticnet']\n",
    "        }\n",
    "    },\n",
    "    'svm':{\n",
    "            'model': svm.SVC(gamma='auto', tol=1e-1, cache_size=2000, max_iter=1500),\n",
    "            'params': {\n",
    "                'C': [0.001, 0.01, 0.1, 1, 3, 10, 30],\n",
    "                'kernel': ['linear', 'rbf']\n",
    "            }\n",
    "    }\n",
    "}"
   ]
  },
  {
   "cell_type": "code",
   "execution_count": null,
   "metadata": {},
   "outputs": [],
   "source": [
    "results=[]\n",
    "for name, param in model_params.items():\n",
    "    classifier=GridSearchCV(param['model'],param['params'],cv=6,return_train_score=False)\n",
    "    classifier.fit(x_train,  y_train)\n",
    "    results.append({\n",
    "        'model': name,\n",
    "        'best_score': classifier.best_score_,\n",
    "        'best_params': classifier.best_params_\n",
    "    })\n",
    "results"
   ]
  },
  {
   "cell_type": "code",
   "execution_count": null,
   "metadata": {},
   "outputs": [],
   "source": [
    "only_good_data=df.loc[data.is_zero==1]"
   ]
  },
  {
   "cell_type": "code",
   "execution_count": null,
   "metadata": {},
   "outputs": [],
   "source": [
    "data2=data.loc[data.is_zero==1]"
   ]
  },
  {
   "cell_type": "code",
   "execution_count": null,
   "metadata": {},
   "outputs": [],
   "source": [
    " x_train3, x_test3, y_train3, y_test3 = train_test_split(only_good_data, data2[\"G3\"],test_size=0.3, random_state=0)"
   ]
  },
  {
   "cell_type": "code",
   "execution_count": null,
   "metadata": {},
   "outputs": [],
   "source": [
    "results3=[]\n",
    "\n",
    "from sklearn.metrics import mean_squared_error\n",
    "\n",
    "for name, param in model_params2.items():\n",
    "    classifier=GridSearchCV(param['model'],param['params'],cv=6,return_train_score=False)\n",
    "    classifier.fit(x_train3,  y_train3)\n",
    "    model_performance = np.sqrt(mean_squared_error(classifier.predict(x_test3),y_test3, squared=True))\n",
    "    results3.append({\n",
    "        'model': name,\n",
    "        'best_score': classifier.best_score_,\n",
    "        'best_params': classifier.best_params_,\n",
    "        'RMSE': model_performance\n",
    "    })\n",
    "results3"
   ]
  },
  {
   "cell_type": "code",
   "execution_count": null,
   "metadata": {},
   "outputs": [],
   "source": [
    "sns.displot(classifier.predict(x_test2))"
   ]
  },
  {
   "cell_type": "code",
   "execution_count": null,
   "metadata": {},
   "outputs": [],
   "source": [
    "sns.displot(y_test3)"
   ]
  },
  {
   "cell_type": "code",
   "execution_count": null,
   "metadata": {},
   "outputs": [],
   "source": []
  },
  {
   "cell_type": "code",
   "execution_count": null,
   "metadata": {},
   "outputs": [],
   "source": []
  }
 ],
 "metadata": {
  "kernelspec": {
   "display_name": "Python 3",
   "language": "python",
   "name": "python3"
  },
  "language_info": {
   "codemirror_mode": {
    "name": "ipython",
    "version": 3
   },
   "file_extension": ".py",
   "mimetype": "text/x-python",
   "name": "python",
   "nbconvert_exporter": "python",
   "pygments_lexer": "ipython3",
   "version": "3.8.5"
  }
 },
 "nbformat": 4,
 "nbformat_minor": 4
}
